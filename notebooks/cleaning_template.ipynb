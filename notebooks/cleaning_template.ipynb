{
 "cells": [
  {
   "cell_type": "markdown",
   "id": "debd55e9",
   "metadata": {},
   "source": [
    "# Project: Building MySQL Database for VHS Rental Store | Cristiane Carneiro"
   ]
  },
  {
   "cell_type": "markdown",
   "id": "ae6f75e7",
   "metadata": {},
   "source": [
    "## Data Cleaning : actors.csv"
   ]
  },
  {
   "cell_type": "markdown",
   "id": "750a099a",
   "metadata": {},
   "source": [
    "In this file, one can review the step by step cleaning process for table actors.csv "
   ]
  },
  {
   "cell_type": "markdown",
   "id": "22ddbda6",
   "metadata": {},
   "source": [
    "### Import "
   ]
  },
  {
   "cell_type": "markdown",
   "id": "48ed7626",
   "metadata": {},
   "source": [
    "### Good practices"
   ]
  },
  {
   "cell_type": "markdown",
   "id": "5e54719b",
   "metadata": {},
   "source": [
    "### Explore "
   ]
  },
  {
   "cell_type": "markdown",
   "id": "c1c43dc7",
   "metadata": {},
   "source": [
    "### Null values"
   ]
  },
  {
   "cell_type": "markdown",
   "id": "0be41418",
   "metadata": {},
   "source": [
    "### Other cleaning "
   ]
  },
  {
   "cell_type": "markdown",
   "id": "28819ac0",
   "metadata": {},
   "source": [
    "### Column types and optimization "
   ]
  },
  {
   "cell_type": "markdown",
   "id": "45691e68",
   "metadata": {},
   "source": [
    "### Export clean table"
   ]
  },
  {
   "cell_type": "code",
   "execution_count": null,
   "id": "869d0cc5",
   "metadata": {},
   "outputs": [],
   "source": []
  }
 ],
 "metadata": {
  "kernelspec": {
   "display_name": "clase",
   "language": "python",
   "name": "clase"
  },
  "language_info": {
   "codemirror_mode": {
    "name": "ipython",
    "version": 3
   },
   "file_extension": ".py",
   "mimetype": "text/x-python",
   "name": "python",
   "nbconvert_exporter": "python",
   "pygments_lexer": "ipython3",
   "version": "3.10.13"
  }
 },
 "nbformat": 4,
 "nbformat_minor": 5
}
