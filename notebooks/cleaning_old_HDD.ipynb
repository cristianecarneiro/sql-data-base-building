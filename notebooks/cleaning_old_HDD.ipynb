{
 "cells": [
  {
   "cell_type": "markdown",
   "id": "71c75516",
   "metadata": {},
   "source": [
    "# Project: Building MySQL Database for VHS Rental Store | Cristiane Carneiro"
   ]
  },
  {
   "cell_type": "markdown",
   "id": "9d35d8f0",
   "metadata": {},
   "source": [
    "## Data Cleaning : old_HDD.csv"
   ]
  },
  {
   "cell_type": "markdown",
   "id": "f5a4c7a3",
   "metadata": {},
   "source": [
    "In this file, one can review the step by step cleaning process for table old_HDD.csv "
   ]
  },
  {
   "cell_type": "markdown",
   "id": "cd3e799c",
   "metadata": {},
   "source": [
    "We were told this is a database that was 'lost' among the other files - let us see if it can be useful!"
   ]
  },
  {
   "cell_type": "markdown",
   "id": "806d24b8",
   "metadata": {},
   "source": [
    "### Import "
   ]
  },
  {
   "cell_type": "markdown",
   "id": "7f70c10f",
   "metadata": {},
   "source": [
    "We start by importing the libraries we are going to use and loading the database"
   ]
  },
  {
   "cell_type": "code",
   "execution_count": 58,
   "id": "c77a9833",
   "metadata": {},
   "outputs": [
    {
     "name": "stdout",
     "output_type": "stream",
     "text": [
      "Requirement already satisfied: ipython in /Users/criscarneiro/anaconda3/envs/clase/lib/python3.10/site-packages (8.16.1)\n",
      "Requirement already satisfied: backcall in /Users/criscarneiro/anaconda3/envs/clase/lib/python3.10/site-packages (from ipython) (0.2.0)\n",
      "Requirement already satisfied: decorator in /Users/criscarneiro/anaconda3/envs/clase/lib/python3.10/site-packages (from ipython) (5.1.1)\n",
      "Requirement already satisfied: jedi>=0.16 in /Users/criscarneiro/anaconda3/envs/clase/lib/python3.10/site-packages (from ipython) (0.19.1)\n",
      "Requirement already satisfied: matplotlib-inline in /Users/criscarneiro/anaconda3/envs/clase/lib/python3.10/site-packages (from ipython) (0.1.6)\n",
      "Requirement already satisfied: pickleshare in /Users/criscarneiro/anaconda3/envs/clase/lib/python3.10/site-packages (from ipython) (0.7.5)\n",
      "Requirement already satisfied: prompt-toolkit!=3.0.37,<3.1.0,>=3.0.30 in /Users/criscarneiro/anaconda3/envs/clase/lib/python3.10/site-packages (from ipython) (3.0.39)\n",
      "Requirement already satisfied: pygments>=2.4.0 in /Users/criscarneiro/anaconda3/envs/clase/lib/python3.10/site-packages (from ipython) (2.16.1)\n",
      "Requirement already satisfied: stack-data in /Users/criscarneiro/anaconda3/envs/clase/lib/python3.10/site-packages (from ipython) (0.6.3)\n",
      "Requirement already satisfied: traitlets>=5 in /Users/criscarneiro/anaconda3/envs/clase/lib/python3.10/site-packages (from ipython) (5.11.2)\n",
      "Requirement already satisfied: exceptiongroup in /Users/criscarneiro/anaconda3/envs/clase/lib/python3.10/site-packages (from ipython) (1.1.3)\n",
      "Requirement already satisfied: pexpect>4.3 in /Users/criscarneiro/anaconda3/envs/clase/lib/python3.10/site-packages (from ipython) (4.8.0)\n",
      "Requirement already satisfied: appnope in /Users/criscarneiro/anaconda3/envs/clase/lib/python3.10/site-packages (from ipython) (0.1.3)\n",
      "Requirement already satisfied: parso<0.9.0,>=0.8.3 in /Users/criscarneiro/anaconda3/envs/clase/lib/python3.10/site-packages (from jedi>=0.16->ipython) (0.8.3)\n",
      "Requirement already satisfied: ptyprocess>=0.5 in /Users/criscarneiro/anaconda3/envs/clase/lib/python3.10/site-packages (from pexpect>4.3->ipython) (0.7.0)\n",
      "Requirement already satisfied: wcwidth in /Users/criscarneiro/anaconda3/envs/clase/lib/python3.10/site-packages (from prompt-toolkit!=3.0.37,<3.1.0,>=3.0.30->ipython) (0.2.8)\n",
      "Requirement already satisfied: executing>=1.2.0 in /Users/criscarneiro/anaconda3/envs/clase/lib/python3.10/site-packages (from stack-data->ipython) (2.0.0)\n",
      "Requirement already satisfied: asttokens>=2.1.0 in /Users/criscarneiro/anaconda3/envs/clase/lib/python3.10/site-packages (from stack-data->ipython) (2.4.0)\n",
      "Requirement already satisfied: pure-eval in /Users/criscarneiro/anaconda3/envs/clase/lib/python3.10/site-packages (from stack-data->ipython) (0.2.2)\n",
      "Requirement already satisfied: six>=1.12.0 in /Users/criscarneiro/anaconda3/envs/clase/lib/python3.10/site-packages (from asttokens>=2.1.0->stack-data->ipython) (1.16.0)\n",
      "Note: you may need to restart the kernel to use updated packages.\n",
      "Requirement already satisfied: seaborn in /Users/criscarneiro/anaconda3/envs/clase/lib/python3.10/site-packages (0.13.0)\n",
      "Requirement already satisfied: numpy!=1.24.0,>=1.20 in /Users/criscarneiro/anaconda3/envs/clase/lib/python3.10/site-packages (from seaborn) (1.26.1)\n",
      "Requirement already satisfied: pandas>=1.2 in /Users/criscarneiro/anaconda3/envs/clase/lib/python3.10/site-packages (from seaborn) (2.1.1)\n",
      "Requirement already satisfied: matplotlib!=3.6.1,>=3.3 in /Users/criscarneiro/anaconda3/envs/clase/lib/python3.10/site-packages (from seaborn) (3.8.0)\n",
      "Requirement already satisfied: contourpy>=1.0.1 in /Users/criscarneiro/anaconda3/envs/clase/lib/python3.10/site-packages (from matplotlib!=3.6.1,>=3.3->seaborn) (1.1.1)\n",
      "Requirement already satisfied: cycler>=0.10 in /Users/criscarneiro/anaconda3/envs/clase/lib/python3.10/site-packages (from matplotlib!=3.6.1,>=3.3->seaborn) (0.12.1)\n",
      "Requirement already satisfied: fonttools>=4.22.0 in /Users/criscarneiro/anaconda3/envs/clase/lib/python3.10/site-packages (from matplotlib!=3.6.1,>=3.3->seaborn) (4.43.1)\n",
      "Requirement already satisfied: kiwisolver>=1.0.1 in /Users/criscarneiro/anaconda3/envs/clase/lib/python3.10/site-packages (from matplotlib!=3.6.1,>=3.3->seaborn) (1.4.5)\n",
      "Requirement already satisfied: packaging>=20.0 in /Users/criscarneiro/anaconda3/envs/clase/lib/python3.10/site-packages (from matplotlib!=3.6.1,>=3.3->seaborn) (23.2)\n",
      "Requirement already satisfied: pillow>=6.2.0 in /Users/criscarneiro/anaconda3/envs/clase/lib/python3.10/site-packages (from matplotlib!=3.6.1,>=3.3->seaborn) (10.1.0)\n",
      "Requirement already satisfied: pyparsing>=2.3.1 in /Users/criscarneiro/anaconda3/envs/clase/lib/python3.10/site-packages (from matplotlib!=3.6.1,>=3.3->seaborn) (3.1.1)\n",
      "Requirement already satisfied: python-dateutil>=2.7 in /Users/criscarneiro/anaconda3/envs/clase/lib/python3.10/site-packages (from matplotlib!=3.6.1,>=3.3->seaborn) (2.8.2)\n",
      "Requirement already satisfied: pytz>=2020.1 in /Users/criscarneiro/anaconda3/envs/clase/lib/python3.10/site-packages (from pandas>=1.2->seaborn) (2023.3.post1)\n",
      "Requirement already satisfied: tzdata>=2022.1 in /Users/criscarneiro/anaconda3/envs/clase/lib/python3.10/site-packages (from pandas>=1.2->seaborn) (2023.3)\n",
      "Requirement already satisfied: six>=1.5 in /Users/criscarneiro/anaconda3/envs/clase/lib/python3.10/site-packages (from python-dateutil>=2.7->matplotlib!=3.6.1,>=3.3->seaborn) (1.16.0)\n",
      "Note: you may need to restart the kernel to use updated packages.\n"
     ]
    }
   ],
   "source": [
    "%pip install ipython\n",
    "%pip install seaborn"
   ]
  },
  {
   "cell_type": "code",
   "execution_count": 59,
   "id": "7a1c9791",
   "metadata": {},
   "outputs": [],
   "source": [
    "import pandas as pd\n",
    "pd.set_option('display.max_columns', None)\n",
    "\n",
    "import numpy as np\n",
    "\n",
    "import warnings\n",
    "warnings.filterwarnings('ignore')\n",
    "\n",
    "import pylab as plt  \n",
    "\n",
    "import seaborn as sns \n",
    "\n",
    "%matplotlib inline"
   ]
  },
  {
   "cell_type": "code",
   "execution_count": 60,
   "id": "92109971",
   "metadata": {},
   "outputs": [],
   "source": [
    "olddb = pd.read_csv('/Users/criscarneiro/desktop/ironhack/6_Projects/sql-data-base-building/data/raw/old_HDD.csv')"
   ]
  },
  {
   "cell_type": "code",
   "execution_count": 61,
   "id": "f34b1e91",
   "metadata": {},
   "outputs": [
    {
     "data": {
      "text/html": [
       "<div>\n",
       "<style scoped>\n",
       "    .dataframe tbody tr th:only-of-type {\n",
       "        vertical-align: middle;\n",
       "    }\n",
       "\n",
       "    .dataframe tbody tr th {\n",
       "        vertical-align: top;\n",
       "    }\n",
       "\n",
       "    .dataframe thead th {\n",
       "        text-align: right;\n",
       "    }\n",
       "</style>\n",
       "<table border=\"1\" class=\"dataframe\">\n",
       "  <thead>\n",
       "    <tr style=\"text-align: right;\">\n",
       "      <th></th>\n",
       "      <th>first_name</th>\n",
       "      <th>last_name</th>\n",
       "      <th>title</th>\n",
       "      <th>release_year</th>\n",
       "      <th>category_id</th>\n",
       "    </tr>\n",
       "  </thead>\n",
       "  <tbody>\n",
       "    <tr>\n",
       "      <th>0</th>\n",
       "      <td>PENELOPE</td>\n",
       "      <td>GUINESS</td>\n",
       "      <td>ACADEMY DINOSAUR</td>\n",
       "      <td>2006</td>\n",
       "      <td>6</td>\n",
       "    </tr>\n",
       "    <tr>\n",
       "      <th>1</th>\n",
       "      <td>PENELOPE</td>\n",
       "      <td>GUINESS</td>\n",
       "      <td>ANACONDA CONFESSIONS</td>\n",
       "      <td>2006</td>\n",
       "      <td>2</td>\n",
       "    </tr>\n",
       "    <tr>\n",
       "      <th>2</th>\n",
       "      <td>PENELOPE</td>\n",
       "      <td>GUINESS</td>\n",
       "      <td>ANGELS LIFE</td>\n",
       "      <td>2006</td>\n",
       "      <td>13</td>\n",
       "    </tr>\n",
       "    <tr>\n",
       "      <th>3</th>\n",
       "      <td>PENELOPE</td>\n",
       "      <td>GUINESS</td>\n",
       "      <td>BULWORTH COMMANDMENTS</td>\n",
       "      <td>2006</td>\n",
       "      <td>10</td>\n",
       "    </tr>\n",
       "    <tr>\n",
       "      <th>4</th>\n",
       "      <td>PENELOPE</td>\n",
       "      <td>GUINESS</td>\n",
       "      <td>CHEAPER CLYDE</td>\n",
       "      <td>2006</td>\n",
       "      <td>14</td>\n",
       "    </tr>\n",
       "  </tbody>\n",
       "</table>\n",
       "</div>"
      ],
      "text/plain": [
       "  first_name last_name                  title  release_year  category_id\n",
       "0   PENELOPE   GUINESS       ACADEMY DINOSAUR          2006            6\n",
       "1   PENELOPE   GUINESS   ANACONDA CONFESSIONS          2006            2\n",
       "2   PENELOPE   GUINESS            ANGELS LIFE          2006           13\n",
       "3   PENELOPE   GUINESS  BULWORTH COMMANDMENTS          2006           10\n",
       "4   PENELOPE   GUINESS          CHEAPER CLYDE          2006           14"
      ]
     },
     "execution_count": 61,
     "metadata": {},
     "output_type": "execute_result"
    }
   ],
   "source": [
    "olddb.head()"
   ]
  },
  {
   "cell_type": "markdown",
   "id": "590d9972",
   "metadata": {},
   "source": [
    "It seems this will be quite useful for: \n",
    "\n",
    "1) relating actors and titles \n",
    "2) relating titles and categories\n",
    "\n",
    "I will work on both!  "
   ]
  },
  {
   "cell_type": "markdown",
   "id": "b2445efb",
   "metadata": {},
   "source": [
    "### Good practices"
   ]
  },
  {
   "cell_type": "markdown",
   "id": "41edadf6",
   "metadata": {},
   "source": [
    "Some good practices before we continue with the exercise"
   ]
  },
  {
   "cell_type": "code",
   "execution_count": 62,
   "id": "f017f874",
   "metadata": {},
   "outputs": [],
   "source": [
    "#creating a back-up with the original table \n",
    "\n",
    "olddboriginal = olddb.copy()"
   ]
  },
  {
   "cell_type": "code",
   "execution_count": 63,
   "id": "4cab330d",
   "metadata": {},
   "outputs": [
    {
     "data": {
      "text/plain": [
       "Index(['first_name', 'last_name', 'title', 'release_year', 'category_id'], dtype='object')"
      ]
     },
     "execution_count": 63,
     "metadata": {},
     "output_type": "execute_result"
    }
   ],
   "source": [
    "#ensuring column names are clean \n",
    "\n",
    "olddb.columns"
   ]
  },
  {
   "cell_type": "code",
   "execution_count": 64,
   "id": "534aa5f4",
   "metadata": {},
   "outputs": [
    {
     "data": {
      "text/plain": [
       "Index(['first_name', 'last_name', 'title', 'release_year', 'category_id'], dtype='object')"
      ]
     },
     "execution_count": 64,
     "metadata": {},
     "output_type": "execute_result"
    }
   ],
   "source": [
    "olddb.columns = [c.lower().replace(' ', '_') for c in olddb.columns]\n",
    "\n",
    "olddb.columns"
   ]
  },
  {
   "cell_type": "code",
   "execution_count": 65,
   "id": "4ae974df",
   "metadata": {},
   "outputs": [
    {
     "data": {
      "text/plain": [
       "False"
      ]
     },
     "execution_count": 65,
     "metadata": {},
     "output_type": "execute_result"
    }
   ],
   "source": [
    "#checking for duplicates \n",
    "\n",
    "olddb.duplicated().any() #there are no duplicates "
   ]
  },
  {
   "cell_type": "markdown",
   "id": "5de6c7b5",
   "metadata": {},
   "source": [
    "### Explore "
   ]
  },
  {
   "cell_type": "markdown",
   "id": "f6bbee82",
   "metadata": {},
   "source": [
    "Exploratory analysis to understand the data base (e.g,. description, column types, searching for null values) "
   ]
  },
  {
   "cell_type": "code",
   "execution_count": 66,
   "id": "6064de19",
   "metadata": {},
   "outputs": [
    {
     "data": {
      "text/html": [
       "<div>\n",
       "<style scoped>\n",
       "    .dataframe tbody tr th:only-of-type {\n",
       "        vertical-align: middle;\n",
       "    }\n",
       "\n",
       "    .dataframe tbody tr th {\n",
       "        vertical-align: top;\n",
       "    }\n",
       "\n",
       "    .dataframe thead th {\n",
       "        text-align: right;\n",
       "    }\n",
       "</style>\n",
       "<table border=\"1\" class=\"dataframe\">\n",
       "  <thead>\n",
       "    <tr style=\"text-align: right;\">\n",
       "      <th></th>\n",
       "      <th>first_name</th>\n",
       "      <th>last_name</th>\n",
       "      <th>title</th>\n",
       "      <th>release_year</th>\n",
       "      <th>category_id</th>\n",
       "    </tr>\n",
       "  </thead>\n",
       "  <tbody>\n",
       "    <tr>\n",
       "      <th>0</th>\n",
       "      <td>PENELOPE</td>\n",
       "      <td>GUINESS</td>\n",
       "      <td>ACADEMY DINOSAUR</td>\n",
       "      <td>2006</td>\n",
       "      <td>6</td>\n",
       "    </tr>\n",
       "    <tr>\n",
       "      <th>1</th>\n",
       "      <td>PENELOPE</td>\n",
       "      <td>GUINESS</td>\n",
       "      <td>ANACONDA CONFESSIONS</td>\n",
       "      <td>2006</td>\n",
       "      <td>2</td>\n",
       "    </tr>\n",
       "    <tr>\n",
       "      <th>2</th>\n",
       "      <td>PENELOPE</td>\n",
       "      <td>GUINESS</td>\n",
       "      <td>ANGELS LIFE</td>\n",
       "      <td>2006</td>\n",
       "      <td>13</td>\n",
       "    </tr>\n",
       "    <tr>\n",
       "      <th>3</th>\n",
       "      <td>PENELOPE</td>\n",
       "      <td>GUINESS</td>\n",
       "      <td>BULWORTH COMMANDMENTS</td>\n",
       "      <td>2006</td>\n",
       "      <td>10</td>\n",
       "    </tr>\n",
       "    <tr>\n",
       "      <th>4</th>\n",
       "      <td>PENELOPE</td>\n",
       "      <td>GUINESS</td>\n",
       "      <td>CHEAPER CLYDE</td>\n",
       "      <td>2006</td>\n",
       "      <td>14</td>\n",
       "    </tr>\n",
       "  </tbody>\n",
       "</table>\n",
       "</div>"
      ],
      "text/plain": [
       "  first_name last_name                  title  release_year  category_id\n",
       "0   PENELOPE   GUINESS       ACADEMY DINOSAUR          2006            6\n",
       "1   PENELOPE   GUINESS   ANACONDA CONFESSIONS          2006            2\n",
       "2   PENELOPE   GUINESS            ANGELS LIFE          2006           13\n",
       "3   PENELOPE   GUINESS  BULWORTH COMMANDMENTS          2006           10\n",
       "4   PENELOPE   GUINESS          CHEAPER CLYDE          2006           14"
      ]
     },
     "execution_count": 66,
     "metadata": {},
     "output_type": "execute_result"
    }
   ],
   "source": [
    "#it seems we have a repository of actors with films where they participated\n",
    "#we also have the category associated with each movie \n",
    "\n",
    "olddb.head()"
   ]
  },
  {
   "cell_type": "code",
   "execution_count": 67,
   "id": "f2711216",
   "metadata": {},
   "outputs": [
    {
     "data": {
      "text/plain": [
       "(1000, 5)"
      ]
     },
     "execution_count": 67,
     "metadata": {},
     "output_type": "execute_result"
    }
   ],
   "source": [
    "#we have 5 columns, and 1000 entries (rows) in our original database\n",
    "\n",
    "olddboriginal.shape"
   ]
  },
  {
   "cell_type": "code",
   "execution_count": 68,
   "id": "fc98353d",
   "metadata": {},
   "outputs": [
    {
     "name": "stdout",
     "output_type": "stream",
     "text": [
      "<class 'pandas.core.frame.DataFrame'>\n",
      "RangeIndex: 1000 entries, 0 to 999\n",
      "Data columns (total 5 columns):\n",
      " #   Column        Non-Null Count  Dtype \n",
      "---  ------        --------------  ----- \n",
      " 0   first_name    1000 non-null   object\n",
      " 1   last_name     1000 non-null   object\n",
      " 2   title         1000 non-null   object\n",
      " 3   release_year  1000 non-null   int64 \n",
      " 4   category_id   1000 non-null   int64 \n",
      "dtypes: int64(2), object(3)\n",
      "memory usage: 39.2+ KB\n"
     ]
    }
   ],
   "source": [
    "#here we can see the type of each of the columns \n",
    "#it seems all values are non-null\n",
    "\n",
    "olddb.info()"
   ]
  },
  {
   "cell_type": "code",
   "execution_count": 69,
   "id": "93941e38",
   "metadata": {},
   "outputs": [
    {
     "data": {
      "text/html": [
       "<div>\n",
       "<style scoped>\n",
       "    .dataframe tbody tr th:only-of-type {\n",
       "        vertical-align: middle;\n",
       "    }\n",
       "\n",
       "    .dataframe tbody tr th {\n",
       "        vertical-align: top;\n",
       "    }\n",
       "\n",
       "    .dataframe thead th {\n",
       "        text-align: right;\n",
       "    }\n",
       "</style>\n",
       "<table border=\"1\" class=\"dataframe\">\n",
       "  <thead>\n",
       "    <tr style=\"text-align: right;\">\n",
       "      <th></th>\n",
       "      <th>count</th>\n",
       "      <th>unique</th>\n",
       "      <th>top</th>\n",
       "      <th>freq</th>\n",
       "      <th>mean</th>\n",
       "      <th>std</th>\n",
       "      <th>min</th>\n",
       "      <th>25%</th>\n",
       "      <th>50%</th>\n",
       "      <th>75%</th>\n",
       "      <th>max</th>\n",
       "    </tr>\n",
       "  </thead>\n",
       "  <tbody>\n",
       "    <tr>\n",
       "      <th>first_name</th>\n",
       "      <td>1000</td>\n",
       "      <td>38</td>\n",
       "      <td>SANDRA</td>\n",
       "      <td>56</td>\n",
       "      <td>NaN</td>\n",
       "      <td>NaN</td>\n",
       "      <td>NaN</td>\n",
       "      <td>NaN</td>\n",
       "      <td>NaN</td>\n",
       "      <td>NaN</td>\n",
       "      <td>NaN</td>\n",
       "    </tr>\n",
       "    <tr>\n",
       "      <th>last_name</th>\n",
       "      <td>1000</td>\n",
       "      <td>37</td>\n",
       "      <td>OLIVIER</td>\n",
       "      <td>53</td>\n",
       "      <td>NaN</td>\n",
       "      <td>NaN</td>\n",
       "      <td>NaN</td>\n",
       "      <td>NaN</td>\n",
       "      <td>NaN</td>\n",
       "      <td>NaN</td>\n",
       "      <td>NaN</td>\n",
       "    </tr>\n",
       "    <tr>\n",
       "      <th>title</th>\n",
       "      <td>1000</td>\n",
       "      <td>614</td>\n",
       "      <td>BOONDOCK BALLROOM</td>\n",
       "      <td>6</td>\n",
       "      <td>NaN</td>\n",
       "      <td>NaN</td>\n",
       "      <td>NaN</td>\n",
       "      <td>NaN</td>\n",
       "      <td>NaN</td>\n",
       "      <td>NaN</td>\n",
       "      <td>NaN</td>\n",
       "    </tr>\n",
       "    <tr>\n",
       "      <th>release_year</th>\n",
       "      <td>1000.0</td>\n",
       "      <td>NaN</td>\n",
       "      <td>NaN</td>\n",
       "      <td>NaN</td>\n",
       "      <td>2006.0</td>\n",
       "      <td>0.0</td>\n",
       "      <td>2006.0</td>\n",
       "      <td>2006.0</td>\n",
       "      <td>2006.0</td>\n",
       "      <td>2006.0</td>\n",
       "      <td>2006.0</td>\n",
       "    </tr>\n",
       "    <tr>\n",
       "      <th>category_id</th>\n",
       "      <td>1000.0</td>\n",
       "      <td>NaN</td>\n",
       "      <td>NaN</td>\n",
       "      <td>NaN</td>\n",
       "      <td>8.355</td>\n",
       "      <td>4.726872</td>\n",
       "      <td>1.0</td>\n",
       "      <td>4.0</td>\n",
       "      <td>8.0</td>\n",
       "      <td>13.0</td>\n",
       "      <td>16.0</td>\n",
       "    </tr>\n",
       "  </tbody>\n",
       "</table>\n",
       "</div>"
      ],
      "text/plain": [
       "               count unique                top freq    mean       std     min  \\\n",
       "first_name      1000     38             SANDRA   56     NaN       NaN     NaN   \n",
       "last_name       1000     37            OLIVIER   53     NaN       NaN     NaN   \n",
       "title           1000    614  BOONDOCK BALLROOM    6     NaN       NaN     NaN   \n",
       "release_year  1000.0    NaN                NaN  NaN  2006.0       0.0  2006.0   \n",
       "category_id   1000.0    NaN                NaN  NaN   8.355  4.726872     1.0   \n",
       "\n",
       "                 25%     50%     75%     max  \n",
       "first_name       NaN     NaN     NaN     NaN  \n",
       "last_name        NaN     NaN     NaN     NaN  \n",
       "title            NaN     NaN     NaN     NaN  \n",
       "release_year  2006.0  2006.0  2006.0  2006.0  \n",
       "category_id      4.0     8.0    13.0    16.0  "
      ]
     },
     "execution_count": 69,
     "metadata": {},
     "output_type": "execute_result"
    }
   ],
   "source": [
    "#description table \n",
    "#here we can see the #of unique values, and the mode of each field. Ultimately we will be interested on the unique 'full names', so worth checking if there are non-unique values there\n",
    "\n",
    "olddb.describe(include='all').T"
   ]
  },
  {
   "cell_type": "markdown",
   "id": "e6a71fc7",
   "metadata": {},
   "source": [
    "### Null values"
   ]
  },
  {
   "cell_type": "markdown",
   "id": "69bcf8e3",
   "metadata": {},
   "source": [
    "As stated above, there are no null values in the database. See per below:"
   ]
  },
  {
   "cell_type": "code",
   "execution_count": 70,
   "id": "519b012b",
   "metadata": {},
   "outputs": [
    {
     "data": {
      "text/plain": [
       "first_name      0\n",
       "last_name       0\n",
       "title           0\n",
       "release_year    0\n",
       "category_id     0\n",
       "dtype: int64"
      ]
     },
     "execution_count": 70,
     "metadata": {},
     "output_type": "execute_result"
    }
   ],
   "source": [
    "#there are no null values in the database \n",
    "\n",
    "nan_cols = olddb.isna().sum()\n",
    "\n",
    "nan_cols"
   ]
  },
  {
   "cell_type": "markdown",
   "id": "03e5b769",
   "metadata": {},
   "source": [
    "### Other cleaning "
   ]
  },
  {
   "cell_type": "markdown",
   "id": "503937e7",
   "metadata": {},
   "source": [
    "#### first_name, last_name, and new column full_name"
   ]
  },
  {
   "cell_type": "markdown",
   "id": "ae3facef",
   "metadata": {},
   "source": [
    "I will clean the columns first_name, last_name together, and make sure there are no repeated actors (by their full name)"
   ]
  },
  {
   "cell_type": "code",
   "execution_count": 71,
   "id": "1a08703d",
   "metadata": {},
   "outputs": [
    {
     "name": "stdout",
     "output_type": "stream",
     "text": [
      "object\n",
      "object\n"
     ]
    }
   ],
   "source": [
    "#this column is type 'object'. They cointain a list of strings \n",
    "\n",
    "print(olddb.first_name.dtype)\n",
    "print(olddb.last_name.dtype)"
   ]
  },
  {
   "cell_type": "code",
   "execution_count": 72,
   "id": "e459c799",
   "metadata": {},
   "outputs": [
    {
     "data": {
      "text/plain": [
       "first_name\n",
       "SANDRA    56\n",
       "VAL       35\n",
       "UMA       35\n",
       "JULIA     33\n",
       "RIP       33\n",
       "Name: count, dtype: int64"
      ]
     },
     "execution_count": 72,
     "metadata": {},
     "output_type": "execute_result"
    }
   ],
   "source": [
    "#these are the top first_names \n",
    "#some repeated values, but let us wait until we see full names\n",
    "\n",
    "olddb.first_name.value_counts().head(5)"
   ]
  },
  {
   "cell_type": "code",
   "execution_count": 73,
   "id": "29aafdf3",
   "metadata": {},
   "outputs": [],
   "source": [
    "#olddb.first_name.unique()"
   ]
  },
  {
   "cell_type": "code",
   "execution_count": 74,
   "id": "f1aef673",
   "metadata": {},
   "outputs": [
    {
     "data": {
      "text/plain": [
       "last_name\n",
       "OLIVIER    53\n",
       "PECK       43\n",
       "KILMER     37\n",
       "Name: count, dtype: int64"
      ]
     },
     "execution_count": 74,
     "metadata": {},
     "output_type": "execute_result"
    }
   ],
   "source": [
    "#these are the top last_names \n",
    "#some repeated values, but let us wait until we see full names\n",
    "\n",
    "olddb.last_name.value_counts().head(3)"
   ]
  },
  {
   "cell_type": "code",
   "execution_count": 75,
   "id": "7eb9dc5b",
   "metadata": {},
   "outputs": [],
   "source": [
    "#actors.last_name.unique()"
   ]
  },
  {
   "cell_type": "code",
   "execution_count": 76,
   "id": "0581c966",
   "metadata": {},
   "outputs": [],
   "source": [
    "#I personally don't like uppercase "
   ]
  },
  {
   "cell_type": "code",
   "execution_count": 77,
   "id": "6b27aa20",
   "metadata": {},
   "outputs": [],
   "source": [
    "olddb.first_name = olddb.first_name.apply(lambda X: X.title().replace(' ',''))"
   ]
  },
  {
   "cell_type": "code",
   "execution_count": 78,
   "id": "5d6c7949",
   "metadata": {},
   "outputs": [],
   "source": [
    "olddb.last_name = olddb.last_name.apply(lambda X: X.title().replace(' ',''))"
   ]
  },
  {
   "cell_type": "code",
   "execution_count": 79,
   "id": "dd7efd13",
   "metadata": {},
   "outputs": [
    {
     "data": {
      "text/html": [
       "<div>\n",
       "<style scoped>\n",
       "    .dataframe tbody tr th:only-of-type {\n",
       "        vertical-align: middle;\n",
       "    }\n",
       "\n",
       "    .dataframe tbody tr th {\n",
       "        vertical-align: top;\n",
       "    }\n",
       "\n",
       "    .dataframe thead th {\n",
       "        text-align: right;\n",
       "    }\n",
       "</style>\n",
       "<table border=\"1\" class=\"dataframe\">\n",
       "  <thead>\n",
       "    <tr style=\"text-align: right;\">\n",
       "      <th></th>\n",
       "      <th>first_name</th>\n",
       "      <th>last_name</th>\n",
       "      <th>title</th>\n",
       "      <th>release_year</th>\n",
       "      <th>category_id</th>\n",
       "    </tr>\n",
       "  </thead>\n",
       "  <tbody>\n",
       "    <tr>\n",
       "      <th>0</th>\n",
       "      <td>Penelope</td>\n",
       "      <td>Guiness</td>\n",
       "      <td>ACADEMY DINOSAUR</td>\n",
       "      <td>2006</td>\n",
       "      <td>6</td>\n",
       "    </tr>\n",
       "    <tr>\n",
       "      <th>1</th>\n",
       "      <td>Penelope</td>\n",
       "      <td>Guiness</td>\n",
       "      <td>ANACONDA CONFESSIONS</td>\n",
       "      <td>2006</td>\n",
       "      <td>2</td>\n",
       "    </tr>\n",
       "    <tr>\n",
       "      <th>2</th>\n",
       "      <td>Penelope</td>\n",
       "      <td>Guiness</td>\n",
       "      <td>ANGELS LIFE</td>\n",
       "      <td>2006</td>\n",
       "      <td>13</td>\n",
       "    </tr>\n",
       "    <tr>\n",
       "      <th>3</th>\n",
       "      <td>Penelope</td>\n",
       "      <td>Guiness</td>\n",
       "      <td>BULWORTH COMMANDMENTS</td>\n",
       "      <td>2006</td>\n",
       "      <td>10</td>\n",
       "    </tr>\n",
       "    <tr>\n",
       "      <th>4</th>\n",
       "      <td>Penelope</td>\n",
       "      <td>Guiness</td>\n",
       "      <td>CHEAPER CLYDE</td>\n",
       "      <td>2006</td>\n",
       "      <td>14</td>\n",
       "    </tr>\n",
       "  </tbody>\n",
       "</table>\n",
       "</div>"
      ],
      "text/plain": [
       "  first_name last_name                  title  release_year  category_id\n",
       "0   Penelope   Guiness       ACADEMY DINOSAUR          2006            6\n",
       "1   Penelope   Guiness   ANACONDA CONFESSIONS          2006            2\n",
       "2   Penelope   Guiness            ANGELS LIFE          2006           13\n",
       "3   Penelope   Guiness  BULWORTH COMMANDMENTS          2006           10\n",
       "4   Penelope   Guiness          CHEAPER CLYDE          2006           14"
      ]
     },
     "execution_count": 79,
     "metadata": {},
     "output_type": "execute_result"
    }
   ],
   "source": [
    "olddb.head()"
   ]
  },
  {
   "cell_type": "code",
   "execution_count": 80,
   "id": "03bdd8e8",
   "metadata": {},
   "outputs": [],
   "source": [
    "#let us create a full name column, and place it after last_name \n",
    "\n",
    "olddb.insert(2, 'full_name', olddb['first_name'] + ' ' + olddb['last_name'])"
   ]
  },
  {
   "cell_type": "code",
   "execution_count": 82,
   "id": "520c7f4a",
   "metadata": {},
   "outputs": [
    {
     "data": {
      "text/html": [
       "<div>\n",
       "<style scoped>\n",
       "    .dataframe tbody tr th:only-of-type {\n",
       "        vertical-align: middle;\n",
       "    }\n",
       "\n",
       "    .dataframe tbody tr th {\n",
       "        vertical-align: top;\n",
       "    }\n",
       "\n",
       "    .dataframe thead th {\n",
       "        text-align: right;\n",
       "    }\n",
       "</style>\n",
       "<table border=\"1\" class=\"dataframe\">\n",
       "  <thead>\n",
       "    <tr style=\"text-align: right;\">\n",
       "      <th></th>\n",
       "      <th>first_name</th>\n",
       "      <th>last_name</th>\n",
       "      <th>full_name</th>\n",
       "      <th>title</th>\n",
       "      <th>release_year</th>\n",
       "      <th>category_id</th>\n",
       "    </tr>\n",
       "  </thead>\n",
       "  <tbody>\n",
       "    <tr>\n",
       "      <th>0</th>\n",
       "      <td>Penelope</td>\n",
       "      <td>Guiness</td>\n",
       "      <td>Penelope Guiness</td>\n",
       "      <td>ACADEMY DINOSAUR</td>\n",
       "      <td>2006</td>\n",
       "      <td>6</td>\n",
       "    </tr>\n",
       "    <tr>\n",
       "      <th>1</th>\n",
       "      <td>Penelope</td>\n",
       "      <td>Guiness</td>\n",
       "      <td>Penelope Guiness</td>\n",
       "      <td>ANACONDA CONFESSIONS</td>\n",
       "      <td>2006</td>\n",
       "      <td>2</td>\n",
       "    </tr>\n",
       "    <tr>\n",
       "      <th>2</th>\n",
       "      <td>Penelope</td>\n",
       "      <td>Guiness</td>\n",
       "      <td>Penelope Guiness</td>\n",
       "      <td>ANGELS LIFE</td>\n",
       "      <td>2006</td>\n",
       "      <td>13</td>\n",
       "    </tr>\n",
       "    <tr>\n",
       "      <th>3</th>\n",
       "      <td>Penelope</td>\n",
       "      <td>Guiness</td>\n",
       "      <td>Penelope Guiness</td>\n",
       "      <td>BULWORTH COMMANDMENTS</td>\n",
       "      <td>2006</td>\n",
       "      <td>10</td>\n",
       "    </tr>\n",
       "    <tr>\n",
       "      <th>4</th>\n",
       "      <td>Penelope</td>\n",
       "      <td>Guiness</td>\n",
       "      <td>Penelope Guiness</td>\n",
       "      <td>CHEAPER CLYDE</td>\n",
       "      <td>2006</td>\n",
       "      <td>14</td>\n",
       "    </tr>\n",
       "  </tbody>\n",
       "</table>\n",
       "</div>"
      ],
      "text/plain": [
       "  first_name last_name         full_name                  title  release_year  \\\n",
       "0   Penelope   Guiness  Penelope Guiness       ACADEMY DINOSAUR          2006   \n",
       "1   Penelope   Guiness  Penelope Guiness   ANACONDA CONFESSIONS          2006   \n",
       "2   Penelope   Guiness  Penelope Guiness            ANGELS LIFE          2006   \n",
       "3   Penelope   Guiness  Penelope Guiness  BULWORTH COMMANDMENTS          2006   \n",
       "4   Penelope   Guiness  Penelope Guiness          CHEAPER CLYDE          2006   \n",
       "\n",
       "   category_id  \n",
       "0            6  \n",
       "1            2  \n",
       "2           13  \n",
       "3           10  \n",
       "4           14  "
      ]
     },
     "execution_count": 82,
     "metadata": {},
     "output_type": "execute_result"
    }
   ],
   "source": [
    "#there will be repeated values, as this table is relating the actors with films they have participated\n",
    "\n",
    "olddb.head()"
   ]
  },
  {
   "cell_type": "markdown",
   "id": "805efed0",
   "metadata": {},
   "source": [
    "#### title "
   ]
  },
  {
   "cell_type": "code",
   "execution_count": 83,
   "id": "4e986b05",
   "metadata": {},
   "outputs": [
    {
     "data": {
      "text/plain": [
       "dtype('O')"
      ]
     },
     "execution_count": 83,
     "metadata": {},
     "output_type": "execute_result"
    }
   ],
   "source": [
    "#object type, as strings \n",
    "\n",
    "olddb.title.dtype"
   ]
  },
  {
   "cell_type": "code",
   "execution_count": 85,
   "id": "b7cdbdd0",
   "metadata": {},
   "outputs": [],
   "source": [
    "#not a fan of uppercase, will trim names\n",
    "\n",
    "olddb.title = olddb.title.apply(lambda X: X.title().strip())"
   ]
  },
  {
   "cell_type": "code",
   "execution_count": 86,
   "id": "685da6b7",
   "metadata": {},
   "outputs": [
    {
     "data": {
      "text/html": [
       "<div>\n",
       "<style scoped>\n",
       "    .dataframe tbody tr th:only-of-type {\n",
       "        vertical-align: middle;\n",
       "    }\n",
       "\n",
       "    .dataframe tbody tr th {\n",
       "        vertical-align: top;\n",
       "    }\n",
       "\n",
       "    .dataframe thead th {\n",
       "        text-align: right;\n",
       "    }\n",
       "</style>\n",
       "<table border=\"1\" class=\"dataframe\">\n",
       "  <thead>\n",
       "    <tr style=\"text-align: right;\">\n",
       "      <th></th>\n",
       "      <th>first_name</th>\n",
       "      <th>last_name</th>\n",
       "      <th>full_name</th>\n",
       "      <th>title</th>\n",
       "      <th>release_year</th>\n",
       "      <th>category_id</th>\n",
       "    </tr>\n",
       "  </thead>\n",
       "  <tbody>\n",
       "    <tr>\n",
       "      <th>0</th>\n",
       "      <td>Penelope</td>\n",
       "      <td>Guiness</td>\n",
       "      <td>Penelope Guiness</td>\n",
       "      <td>Academy Dinosaur</td>\n",
       "      <td>2006</td>\n",
       "      <td>6</td>\n",
       "    </tr>\n",
       "    <tr>\n",
       "      <th>1</th>\n",
       "      <td>Penelope</td>\n",
       "      <td>Guiness</td>\n",
       "      <td>Penelope Guiness</td>\n",
       "      <td>Anaconda Confessions</td>\n",
       "      <td>2006</td>\n",
       "      <td>2</td>\n",
       "    </tr>\n",
       "    <tr>\n",
       "      <th>2</th>\n",
       "      <td>Penelope</td>\n",
       "      <td>Guiness</td>\n",
       "      <td>Penelope Guiness</td>\n",
       "      <td>Angels Life</td>\n",
       "      <td>2006</td>\n",
       "      <td>13</td>\n",
       "    </tr>\n",
       "  </tbody>\n",
       "</table>\n",
       "</div>"
      ],
      "text/plain": [
       "  first_name last_name         full_name                 title  release_year  \\\n",
       "0   Penelope   Guiness  Penelope Guiness      Academy Dinosaur          2006   \n",
       "1   Penelope   Guiness  Penelope Guiness  Anaconda Confessions          2006   \n",
       "2   Penelope   Guiness  Penelope Guiness           Angels Life          2006   \n",
       "\n",
       "   category_id  \n",
       "0            6  \n",
       "1            2  \n",
       "2           13  "
      ]
     },
     "execution_count": 86,
     "metadata": {},
     "output_type": "execute_result"
    }
   ],
   "source": [
    "olddb.head(3)"
   ]
  },
  {
   "cell_type": "markdown",
   "id": "71b9583a",
   "metadata": {},
   "source": [
    "#### release_year"
   ]
  },
  {
   "cell_type": "code",
   "execution_count": 87,
   "id": "a8b8afe0",
   "metadata": {},
   "outputs": [],
   "source": [
    "#I do not need that column for the purposes stated above (e.g., relating films to actors and relating films to categories)\n",
    "\n",
    "olddb.drop('release_year',axis=1, inplace = True )"
   ]
  },
  {
   "cell_type": "code",
   "execution_count": 88,
   "id": "3ce3043c",
   "metadata": {},
   "outputs": [
    {
     "data": {
      "text/html": [
       "<div>\n",
       "<style scoped>\n",
       "    .dataframe tbody tr th:only-of-type {\n",
       "        vertical-align: middle;\n",
       "    }\n",
       "\n",
       "    .dataframe tbody tr th {\n",
       "        vertical-align: top;\n",
       "    }\n",
       "\n",
       "    .dataframe thead th {\n",
       "        text-align: right;\n",
       "    }\n",
       "</style>\n",
       "<table border=\"1\" class=\"dataframe\">\n",
       "  <thead>\n",
       "    <tr style=\"text-align: right;\">\n",
       "      <th></th>\n",
       "      <th>first_name</th>\n",
       "      <th>last_name</th>\n",
       "      <th>full_name</th>\n",
       "      <th>title</th>\n",
       "      <th>category_id</th>\n",
       "    </tr>\n",
       "  </thead>\n",
       "  <tbody>\n",
       "    <tr>\n",
       "      <th>0</th>\n",
       "      <td>Penelope</td>\n",
       "      <td>Guiness</td>\n",
       "      <td>Penelope Guiness</td>\n",
       "      <td>Academy Dinosaur</td>\n",
       "      <td>6</td>\n",
       "    </tr>\n",
       "    <tr>\n",
       "      <th>1</th>\n",
       "      <td>Penelope</td>\n",
       "      <td>Guiness</td>\n",
       "      <td>Penelope Guiness</td>\n",
       "      <td>Anaconda Confessions</td>\n",
       "      <td>2</td>\n",
       "    </tr>\n",
       "    <tr>\n",
       "      <th>2</th>\n",
       "      <td>Penelope</td>\n",
       "      <td>Guiness</td>\n",
       "      <td>Penelope Guiness</td>\n",
       "      <td>Angels Life</td>\n",
       "      <td>13</td>\n",
       "    </tr>\n",
       "    <tr>\n",
       "      <th>3</th>\n",
       "      <td>Penelope</td>\n",
       "      <td>Guiness</td>\n",
       "      <td>Penelope Guiness</td>\n",
       "      <td>Bulworth Commandments</td>\n",
       "      <td>10</td>\n",
       "    </tr>\n",
       "    <tr>\n",
       "      <th>4</th>\n",
       "      <td>Penelope</td>\n",
       "      <td>Guiness</td>\n",
       "      <td>Penelope Guiness</td>\n",
       "      <td>Cheaper Clyde</td>\n",
       "      <td>14</td>\n",
       "    </tr>\n",
       "  </tbody>\n",
       "</table>\n",
       "</div>"
      ],
      "text/plain": [
       "  first_name last_name         full_name                  title  category_id\n",
       "0   Penelope   Guiness  Penelope Guiness       Academy Dinosaur            6\n",
       "1   Penelope   Guiness  Penelope Guiness   Anaconda Confessions            2\n",
       "2   Penelope   Guiness  Penelope Guiness            Angels Life           13\n",
       "3   Penelope   Guiness  Penelope Guiness  Bulworth Commandments           10\n",
       "4   Penelope   Guiness  Penelope Guiness          Cheaper Clyde           14"
      ]
     },
     "execution_count": 88,
     "metadata": {},
     "output_type": "execute_result"
    }
   ],
   "source": [
    "olddb.head()"
   ]
  },
  {
   "cell_type": "markdown",
   "id": "a5014dc2",
   "metadata": {},
   "source": [
    "### Importing the name ID and title ID"
   ]
  },
  {
   "cell_type": "markdown",
   "id": "535f7112",
   "metadata": {},
   "source": [
    "Ideally, I want to relate actors & titles AND titles & categories by their IDs. I need to import the IDs from actors and titles. I have that information in the actor.csv and title.csv files, which we've already cleaned"
   ]
  },
  {
   "cell_type": "code",
   "execution_count": null,
   "id": "82e671f5",
   "metadata": {},
   "outputs": [],
   "source": [
    "films_clean = pd.read_csv('/Users/criscarneiro/desktop/ironhack/6_Projects/sql-data-base-building/data/clean/film.csv')"
   ]
  },
  {
   "cell_type": "code",
   "execution_count": null,
   "id": "93624d72",
   "metadata": {},
   "outputs": [],
   "source": []
  },
  {
   "cell_type": "markdown",
   "id": "be7e5947",
   "metadata": {},
   "source": [
    "### Column names and duplicates "
   ]
  },
  {
   "cell_type": "code",
   "execution_count": 53,
   "id": "b48da046",
   "metadata": {},
   "outputs": [
    {
     "data": {
      "text/plain": [
       "Index(['actor_id', 'first_name', 'last_name', 'last_update'], dtype='object')"
      ]
     },
     "execution_count": 53,
     "metadata": {},
     "output_type": "execute_result"
    }
   ],
   "source": [
    "actors.columns"
   ]
  },
  {
   "cell_type": "code",
   "execution_count": 54,
   "id": "7b43db97",
   "metadata": {},
   "outputs": [],
   "source": [
    "#renaming last_update to distinguish from other tables\n",
    "\n",
    "newcolumns = ['actor_id', 'first_name', 'last_name', 'full_name', 'actor_last_update']"
   ]
  },
  {
   "cell_type": "code",
   "execution_count": 55,
   "id": "c8a9df4a",
   "metadata": {},
   "outputs": [
    {
     "ename": "ValueError",
     "evalue": "Length mismatch: Expected axis has 4 elements, new values have 5 elements",
     "output_type": "error",
     "traceback": [
      "\u001b[0;31m---------------------------------------------------------------------------\u001b[0m",
      "\u001b[0;31mValueError\u001b[0m                                Traceback (most recent call last)",
      "Cell \u001b[0;32mIn[55], line 1\u001b[0m\n\u001b[0;32m----> 1\u001b[0m \u001b[43mactors\u001b[49m\u001b[38;5;241;43m.\u001b[39;49m\u001b[43mcolumns\u001b[49m \u001b[38;5;241m=\u001b[39m newcolumns\n",
      "File \u001b[0;32m~/anaconda3/envs/clase/lib/python3.10/site-packages/pandas/core/generic.py:6218\u001b[0m, in \u001b[0;36mNDFrame.__setattr__\u001b[0;34m(self, name, value)\u001b[0m\n\u001b[1;32m   6216\u001b[0m \u001b[38;5;28;01mtry\u001b[39;00m:\n\u001b[1;32m   6217\u001b[0m     \u001b[38;5;28mobject\u001b[39m\u001b[38;5;241m.\u001b[39m\u001b[38;5;21m__getattribute__\u001b[39m(\u001b[38;5;28mself\u001b[39m, name)\n\u001b[0;32m-> 6218\u001b[0m     \u001b[38;5;28;01mreturn\u001b[39;00m \u001b[38;5;28;43mobject\u001b[39;49m\u001b[38;5;241;43m.\u001b[39;49m\u001b[38;5;21;43m__setattr__\u001b[39;49m\u001b[43m(\u001b[49m\u001b[38;5;28;43mself\u001b[39;49m\u001b[43m,\u001b[49m\u001b[43m \u001b[49m\u001b[43mname\u001b[49m\u001b[43m,\u001b[49m\u001b[43m \u001b[49m\u001b[43mvalue\u001b[49m\u001b[43m)\u001b[49m\n\u001b[1;32m   6219\u001b[0m \u001b[38;5;28;01mexcept\u001b[39;00m \u001b[38;5;167;01mAttributeError\u001b[39;00m:\n\u001b[1;32m   6220\u001b[0m     \u001b[38;5;28;01mpass\u001b[39;00m\n",
      "File \u001b[0;32mproperties.pyx:69\u001b[0m, in \u001b[0;36mpandas._libs.properties.AxisProperty.__set__\u001b[0;34m()\u001b[0m\n",
      "File \u001b[0;32m~/anaconda3/envs/clase/lib/python3.10/site-packages/pandas/core/generic.py:767\u001b[0m, in \u001b[0;36mNDFrame._set_axis\u001b[0;34m(self, axis, labels)\u001b[0m\n\u001b[1;32m    762\u001b[0m \u001b[38;5;250m\u001b[39m\u001b[38;5;124;03m\"\"\"\u001b[39;00m\n\u001b[1;32m    763\u001b[0m \u001b[38;5;124;03mThis is called from the cython code when we set the `index` attribute\u001b[39;00m\n\u001b[1;32m    764\u001b[0m \u001b[38;5;124;03mdirectly, e.g. `series.index = [1, 2, 3]`.\u001b[39;00m\n\u001b[1;32m    765\u001b[0m \u001b[38;5;124;03m\"\"\"\u001b[39;00m\n\u001b[1;32m    766\u001b[0m labels \u001b[38;5;241m=\u001b[39m ensure_index(labels)\n\u001b[0;32m--> 767\u001b[0m \u001b[38;5;28;43mself\u001b[39;49m\u001b[38;5;241;43m.\u001b[39;49m\u001b[43m_mgr\u001b[49m\u001b[38;5;241;43m.\u001b[39;49m\u001b[43mset_axis\u001b[49m\u001b[43m(\u001b[49m\u001b[43maxis\u001b[49m\u001b[43m,\u001b[49m\u001b[43m \u001b[49m\u001b[43mlabels\u001b[49m\u001b[43m)\u001b[49m\n\u001b[1;32m    768\u001b[0m \u001b[38;5;28mself\u001b[39m\u001b[38;5;241m.\u001b[39m_clear_item_cache()\n",
      "File \u001b[0;32m~/anaconda3/envs/clase/lib/python3.10/site-packages/pandas/core/internals/managers.py:227\u001b[0m, in \u001b[0;36mBaseBlockManager.set_axis\u001b[0;34m(self, axis, new_labels)\u001b[0m\n\u001b[1;32m    225\u001b[0m \u001b[38;5;28;01mdef\u001b[39;00m \u001b[38;5;21mset_axis\u001b[39m(\u001b[38;5;28mself\u001b[39m, axis: AxisInt, new_labels: Index) \u001b[38;5;241m-\u001b[39m\u001b[38;5;241m>\u001b[39m \u001b[38;5;28;01mNone\u001b[39;00m:\n\u001b[1;32m    226\u001b[0m     \u001b[38;5;66;03m# Caller is responsible for ensuring we have an Index object.\u001b[39;00m\n\u001b[0;32m--> 227\u001b[0m     \u001b[38;5;28;43mself\u001b[39;49m\u001b[38;5;241;43m.\u001b[39;49m\u001b[43m_validate_set_axis\u001b[49m\u001b[43m(\u001b[49m\u001b[43maxis\u001b[49m\u001b[43m,\u001b[49m\u001b[43m \u001b[49m\u001b[43mnew_labels\u001b[49m\u001b[43m)\u001b[49m\n\u001b[1;32m    228\u001b[0m     \u001b[38;5;28mself\u001b[39m\u001b[38;5;241m.\u001b[39maxes[axis] \u001b[38;5;241m=\u001b[39m new_labels\n",
      "File \u001b[0;32m~/anaconda3/envs/clase/lib/python3.10/site-packages/pandas/core/internals/base.py:85\u001b[0m, in \u001b[0;36mDataManager._validate_set_axis\u001b[0;34m(self, axis, new_labels)\u001b[0m\n\u001b[1;32m     82\u001b[0m     \u001b[38;5;28;01mpass\u001b[39;00m\n\u001b[1;32m     84\u001b[0m \u001b[38;5;28;01melif\u001b[39;00m new_len \u001b[38;5;241m!=\u001b[39m old_len:\n\u001b[0;32m---> 85\u001b[0m     \u001b[38;5;28;01mraise\u001b[39;00m \u001b[38;5;167;01mValueError\u001b[39;00m(\n\u001b[1;32m     86\u001b[0m         \u001b[38;5;124mf\u001b[39m\u001b[38;5;124m\"\u001b[39m\u001b[38;5;124mLength mismatch: Expected axis has \u001b[39m\u001b[38;5;132;01m{\u001b[39;00mold_len\u001b[38;5;132;01m}\u001b[39;00m\u001b[38;5;124m elements, new \u001b[39m\u001b[38;5;124m\"\u001b[39m\n\u001b[1;32m     87\u001b[0m         \u001b[38;5;124mf\u001b[39m\u001b[38;5;124m\"\u001b[39m\u001b[38;5;124mvalues have \u001b[39m\u001b[38;5;132;01m{\u001b[39;00mnew_len\u001b[38;5;132;01m}\u001b[39;00m\u001b[38;5;124m elements\u001b[39m\u001b[38;5;124m\"\u001b[39m\n\u001b[1;32m     88\u001b[0m     )\n",
      "\u001b[0;31mValueError\u001b[0m: Length mismatch: Expected axis has 4 elements, new values have 5 elements"
     ]
    }
   ],
   "source": [
    "actors.columns = newcolumns"
   ]
  },
  {
   "cell_type": "code",
   "execution_count": null,
   "id": "09ee3f17",
   "metadata": {},
   "outputs": [],
   "source": [
    "#checking for duplicates \n",
    "\n",
    "actors.duplicated().any() #there are no duplicates "
   ]
  },
  {
   "cell_type": "code",
   "execution_count": null,
   "id": "1a5dcda7",
   "metadata": {},
   "outputs": [],
   "source": [
    "actors.head(2)"
   ]
  },
  {
   "cell_type": "markdown",
   "id": "abbd4587",
   "metadata": {},
   "source": [
    "### Column types and optimization "
   ]
  },
  {
   "cell_type": "markdown",
   "id": "e4fd474b",
   "metadata": {},
   "source": [
    "I will optimize the database for memory "
   ]
  },
  {
   "cell_type": "code",
   "execution_count": null,
   "id": "42ce6b5f",
   "metadata": {},
   "outputs": [],
   "source": [
    "actors.info(memory_usage='deep')"
   ]
  },
  {
   "cell_type": "code",
   "execution_count": null,
   "id": "3b41c258",
   "metadata": {},
   "outputs": [],
   "source": [
    "#downcast actor_id\n",
    "\n",
    "actors.actor_id = pd.to_numeric(actors.actor_id, downcast='integer')"
   ]
  },
  {
   "cell_type": "code",
   "execution_count": null,
   "id": "55f194ef",
   "metadata": {},
   "outputs": [],
   "source": [
    "#name columns to 'category'\n",
    "\n",
    "for c in actors.select_dtypes(include='object'):\n",
    "    \n",
    "    actors[c] = actors[c].astype('category')   "
   ]
  },
  {
   "cell_type": "code",
   "execution_count": null,
   "id": "146c3c3c",
   "metadata": {},
   "outputs": [],
   "source": [
    "#no need for 'nanoseconds' precision\n",
    "\n",
    "actors.last_update = actors.actor_last_update.astype('datetime64[s]')"
   ]
  },
  {
   "cell_type": "markdown",
   "id": "20d76222",
   "metadata": {},
   "source": [
    "### Comparison output vs. original"
   ]
  },
  {
   "cell_type": "code",
   "execution_count": null,
   "id": "eaba14a8",
   "metadata": {},
   "outputs": [],
   "source": [
    "#one additional column as we have created a 'full_name' column \n",
    "\n",
    "print(actorsoriginal.shape)\n",
    "print(actors.shape)"
   ]
  },
  {
   "cell_type": "code",
   "execution_count": null,
   "id": "d20dc2cf",
   "metadata": {},
   "outputs": [],
   "source": [
    "actors.info(memory_usage='deep')"
   ]
  },
  {
   "cell_type": "code",
   "execution_count": null,
   "id": "c89cc1ab",
   "metadata": {},
   "outputs": [],
   "source": [
    "actorsoriginal.info(memory_usage='deep') #take into account we have included a column"
   ]
  },
  {
   "cell_type": "markdown",
   "id": "40275cff",
   "metadata": {},
   "source": [
    "### Export clean table"
   ]
  },
  {
   "cell_type": "code",
   "execution_count": null,
   "id": "81a0fe4a",
   "metadata": {},
   "outputs": [],
   "source": [
    "actors.to_csv('/Users/criscarneiro/desktop/ironhack/6_Projects/sql-data-base-building/data/clean/actor_clean.csv', index=False)"
   ]
  }
 ],
 "metadata": {
  "kernelspec": {
   "display_name": "clase",
   "language": "python",
   "name": "clase"
  },
  "language_info": {
   "codemirror_mode": {
    "name": "ipython",
    "version": 3
   },
   "file_extension": ".py",
   "mimetype": "text/x-python",
   "name": "python",
   "nbconvert_exporter": "python",
   "pygments_lexer": "ipython3",
   "version": "3.10.13"
  }
 },
 "nbformat": 4,
 "nbformat_minor": 5
}
