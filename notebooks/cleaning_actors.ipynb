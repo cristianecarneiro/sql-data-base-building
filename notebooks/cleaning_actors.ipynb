{
 "cells": [
  {
   "cell_type": "markdown",
   "id": "71c75516",
   "metadata": {},
   "source": [
    "# Project: Building MySQL Database for VHS Rental Store | Cristiane Carneiro"
   ]
  },
  {
   "cell_type": "markdown",
   "id": "9d35d8f0",
   "metadata": {},
   "source": [
    "## Data Cleaning : actors.csv"
   ]
  },
  {
   "cell_type": "markdown",
   "id": "f5a4c7a3",
   "metadata": {},
   "source": [
    "In this file, one can review the step by step cleaning process for table actors.csv "
   ]
  },
  {
   "cell_type": "markdown",
   "id": "806d24b8",
   "metadata": {},
   "source": [
    "### Import "
   ]
  },
  {
   "cell_type": "markdown",
   "id": "7f70c10f",
   "metadata": {},
   "source": [
    "We start by importing the libraries we are going to use and loading the database"
   ]
  },
  {
   "cell_type": "code",
   "execution_count": 96,
   "id": "c77a9833",
   "metadata": {},
   "outputs": [
    {
     "name": "stdout",
     "output_type": "stream",
     "text": [
      "Requirement already satisfied: ipython in /Users/criscarneiro/anaconda3/envs/clase/lib/python3.10/site-packages (8.16.1)\n",
      "Requirement already satisfied: backcall in /Users/criscarneiro/anaconda3/envs/clase/lib/python3.10/site-packages (from ipython) (0.2.0)\n",
      "Requirement already satisfied: decorator in /Users/criscarneiro/anaconda3/envs/clase/lib/python3.10/site-packages (from ipython) (5.1.1)\n",
      "Requirement already satisfied: jedi>=0.16 in /Users/criscarneiro/anaconda3/envs/clase/lib/python3.10/site-packages (from ipython) (0.19.1)\n",
      "Requirement already satisfied: matplotlib-inline in /Users/criscarneiro/anaconda3/envs/clase/lib/python3.10/site-packages (from ipython) (0.1.6)\n",
      "Requirement already satisfied: pickleshare in /Users/criscarneiro/anaconda3/envs/clase/lib/python3.10/site-packages (from ipython) (0.7.5)\n",
      "Requirement already satisfied: prompt-toolkit!=3.0.37,<3.1.0,>=3.0.30 in /Users/criscarneiro/anaconda3/envs/clase/lib/python3.10/site-packages (from ipython) (3.0.39)\n",
      "Requirement already satisfied: pygments>=2.4.0 in /Users/criscarneiro/anaconda3/envs/clase/lib/python3.10/site-packages (from ipython) (2.16.1)\n",
      "Requirement already satisfied: stack-data in /Users/criscarneiro/anaconda3/envs/clase/lib/python3.10/site-packages (from ipython) (0.6.3)\n",
      "Requirement already satisfied: traitlets>=5 in /Users/criscarneiro/anaconda3/envs/clase/lib/python3.10/site-packages (from ipython) (5.11.2)\n",
      "Requirement already satisfied: exceptiongroup in /Users/criscarneiro/anaconda3/envs/clase/lib/python3.10/site-packages (from ipython) (1.1.3)\n",
      "Requirement already satisfied: pexpect>4.3 in /Users/criscarneiro/anaconda3/envs/clase/lib/python3.10/site-packages (from ipython) (4.8.0)\n",
      "Requirement already satisfied: appnope in /Users/criscarneiro/anaconda3/envs/clase/lib/python3.10/site-packages (from ipython) (0.1.3)\n",
      "Requirement already satisfied: parso<0.9.0,>=0.8.3 in /Users/criscarneiro/anaconda3/envs/clase/lib/python3.10/site-packages (from jedi>=0.16->ipython) (0.8.3)\n",
      "Requirement already satisfied: ptyprocess>=0.5 in /Users/criscarneiro/anaconda3/envs/clase/lib/python3.10/site-packages (from pexpect>4.3->ipython) (0.7.0)\n",
      "Requirement already satisfied: wcwidth in /Users/criscarneiro/anaconda3/envs/clase/lib/python3.10/site-packages (from prompt-toolkit!=3.0.37,<3.1.0,>=3.0.30->ipython) (0.2.8)\n",
      "Requirement already satisfied: executing>=1.2.0 in /Users/criscarneiro/anaconda3/envs/clase/lib/python3.10/site-packages (from stack-data->ipython) (2.0.0)\n",
      "Requirement already satisfied: asttokens>=2.1.0 in /Users/criscarneiro/anaconda3/envs/clase/lib/python3.10/site-packages (from stack-data->ipython) (2.4.0)\n",
      "Requirement already satisfied: pure-eval in /Users/criscarneiro/anaconda3/envs/clase/lib/python3.10/site-packages (from stack-data->ipython) (0.2.2)\n",
      "Requirement already satisfied: six>=1.12.0 in /Users/criscarneiro/anaconda3/envs/clase/lib/python3.10/site-packages (from asttokens>=2.1.0->stack-data->ipython) (1.16.0)\n",
      "Note: you may need to restart the kernel to use updated packages.\n",
      "Requirement already satisfied: seaborn in /Users/criscarneiro/anaconda3/envs/clase/lib/python3.10/site-packages (0.13.0)\n",
      "Requirement already satisfied: numpy!=1.24.0,>=1.20 in /Users/criscarneiro/anaconda3/envs/clase/lib/python3.10/site-packages (from seaborn) (1.26.1)\n",
      "Requirement already satisfied: pandas>=1.2 in /Users/criscarneiro/anaconda3/envs/clase/lib/python3.10/site-packages (from seaborn) (2.1.1)\n",
      "Requirement already satisfied: matplotlib!=3.6.1,>=3.3 in /Users/criscarneiro/anaconda3/envs/clase/lib/python3.10/site-packages (from seaborn) (3.8.0)\n",
      "Requirement already satisfied: contourpy>=1.0.1 in /Users/criscarneiro/anaconda3/envs/clase/lib/python3.10/site-packages (from matplotlib!=3.6.1,>=3.3->seaborn) (1.1.1)\n",
      "Requirement already satisfied: cycler>=0.10 in /Users/criscarneiro/anaconda3/envs/clase/lib/python3.10/site-packages (from matplotlib!=3.6.1,>=3.3->seaborn) (0.12.1)\n",
      "Requirement already satisfied: fonttools>=4.22.0 in /Users/criscarneiro/anaconda3/envs/clase/lib/python3.10/site-packages (from matplotlib!=3.6.1,>=3.3->seaborn) (4.43.1)\n",
      "Requirement already satisfied: kiwisolver>=1.0.1 in /Users/criscarneiro/anaconda3/envs/clase/lib/python3.10/site-packages (from matplotlib!=3.6.1,>=3.3->seaborn) (1.4.5)\n",
      "Requirement already satisfied: packaging>=20.0 in /Users/criscarneiro/anaconda3/envs/clase/lib/python3.10/site-packages (from matplotlib!=3.6.1,>=3.3->seaborn) (23.2)\n",
      "Requirement already satisfied: pillow>=6.2.0 in /Users/criscarneiro/anaconda3/envs/clase/lib/python3.10/site-packages (from matplotlib!=3.6.1,>=3.3->seaborn) (10.1.0)\n",
      "Requirement already satisfied: pyparsing>=2.3.1 in /Users/criscarneiro/anaconda3/envs/clase/lib/python3.10/site-packages (from matplotlib!=3.6.1,>=3.3->seaborn) (3.1.1)\n",
      "Requirement already satisfied: python-dateutil>=2.7 in /Users/criscarneiro/anaconda3/envs/clase/lib/python3.10/site-packages (from matplotlib!=3.6.1,>=3.3->seaborn) (2.8.2)\n",
      "Requirement already satisfied: pytz>=2020.1 in /Users/criscarneiro/anaconda3/envs/clase/lib/python3.10/site-packages (from pandas>=1.2->seaborn) (2023.3.post1)\n",
      "Requirement already satisfied: tzdata>=2022.1 in /Users/criscarneiro/anaconda3/envs/clase/lib/python3.10/site-packages (from pandas>=1.2->seaborn) (2023.3)\n",
      "Requirement already satisfied: six>=1.5 in /Users/criscarneiro/anaconda3/envs/clase/lib/python3.10/site-packages (from python-dateutil>=2.7->matplotlib!=3.6.1,>=3.3->seaborn) (1.16.0)\n",
      "Note: you may need to restart the kernel to use updated packages.\n"
     ]
    }
   ],
   "source": [
    "%pip install ipython\n",
    "%pip install seaborn"
   ]
  },
  {
   "cell_type": "code",
   "execution_count": 97,
   "id": "7a1c9791",
   "metadata": {},
   "outputs": [],
   "source": [
    "import pandas as pd\n",
    "pd.set_option('display.max_columns', None)\n",
    "\n",
    "import numpy as np\n",
    "\n",
    "import warnings\n",
    "warnings.filterwarnings('ignore')\n",
    "\n",
    "import pylab as plt  \n",
    "\n",
    "import seaborn as sns \n",
    "\n",
    "%matplotlib inline"
   ]
  },
  {
   "cell_type": "code",
   "execution_count": 98,
   "id": "92109971",
   "metadata": {},
   "outputs": [],
   "source": [
    "actors = pd.read_csv('/Users/criscarneiro/desktop/ironhack/6_Projects/sql-data-base-building/data/raw/actor.csv')"
   ]
  },
  {
   "cell_type": "code",
   "execution_count": 99,
   "id": "f34b1e91",
   "metadata": {},
   "outputs": [
    {
     "data": {
      "text/html": [
       "<div>\n",
       "<style scoped>\n",
       "    .dataframe tbody tr th:only-of-type {\n",
       "        vertical-align: middle;\n",
       "    }\n",
       "\n",
       "    .dataframe tbody tr th {\n",
       "        vertical-align: top;\n",
       "    }\n",
       "\n",
       "    .dataframe thead th {\n",
       "        text-align: right;\n",
       "    }\n",
       "</style>\n",
       "<table border=\"1\" class=\"dataframe\">\n",
       "  <thead>\n",
       "    <tr style=\"text-align: right;\">\n",
       "      <th></th>\n",
       "      <th>actor_id</th>\n",
       "      <th>first_name</th>\n",
       "      <th>last_name</th>\n",
       "      <th>last_update</th>\n",
       "    </tr>\n",
       "  </thead>\n",
       "  <tbody>\n",
       "    <tr>\n",
       "      <th>0</th>\n",
       "      <td>1</td>\n",
       "      <td>PENELOPE</td>\n",
       "      <td>GUINESS</td>\n",
       "      <td>2006-02-15 04:34:33</td>\n",
       "    </tr>\n",
       "    <tr>\n",
       "      <th>1</th>\n",
       "      <td>2</td>\n",
       "      <td>NICK</td>\n",
       "      <td>WAHLBERG</td>\n",
       "      <td>2006-02-15 04:34:33</td>\n",
       "    </tr>\n",
       "    <tr>\n",
       "      <th>2</th>\n",
       "      <td>3</td>\n",
       "      <td>ED</td>\n",
       "      <td>CHASE</td>\n",
       "      <td>2006-02-15 04:34:33</td>\n",
       "    </tr>\n",
       "    <tr>\n",
       "      <th>3</th>\n",
       "      <td>4</td>\n",
       "      <td>JENNIFER</td>\n",
       "      <td>DAVIS</td>\n",
       "      <td>2006-02-15 04:34:33</td>\n",
       "    </tr>\n",
       "    <tr>\n",
       "      <th>4</th>\n",
       "      <td>5</td>\n",
       "      <td>JOHNNY</td>\n",
       "      <td>LOLLOBRIGIDA</td>\n",
       "      <td>2006-02-15 04:34:33</td>\n",
       "    </tr>\n",
       "  </tbody>\n",
       "</table>\n",
       "</div>"
      ],
      "text/plain": [
       "   actor_id first_name     last_name          last_update\n",
       "0         1   PENELOPE       GUINESS  2006-02-15 04:34:33\n",
       "1         2       NICK      WAHLBERG  2006-02-15 04:34:33\n",
       "2         3         ED         CHASE  2006-02-15 04:34:33\n",
       "3         4   JENNIFER         DAVIS  2006-02-15 04:34:33\n",
       "4         5     JOHNNY  LOLLOBRIGIDA  2006-02-15 04:34:33"
      ]
     },
     "execution_count": 99,
     "metadata": {},
     "output_type": "execute_result"
    }
   ],
   "source": [
    "actors.head()"
   ]
  },
  {
   "cell_type": "markdown",
   "id": "b2445efb",
   "metadata": {},
   "source": [
    "### Good practices"
   ]
  },
  {
   "cell_type": "markdown",
   "id": "41edadf6",
   "metadata": {},
   "source": [
    "Some good practices before we continue with the exercise"
   ]
  },
  {
   "cell_type": "code",
   "execution_count": 100,
   "id": "f017f874",
   "metadata": {},
   "outputs": [],
   "source": [
    "#creating a back-up with the original table \n",
    "\n",
    "actorsoriginal = actors.copy()"
   ]
  },
  {
   "cell_type": "code",
   "execution_count": 101,
   "id": "4cab330d",
   "metadata": {},
   "outputs": [
    {
     "data": {
      "text/plain": [
       "Index(['actor_id', 'first_name', 'last_name', 'last_update'], dtype='object')"
      ]
     },
     "execution_count": 101,
     "metadata": {},
     "output_type": "execute_result"
    }
   ],
   "source": [
    "#ensuring column names are clean \n",
    "\n",
    "actors.columns"
   ]
  },
  {
   "cell_type": "code",
   "execution_count": 102,
   "id": "534aa5f4",
   "metadata": {},
   "outputs": [
    {
     "data": {
      "text/plain": [
       "Index(['actor_id', 'first_name', 'last_name', 'last_update'], dtype='object')"
      ]
     },
     "execution_count": 102,
     "metadata": {},
     "output_type": "execute_result"
    }
   ],
   "source": [
    "actors.columns = [c.lower().replace(' ', '_') for c in actors.columns]\n",
    "\n",
    "actors.columns"
   ]
  },
  {
   "cell_type": "code",
   "execution_count": 103,
   "id": "4ae974df",
   "metadata": {},
   "outputs": [
    {
     "data": {
      "text/plain": [
       "False"
      ]
     },
     "execution_count": 103,
     "metadata": {},
     "output_type": "execute_result"
    }
   ],
   "source": [
    "#checking for duplicates \n",
    "\n",
    "actors.duplicated().any() #there are no duplicates "
   ]
  },
  {
   "cell_type": "markdown",
   "id": "5de6c7b5",
   "metadata": {},
   "source": [
    "### Explore "
   ]
  },
  {
   "cell_type": "markdown",
   "id": "f6bbee82",
   "metadata": {},
   "source": [
    "Exploratory analysis to understand the data base (e.g,. description, column types, searching for null values) "
   ]
  },
  {
   "cell_type": "code",
   "execution_count": 104,
   "id": "6064de19",
   "metadata": {},
   "outputs": [
    {
     "data": {
      "text/html": [
       "<div>\n",
       "<style scoped>\n",
       "    .dataframe tbody tr th:only-of-type {\n",
       "        vertical-align: middle;\n",
       "    }\n",
       "\n",
       "    .dataframe tbody tr th {\n",
       "        vertical-align: top;\n",
       "    }\n",
       "\n",
       "    .dataframe thead th {\n",
       "        text-align: right;\n",
       "    }\n",
       "</style>\n",
       "<table border=\"1\" class=\"dataframe\">\n",
       "  <thead>\n",
       "    <tr style=\"text-align: right;\">\n",
       "      <th></th>\n",
       "      <th>actor_id</th>\n",
       "      <th>first_name</th>\n",
       "      <th>last_name</th>\n",
       "      <th>last_update</th>\n",
       "    </tr>\n",
       "  </thead>\n",
       "  <tbody>\n",
       "    <tr>\n",
       "      <th>0</th>\n",
       "      <td>1</td>\n",
       "      <td>PENELOPE</td>\n",
       "      <td>GUINESS</td>\n",
       "      <td>2006-02-15 04:34:33</td>\n",
       "    </tr>\n",
       "    <tr>\n",
       "      <th>1</th>\n",
       "      <td>2</td>\n",
       "      <td>NICK</td>\n",
       "      <td>WAHLBERG</td>\n",
       "      <td>2006-02-15 04:34:33</td>\n",
       "    </tr>\n",
       "    <tr>\n",
       "      <th>2</th>\n",
       "      <td>3</td>\n",
       "      <td>ED</td>\n",
       "      <td>CHASE</td>\n",
       "      <td>2006-02-15 04:34:33</td>\n",
       "    </tr>\n",
       "    <tr>\n",
       "      <th>3</th>\n",
       "      <td>4</td>\n",
       "      <td>JENNIFER</td>\n",
       "      <td>DAVIS</td>\n",
       "      <td>2006-02-15 04:34:33</td>\n",
       "    </tr>\n",
       "    <tr>\n",
       "      <th>4</th>\n",
       "      <td>5</td>\n",
       "      <td>JOHNNY</td>\n",
       "      <td>LOLLOBRIGIDA</td>\n",
       "      <td>2006-02-15 04:34:33</td>\n",
       "    </tr>\n",
       "  </tbody>\n",
       "</table>\n",
       "</div>"
      ],
      "text/plain": [
       "   actor_id first_name     last_name          last_update\n",
       "0         1   PENELOPE       GUINESS  2006-02-15 04:34:33\n",
       "1         2       NICK      WAHLBERG  2006-02-15 04:34:33\n",
       "2         3         ED         CHASE  2006-02-15 04:34:33\n",
       "3         4   JENNIFER         DAVIS  2006-02-15 04:34:33\n",
       "4         5     JOHNNY  LOLLOBRIGIDA  2006-02-15 04:34:33"
      ]
     },
     "execution_count": 104,
     "metadata": {},
     "output_type": "execute_result"
    }
   ],
   "source": [
    "#it seems we have a repository of actors with their respective IDs and the data in each it was updated. \n",
    "\n",
    "actors.head()"
   ]
  },
  {
   "cell_type": "code",
   "execution_count": 105,
   "id": "f2711216",
   "metadata": {},
   "outputs": [
    {
     "data": {
      "text/plain": [
       "(200, 4)"
      ]
     },
     "execution_count": 105,
     "metadata": {},
     "output_type": "execute_result"
    }
   ],
   "source": [
    "#we have 4 columns, and 200 entries (rows) in our original database\n",
    "\n",
    "actorsoriginal.shape"
   ]
  },
  {
   "cell_type": "code",
   "execution_count": 106,
   "id": "fc98353d",
   "metadata": {},
   "outputs": [
    {
     "name": "stdout",
     "output_type": "stream",
     "text": [
      "<class 'pandas.core.frame.DataFrame'>\n",
      "RangeIndex: 200 entries, 0 to 199\n",
      "Data columns (total 4 columns):\n",
      " #   Column       Non-Null Count  Dtype \n",
      "---  ------       --------------  ----- \n",
      " 0   actor_id     200 non-null    int64 \n",
      " 1   first_name   200 non-null    object\n",
      " 2   last_name    200 non-null    object\n",
      " 3   last_update  200 non-null    object\n",
      "dtypes: int64(1), object(3)\n",
      "memory usage: 6.4+ KB\n"
     ]
    }
   ],
   "source": [
    "#here we can see the type of each of the columns - int type for column ID, and object type for the name columns (strings)\n",
    "#it seems all values are non-null\n",
    "\n",
    "actors.info()"
   ]
  },
  {
   "cell_type": "code",
   "execution_count": 107,
   "id": "93941e38",
   "metadata": {},
   "outputs": [
    {
     "data": {
      "text/html": [
       "<div>\n",
       "<style scoped>\n",
       "    .dataframe tbody tr th:only-of-type {\n",
       "        vertical-align: middle;\n",
       "    }\n",
       "\n",
       "    .dataframe tbody tr th {\n",
       "        vertical-align: top;\n",
       "    }\n",
       "\n",
       "    .dataframe thead th {\n",
       "        text-align: right;\n",
       "    }\n",
       "</style>\n",
       "<table border=\"1\" class=\"dataframe\">\n",
       "  <thead>\n",
       "    <tr style=\"text-align: right;\">\n",
       "      <th></th>\n",
       "      <th>count</th>\n",
       "      <th>unique</th>\n",
       "      <th>top</th>\n",
       "      <th>freq</th>\n",
       "      <th>mean</th>\n",
       "      <th>std</th>\n",
       "      <th>min</th>\n",
       "      <th>25%</th>\n",
       "      <th>50%</th>\n",
       "      <th>75%</th>\n",
       "      <th>max</th>\n",
       "    </tr>\n",
       "  </thead>\n",
       "  <tbody>\n",
       "    <tr>\n",
       "      <th>actor_id</th>\n",
       "      <td>200.0</td>\n",
       "      <td>NaN</td>\n",
       "      <td>NaN</td>\n",
       "      <td>NaN</td>\n",
       "      <td>100.5</td>\n",
       "      <td>57.879185</td>\n",
       "      <td>1.0</td>\n",
       "      <td>50.75</td>\n",
       "      <td>100.5</td>\n",
       "      <td>150.25</td>\n",
       "      <td>200.0</td>\n",
       "    </tr>\n",
       "    <tr>\n",
       "      <th>first_name</th>\n",
       "      <td>200</td>\n",
       "      <td>128</td>\n",
       "      <td>PENELOPE</td>\n",
       "      <td>4</td>\n",
       "      <td>NaN</td>\n",
       "      <td>NaN</td>\n",
       "      <td>NaN</td>\n",
       "      <td>NaN</td>\n",
       "      <td>NaN</td>\n",
       "      <td>NaN</td>\n",
       "      <td>NaN</td>\n",
       "    </tr>\n",
       "    <tr>\n",
       "      <th>last_name</th>\n",
       "      <td>200</td>\n",
       "      <td>121</td>\n",
       "      <td>KILMER</td>\n",
       "      <td>5</td>\n",
       "      <td>NaN</td>\n",
       "      <td>NaN</td>\n",
       "      <td>NaN</td>\n",
       "      <td>NaN</td>\n",
       "      <td>NaN</td>\n",
       "      <td>NaN</td>\n",
       "      <td>NaN</td>\n",
       "    </tr>\n",
       "    <tr>\n",
       "      <th>last_update</th>\n",
       "      <td>200</td>\n",
       "      <td>1</td>\n",
       "      <td>2006-02-15 04:34:33</td>\n",
       "      <td>200</td>\n",
       "      <td>NaN</td>\n",
       "      <td>NaN</td>\n",
       "      <td>NaN</td>\n",
       "      <td>NaN</td>\n",
       "      <td>NaN</td>\n",
       "      <td>NaN</td>\n",
       "      <td>NaN</td>\n",
       "    </tr>\n",
       "  </tbody>\n",
       "</table>\n",
       "</div>"
      ],
      "text/plain": [
       "             count unique                  top freq   mean        std  min  \\\n",
       "actor_id     200.0    NaN                  NaN  NaN  100.5  57.879185  1.0   \n",
       "first_name     200    128             PENELOPE    4    NaN        NaN  NaN   \n",
       "last_name      200    121               KILMER    5    NaN        NaN  NaN   \n",
       "last_update    200      1  2006-02-15 04:34:33  200    NaN        NaN  NaN   \n",
       "\n",
       "               25%    50%     75%    max  \n",
       "actor_id     50.75  100.5  150.25  200.0  \n",
       "first_name     NaN    NaN     NaN    NaN  \n",
       "last_name      NaN    NaN     NaN    NaN  \n",
       "last_update    NaN    NaN     NaN    NaN  "
      ]
     },
     "execution_count": 107,
     "metadata": {},
     "output_type": "execute_result"
    }
   ],
   "source": [
    "#description table \n",
    "#here we can see the #of unique values, and the mode of each field. Ultimately we will be interested on the unique 'full names', so worth checking if there are non-unique values there\n",
    "\n",
    "actors.describe(include='all').T"
   ]
  },
  {
   "cell_type": "markdown",
   "id": "e6a71fc7",
   "metadata": {},
   "source": [
    "### Null values"
   ]
  },
  {
   "cell_type": "markdown",
   "id": "69bcf8e3",
   "metadata": {},
   "source": [
    "As stated above, there are no null values in the database. See per below:"
   ]
  },
  {
   "cell_type": "code",
   "execution_count": 108,
   "id": "519b012b",
   "metadata": {},
   "outputs": [
    {
     "data": {
      "text/plain": [
       "actor_id       0\n",
       "first_name     0\n",
       "last_name      0\n",
       "last_update    0\n",
       "dtype: int64"
      ]
     },
     "execution_count": 108,
     "metadata": {},
     "output_type": "execute_result"
    }
   ],
   "source": [
    "#there are no null values in the database \n",
    "\n",
    "nan_cols = actors.isna().sum()\n",
    "\n",
    "nan_cols"
   ]
  },
  {
   "cell_type": "markdown",
   "id": "03e5b769",
   "metadata": {},
   "source": [
    "### Other cleaning "
   ]
  },
  {
   "cell_type": "markdown",
   "id": "2f6faecf",
   "metadata": {},
   "source": [
    "#### actor_id"
   ]
  },
  {
   "cell_type": "code",
   "execution_count": 109,
   "id": "799c6d52",
   "metadata": {},
   "outputs": [
    {
     "data": {
      "text/plain": [
       "dtype('int64')"
      ]
     },
     "execution_count": 109,
     "metadata": {},
     "output_type": "execute_result"
    }
   ],
   "source": [
    "#we got a list of int values, which seem to be IDs for the each actor\n",
    "#this is the most appropriate datatype \n",
    "\n",
    "actors.actor_id.dtype"
   ]
  },
  {
   "cell_type": "code",
   "execution_count": 110,
   "id": "207a55af",
   "metadata": {},
   "outputs": [
    {
     "data": {
      "text/plain": [
       "200"
      ]
     },
     "execution_count": 110,
     "metadata": {},
     "output_type": "execute_result"
    }
   ],
   "source": [
    "#it seems all the IDs are unique values \n",
    "\n",
    "len(actors.actor_id.unique())"
   ]
  },
  {
   "cell_type": "code",
   "execution_count": 111,
   "id": "8ad440b0",
   "metadata": {},
   "outputs": [],
   "source": [
    "#actors.actor_id.unique()"
   ]
  },
  {
   "cell_type": "markdown",
   "id": "0d01f191",
   "metadata": {},
   "source": [
    "#### last_update"
   ]
  },
  {
   "cell_type": "code",
   "execution_count": 112,
   "id": "f3ed778d",
   "metadata": {},
   "outputs": [
    {
     "data": {
      "text/plain": [
       "dtype('O')"
      ]
     },
     "execution_count": 112,
     "metadata": {},
     "output_type": "execute_result"
    }
   ],
   "source": [
    "#this column is type 'object'. It seems tough it would be most appropriate as a 'time type'\n",
    "\n",
    "actors.last_update.dtype"
   ]
  },
  {
   "cell_type": "code",
   "execution_count": 113,
   "id": "b87ab943",
   "metadata": {},
   "outputs": [
    {
     "data": {
      "text/plain": [
       "last_update\n",
       "2006-02-15 04:34:33    200\n",
       "Name: count, dtype: int64"
      ]
     },
     "execution_count": 113,
     "metadata": {},
     "output_type": "execute_result"
    }
   ],
   "source": [
    "#all the values are the same, indicating all the names were last updated on Feb 15th 2006\n",
    "\n",
    "actors.last_update.value_counts()"
   ]
  },
  {
   "cell_type": "code",
   "execution_count": 114,
   "id": "bb44dbf0",
   "metadata": {},
   "outputs": [],
   "source": [
    "#I will convert the data to datetime64\n",
    "\n",
    "actors.last_update = pd.to_datetime(actors.last_update)"
   ]
  },
  {
   "cell_type": "code",
   "execution_count": 115,
   "id": "2c106194",
   "metadata": {},
   "outputs": [
    {
     "data": {
      "text/plain": [
       "dtype('<M8[ns]')"
      ]
     },
     "execution_count": 115,
     "metadata": {},
     "output_type": "execute_result"
    }
   ],
   "source": [
    "#converted \n",
    "\n",
    "actors.last_update.dtype"
   ]
  },
  {
   "cell_type": "markdown",
   "id": "503937e7",
   "metadata": {},
   "source": [
    "#### first_name, last_name, and new column full_name"
   ]
  },
  {
   "cell_type": "markdown",
   "id": "ae3facef",
   "metadata": {},
   "source": [
    "I will clean the columns first_name, last_name together, and make sure there are no repeated actors (by their full name)"
   ]
  },
  {
   "cell_type": "code",
   "execution_count": 116,
   "id": "1a08703d",
   "metadata": {},
   "outputs": [
    {
     "name": "stdout",
     "output_type": "stream",
     "text": [
      "object\n",
      "object\n"
     ]
    }
   ],
   "source": [
    "#this column is type 'object'. They cointain a list of strings \n",
    "\n",
    "print(actors.first_name.dtype)\n",
    "print(actors.last_name.dtype)"
   ]
  },
  {
   "cell_type": "code",
   "execution_count": 117,
   "id": "e459c799",
   "metadata": {},
   "outputs": [
    {
     "data": {
      "text/plain": [
       "first_name\n",
       "PENELOPE    4\n",
       "JULIA       4\n",
       "KENNETH     4\n",
       "Name: count, dtype: int64"
      ]
     },
     "execution_count": 117,
     "metadata": {},
     "output_type": "execute_result"
    }
   ],
   "source": [
    "#these are the top first_names \n",
    "#some repeated values, but let us wait until we see full names\n",
    "\n",
    "actors.first_name.value_counts().head(3)"
   ]
  },
  {
   "cell_type": "code",
   "execution_count": 118,
   "id": "29aafdf3",
   "metadata": {},
   "outputs": [],
   "source": [
    "#actors.first_name.unique()"
   ]
  },
  {
   "cell_type": "code",
   "execution_count": 119,
   "id": "f1aef673",
   "metadata": {},
   "outputs": [
    {
     "data": {
      "text/plain": [
       "last_name\n",
       "KILMER    5\n",
       "TEMPLE    4\n",
       "NOLTE     4\n",
       "Name: count, dtype: int64"
      ]
     },
     "execution_count": 119,
     "metadata": {},
     "output_type": "execute_result"
    }
   ],
   "source": [
    "#these are the top last_names \n",
    "#some repeated values, but let us wait until we see full names\n",
    "\n",
    "actors.last_name.value_counts().head(3)"
   ]
  },
  {
   "cell_type": "code",
   "execution_count": 120,
   "id": "7eb9dc5b",
   "metadata": {},
   "outputs": [],
   "source": [
    "#actors.last_name.unique()"
   ]
  },
  {
   "cell_type": "code",
   "execution_count": 121,
   "id": "0581c966",
   "metadata": {},
   "outputs": [],
   "source": [
    "#I personally don't like uppercase "
   ]
  },
  {
   "cell_type": "code",
   "execution_count": 122,
   "id": "6b27aa20",
   "metadata": {},
   "outputs": [],
   "source": [
    "actors.first_name = actors.first_name.apply(lambda X: X.title().replace(' ',''))"
   ]
  },
  {
   "cell_type": "code",
   "execution_count": 123,
   "id": "5d6c7949",
   "metadata": {},
   "outputs": [],
   "source": [
    "actors.last_name = actors.last_name.apply(lambda X: X.title().replace(' ',''))"
   ]
  },
  {
   "cell_type": "code",
   "execution_count": 124,
   "id": "dd7efd13",
   "metadata": {},
   "outputs": [
    {
     "data": {
      "text/html": [
       "<div>\n",
       "<style scoped>\n",
       "    .dataframe tbody tr th:only-of-type {\n",
       "        vertical-align: middle;\n",
       "    }\n",
       "\n",
       "    .dataframe tbody tr th {\n",
       "        vertical-align: top;\n",
       "    }\n",
       "\n",
       "    .dataframe thead th {\n",
       "        text-align: right;\n",
       "    }\n",
       "</style>\n",
       "<table border=\"1\" class=\"dataframe\">\n",
       "  <thead>\n",
       "    <tr style=\"text-align: right;\">\n",
       "      <th></th>\n",
       "      <th>actor_id</th>\n",
       "      <th>first_name</th>\n",
       "      <th>last_name</th>\n",
       "      <th>last_update</th>\n",
       "    </tr>\n",
       "  </thead>\n",
       "  <tbody>\n",
       "    <tr>\n",
       "      <th>0</th>\n",
       "      <td>1</td>\n",
       "      <td>Penelope</td>\n",
       "      <td>Guiness</td>\n",
       "      <td>2006-02-15 04:34:33</td>\n",
       "    </tr>\n",
       "    <tr>\n",
       "      <th>1</th>\n",
       "      <td>2</td>\n",
       "      <td>Nick</td>\n",
       "      <td>Wahlberg</td>\n",
       "      <td>2006-02-15 04:34:33</td>\n",
       "    </tr>\n",
       "    <tr>\n",
       "      <th>2</th>\n",
       "      <td>3</td>\n",
       "      <td>Ed</td>\n",
       "      <td>Chase</td>\n",
       "      <td>2006-02-15 04:34:33</td>\n",
       "    </tr>\n",
       "    <tr>\n",
       "      <th>3</th>\n",
       "      <td>4</td>\n",
       "      <td>Jennifer</td>\n",
       "      <td>Davis</td>\n",
       "      <td>2006-02-15 04:34:33</td>\n",
       "    </tr>\n",
       "    <tr>\n",
       "      <th>4</th>\n",
       "      <td>5</td>\n",
       "      <td>Johnny</td>\n",
       "      <td>Lollobrigida</td>\n",
       "      <td>2006-02-15 04:34:33</td>\n",
       "    </tr>\n",
       "  </tbody>\n",
       "</table>\n",
       "</div>"
      ],
      "text/plain": [
       "   actor_id first_name     last_name         last_update\n",
       "0         1   Penelope       Guiness 2006-02-15 04:34:33\n",
       "1         2       Nick      Wahlberg 2006-02-15 04:34:33\n",
       "2         3         Ed         Chase 2006-02-15 04:34:33\n",
       "3         4   Jennifer         Davis 2006-02-15 04:34:33\n",
       "4         5     Johnny  Lollobrigida 2006-02-15 04:34:33"
      ]
     },
     "execution_count": 124,
     "metadata": {},
     "output_type": "execute_result"
    }
   ],
   "source": [
    "actors.head()"
   ]
  },
  {
   "cell_type": "code",
   "execution_count": 125,
   "id": "03bdd8e8",
   "metadata": {},
   "outputs": [],
   "source": [
    "#let us create a full name column, and place it after last_name \n",
    "\n",
    "actors.insert(3, 'full_name', actors['first_name'] + ' ' + actors['last_name'])"
   ]
  },
  {
   "cell_type": "code",
   "execution_count": 126,
   "id": "4d3bac5c",
   "metadata": {},
   "outputs": [
    {
     "data": {
      "text/plain": [
       "full_name\n",
       "Susan Davis             2\n",
       "Ewan Gooding            1\n",
       "Daryl Crawford          1\n",
       "Greta Keitel            1\n",
       "Jane Jackman            1\n",
       "                       ..\n",
       "Michelle Mcconaughey    1\n",
       "Adam Grant              1\n",
       "Sean Williams           1\n",
       "Gary Penn               1\n",
       "Thora Temple            1\n",
       "Name: count, Length: 199, dtype: int64"
      ]
     },
     "execution_count": 126,
     "metadata": {},
     "output_type": "execute_result"
    }
   ],
   "source": [
    "#now let us see if we have repeated actors \n",
    "\n",
    "actors.full_name.value_counts()"
   ]
  },
  {
   "cell_type": "code",
   "execution_count": 127,
   "id": "9b055951",
   "metadata": {},
   "outputs": [],
   "source": [
    "#actors.full_name.unique()"
   ]
  },
  {
   "cell_type": "code",
   "execution_count": 128,
   "id": "b07677b7",
   "metadata": {},
   "outputs": [
    {
     "data": {
      "text/plain": [
       "'From chat GPT \\nSusan Davis (born 1943): Known for her roles in films such as \"Three Women\" (1977) and \"Love and Death\" (1975).\\n\\nSusan Davis (born 1944): Known for her role as Betty Munson in the TV series \"The Mary Tyler Moore Show\" (1970-1977) and its spin-off \"Lou Grant\" (1977-1982).'"
      ]
     },
     "execution_count": 128,
     "metadata": {},
     "output_type": "execute_result"
    }
   ],
   "source": [
    "#it seems we do have a repeated value. However, there are indeed more than one actress named Susan Davis. \n",
    "#for now I will keep both values, but keep that info in mind as we establish links between the tables\n",
    "\n",
    "'''From chat GPT \n",
    "Susan Davis (born 1943): Known for her roles in films such as \"Three Women\" (1977) and \"Love and Death\" (1975).\n",
    "\n",
    "Susan Davis (born 1944): Known for her role as Betty Munson in the TV series \"The Mary Tyler Moore Show\" (1970-1977) and its spin-off \"Lou Grant\" (1977-1982).'''"
   ]
  },
  {
   "cell_type": "markdown",
   "id": "abbd4587",
   "metadata": {},
   "source": [
    "### Column types and optimization "
   ]
  },
  {
   "cell_type": "markdown",
   "id": "e4fd474b",
   "metadata": {},
   "source": [
    "I will optimize the database for memory "
   ]
  },
  {
   "cell_type": "code",
   "execution_count": 129,
   "id": "42ce6b5f",
   "metadata": {},
   "outputs": [
    {
     "name": "stdout",
     "output_type": "stream",
     "text": [
      "<class 'pandas.core.frame.DataFrame'>\n",
      "RangeIndex: 200 entries, 0 to 199\n",
      "Data columns (total 5 columns):\n",
      " #   Column       Non-Null Count  Dtype         \n",
      "---  ------       --------------  -----         \n",
      " 0   actor_id     200 non-null    int64         \n",
      " 1   first_name   200 non-null    object        \n",
      " 2   last_name    200 non-null    object        \n",
      " 3   full_name    200 non-null    object        \n",
      " 4   last_update  200 non-null    datetime64[ns]\n",
      "dtypes: datetime64[ns](1), int64(1), object(3)\n",
      "memory usage: 41.3 KB\n"
     ]
    }
   ],
   "source": [
    "actors.info(memory_usage='deep')"
   ]
  },
  {
   "cell_type": "code",
   "execution_count": 130,
   "id": "3b41c258",
   "metadata": {},
   "outputs": [],
   "source": [
    "#downcast actor_id\n",
    "\n",
    "actors.actor_id = pd.to_numeric(actors.actor_id, downcast='integer')"
   ]
  },
  {
   "cell_type": "code",
   "execution_count": 131,
   "id": "55f194ef",
   "metadata": {},
   "outputs": [],
   "source": [
    "#name columns to 'category'\n",
    "\n",
    "for c in actors.select_dtypes(include='object'):\n",
    "    \n",
    "    actors[c] = actors[c].astype('category')   "
   ]
  },
  {
   "cell_type": "code",
   "execution_count": 132,
   "id": "146c3c3c",
   "metadata": {},
   "outputs": [],
   "source": [
    "#no need for 'nanoseconds' precision\n",
    "\n",
    "actors.last_update = actors.last_update.astype('datetime64[s]')"
   ]
  },
  {
   "cell_type": "markdown",
   "id": "20d76222",
   "metadata": {},
   "source": [
    "### Comparison output vs. original"
   ]
  },
  {
   "cell_type": "code",
   "execution_count": 133,
   "id": "eaba14a8",
   "metadata": {},
   "outputs": [
    {
     "name": "stdout",
     "output_type": "stream",
     "text": [
      "(200, 4)\n",
      "(200, 5)\n"
     ]
    }
   ],
   "source": [
    "#one additional column as we have created a 'full_name' column \n",
    "\n",
    "print(actorsoriginal.shape)\n",
    "print(actors.shape)"
   ]
  },
  {
   "cell_type": "code",
   "execution_count": 134,
   "id": "d20dc2cf",
   "metadata": {},
   "outputs": [
    {
     "name": "stdout",
     "output_type": "stream",
     "text": [
      "<class 'pandas.core.frame.DataFrame'>\n",
      "RangeIndex: 200 entries, 0 to 199\n",
      "Data columns (total 5 columns):\n",
      " #   Column       Non-Null Count  Dtype        \n",
      "---  ------       --------------  -----        \n",
      " 0   actor_id     200 non-null    int16        \n",
      " 1   first_name   200 non-null    category     \n",
      " 2   last_name    200 non-null    category     \n",
      " 3   full_name    200 non-null    category     \n",
      " 4   last_update  200 non-null    datetime64[s]\n",
      "dtypes: category(3), datetime64[s](1), int16(1)\n",
      "memory usage: 48.1 KB\n"
     ]
    }
   ],
   "source": [
    "actors.info(memory_usage='deep')"
   ]
  },
  {
   "cell_type": "code",
   "execution_count": 135,
   "id": "c89cc1ab",
   "metadata": {},
   "outputs": [
    {
     "name": "stdout",
     "output_type": "stream",
     "text": [
      "<class 'pandas.core.frame.DataFrame'>\n",
      "RangeIndex: 200 entries, 0 to 199\n",
      "Data columns (total 4 columns):\n",
      " #   Column       Non-Null Count  Dtype \n",
      "---  ------       --------------  ----- \n",
      " 0   actor_id     200 non-null    int64 \n",
      " 1   first_name   200 non-null    object\n",
      " 2   last_name    200 non-null    object\n",
      " 3   last_update  200 non-null    object\n",
      "dtypes: int64(1), object(3)\n",
      "memory usage: 41.0 KB\n"
     ]
    }
   ],
   "source": [
    "actorsoriginal.info(memory_usage='deep') #take into account we have included a column"
   ]
  },
  {
   "cell_type": "markdown",
   "id": "40275cff",
   "metadata": {},
   "source": [
    "### Export clean table"
   ]
  },
  {
   "cell_type": "code",
   "execution_count": 136,
   "id": "81a0fe4a",
   "metadata": {},
   "outputs": [],
   "source": [
    "actors.to_csv('/Users/criscarneiro/desktop/ironhack/6_Projects/sql-data-base-building/data/clean/actor_clean.csv', index=False)"
   ]
  }
 ],
 "metadata": {
  "kernelspec": {
   "display_name": "clase",
   "language": "python",
   "name": "clase"
  },
  "language_info": {
   "codemirror_mode": {
    "name": "ipython",
    "version": 3
   },
   "file_extension": ".py",
   "mimetype": "text/x-python",
   "name": "python",
   "nbconvert_exporter": "python",
   "pygments_lexer": "ipython3",
   "version": "3.10.13"
  }
 },
 "nbformat": 4,
 "nbformat_minor": 5
}
