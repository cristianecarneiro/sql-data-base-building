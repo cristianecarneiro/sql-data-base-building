{
 "cells": [
  {
   "cell_type": "markdown",
   "id": "71c75516",
   "metadata": {},
   "source": [
    "# Project: Building MySQL Database for VHS Rental Store | Cristiane Carneiro"
   ]
  },
  {
   "cell_type": "markdown",
   "id": "9d35d8f0",
   "metadata": {},
   "source": [
    "## Data Cleaning : film.csv"
   ]
  },
  {
   "cell_type": "markdown",
   "id": "f5a4c7a3",
   "metadata": {},
   "source": [
    "In this file, one can review the step by step cleaning process for table film.csv "
   ]
  },
  {
   "cell_type": "markdown",
   "id": "806d24b8",
   "metadata": {},
   "source": [
    "### Import "
   ]
  },
  {
   "cell_type": "markdown",
   "id": "7f70c10f",
   "metadata": {},
   "source": [
    "We start by importing the libraries we are going to use and loading the database"
   ]
  },
  {
   "cell_type": "code",
   "execution_count": 214,
   "id": "c77a9833",
   "metadata": {},
   "outputs": [
    {
     "name": "stdout",
     "output_type": "stream",
     "text": [
      "Requirement already satisfied: ipython in /Users/criscarneiro/anaconda3/envs/clase/lib/python3.10/site-packages (8.16.1)\n",
      "Requirement already satisfied: backcall in /Users/criscarneiro/anaconda3/envs/clase/lib/python3.10/site-packages (from ipython) (0.2.0)\n",
      "Requirement already satisfied: decorator in /Users/criscarneiro/anaconda3/envs/clase/lib/python3.10/site-packages (from ipython) (5.1.1)\n",
      "Requirement already satisfied: jedi>=0.16 in /Users/criscarneiro/anaconda3/envs/clase/lib/python3.10/site-packages (from ipython) (0.19.1)\n",
      "Requirement already satisfied: matplotlib-inline in /Users/criscarneiro/anaconda3/envs/clase/lib/python3.10/site-packages (from ipython) (0.1.6)\n",
      "Requirement already satisfied: pickleshare in /Users/criscarneiro/anaconda3/envs/clase/lib/python3.10/site-packages (from ipython) (0.7.5)\n",
      "Requirement already satisfied: prompt-toolkit!=3.0.37,<3.1.0,>=3.0.30 in /Users/criscarneiro/anaconda3/envs/clase/lib/python3.10/site-packages (from ipython) (3.0.39)\n",
      "Requirement already satisfied: pygments>=2.4.0 in /Users/criscarneiro/anaconda3/envs/clase/lib/python3.10/site-packages (from ipython) (2.16.1)\n",
      "Requirement already satisfied: stack-data in /Users/criscarneiro/anaconda3/envs/clase/lib/python3.10/site-packages (from ipython) (0.6.3)\n",
      "Requirement already satisfied: traitlets>=5 in /Users/criscarneiro/anaconda3/envs/clase/lib/python3.10/site-packages (from ipython) (5.11.2)\n",
      "Requirement already satisfied: exceptiongroup in /Users/criscarneiro/anaconda3/envs/clase/lib/python3.10/site-packages (from ipython) (1.1.3)\n",
      "Requirement already satisfied: pexpect>4.3 in /Users/criscarneiro/anaconda3/envs/clase/lib/python3.10/site-packages (from ipython) (4.8.0)\n",
      "Requirement already satisfied: appnope in /Users/criscarneiro/anaconda3/envs/clase/lib/python3.10/site-packages (from ipython) (0.1.3)\n",
      "Requirement already satisfied: parso<0.9.0,>=0.8.3 in /Users/criscarneiro/anaconda3/envs/clase/lib/python3.10/site-packages (from jedi>=0.16->ipython) (0.8.3)\n",
      "Requirement already satisfied: ptyprocess>=0.5 in /Users/criscarneiro/anaconda3/envs/clase/lib/python3.10/site-packages (from pexpect>4.3->ipython) (0.7.0)\n",
      "Requirement already satisfied: wcwidth in /Users/criscarneiro/anaconda3/envs/clase/lib/python3.10/site-packages (from prompt-toolkit!=3.0.37,<3.1.0,>=3.0.30->ipython) (0.2.8)\n",
      "Requirement already satisfied: executing>=1.2.0 in /Users/criscarneiro/anaconda3/envs/clase/lib/python3.10/site-packages (from stack-data->ipython) (2.0.0)\n",
      "Requirement already satisfied: asttokens>=2.1.0 in /Users/criscarneiro/anaconda3/envs/clase/lib/python3.10/site-packages (from stack-data->ipython) (2.4.0)\n",
      "Requirement already satisfied: pure-eval in /Users/criscarneiro/anaconda3/envs/clase/lib/python3.10/site-packages (from stack-data->ipython) (0.2.2)\n",
      "Requirement already satisfied: six>=1.12.0 in /Users/criscarneiro/anaconda3/envs/clase/lib/python3.10/site-packages (from asttokens>=2.1.0->stack-data->ipython) (1.16.0)\n",
      "Note: you may need to restart the kernel to use updated packages.\n",
      "Requirement already satisfied: seaborn in /Users/criscarneiro/anaconda3/envs/clase/lib/python3.10/site-packages (0.13.0)\n",
      "Requirement already satisfied: numpy!=1.24.0,>=1.20 in /Users/criscarneiro/anaconda3/envs/clase/lib/python3.10/site-packages (from seaborn) (1.26.1)\n",
      "Requirement already satisfied: pandas>=1.2 in /Users/criscarneiro/anaconda3/envs/clase/lib/python3.10/site-packages (from seaborn) (2.1.1)\n",
      "Requirement already satisfied: matplotlib!=3.6.1,>=3.3 in /Users/criscarneiro/anaconda3/envs/clase/lib/python3.10/site-packages (from seaborn) (3.8.0)\n",
      "Requirement already satisfied: contourpy>=1.0.1 in /Users/criscarneiro/anaconda3/envs/clase/lib/python3.10/site-packages (from matplotlib!=3.6.1,>=3.3->seaborn) (1.1.1)\n",
      "Requirement already satisfied: cycler>=0.10 in /Users/criscarneiro/anaconda3/envs/clase/lib/python3.10/site-packages (from matplotlib!=3.6.1,>=3.3->seaborn) (0.12.1)\n",
      "Requirement already satisfied: fonttools>=4.22.0 in /Users/criscarneiro/anaconda3/envs/clase/lib/python3.10/site-packages (from matplotlib!=3.6.1,>=3.3->seaborn) (4.43.1)\n",
      "Requirement already satisfied: kiwisolver>=1.0.1 in /Users/criscarneiro/anaconda3/envs/clase/lib/python3.10/site-packages (from matplotlib!=3.6.1,>=3.3->seaborn) (1.4.5)\n",
      "Requirement already satisfied: packaging>=20.0 in /Users/criscarneiro/anaconda3/envs/clase/lib/python3.10/site-packages (from matplotlib!=3.6.1,>=3.3->seaborn) (23.2)\n",
      "Requirement already satisfied: pillow>=6.2.0 in /Users/criscarneiro/anaconda3/envs/clase/lib/python3.10/site-packages (from matplotlib!=3.6.1,>=3.3->seaborn) (10.1.0)\n",
      "Requirement already satisfied: pyparsing>=2.3.1 in /Users/criscarneiro/anaconda3/envs/clase/lib/python3.10/site-packages (from matplotlib!=3.6.1,>=3.3->seaborn) (3.1.1)\n",
      "Requirement already satisfied: python-dateutil>=2.7 in /Users/criscarneiro/anaconda3/envs/clase/lib/python3.10/site-packages (from matplotlib!=3.6.1,>=3.3->seaborn) (2.8.2)\n",
      "Requirement already satisfied: pytz>=2020.1 in /Users/criscarneiro/anaconda3/envs/clase/lib/python3.10/site-packages (from pandas>=1.2->seaborn) (2023.3.post1)\n",
      "Requirement already satisfied: tzdata>=2022.1 in /Users/criscarneiro/anaconda3/envs/clase/lib/python3.10/site-packages (from pandas>=1.2->seaborn) (2023.3)\n",
      "Requirement already satisfied: six>=1.5 in /Users/criscarneiro/anaconda3/envs/clase/lib/python3.10/site-packages (from python-dateutil>=2.7->matplotlib!=3.6.1,>=3.3->seaborn) (1.16.0)\n",
      "Note: you may need to restart the kernel to use updated packages.\n"
     ]
    }
   ],
   "source": [
    "%pip install ipython\n",
    "%pip install seaborn"
   ]
  },
  {
   "cell_type": "code",
   "execution_count": 215,
   "id": "7a1c9791",
   "metadata": {},
   "outputs": [],
   "source": [
    "import pandas as pd\n",
    "pd.set_option('display.max_columns', None)\n",
    "\n",
    "import numpy as np\n",
    "\n",
    "import warnings\n",
    "warnings.filterwarnings('ignore')\n",
    "\n",
    "import pylab as plt  \n",
    "\n",
    "import seaborn as sns \n",
    "\n",
    "%matplotlib inline"
   ]
  },
  {
   "cell_type": "code",
   "execution_count": 216,
   "id": "92109971",
   "metadata": {},
   "outputs": [],
   "source": [
    "films = pd.read_csv('/Users/criscarneiro/desktop/ironhack/6_Projects/sql-data-base-building/data/raw/film.csv')"
   ]
  },
  {
   "cell_type": "code",
   "execution_count": 217,
   "id": "f34b1e91",
   "metadata": {},
   "outputs": [
    {
     "data": {
      "text/html": [
       "<div>\n",
       "<style scoped>\n",
       "    .dataframe tbody tr th:only-of-type {\n",
       "        vertical-align: middle;\n",
       "    }\n",
       "\n",
       "    .dataframe tbody tr th {\n",
       "        vertical-align: top;\n",
       "    }\n",
       "\n",
       "    .dataframe thead th {\n",
       "        text-align: right;\n",
       "    }\n",
       "</style>\n",
       "<table border=\"1\" class=\"dataframe\">\n",
       "  <thead>\n",
       "    <tr style=\"text-align: right;\">\n",
       "      <th></th>\n",
       "      <th>film_id</th>\n",
       "      <th>title</th>\n",
       "      <th>description</th>\n",
       "      <th>release_year</th>\n",
       "      <th>language_id</th>\n",
       "      <th>original_language_id</th>\n",
       "      <th>rental_duration</th>\n",
       "      <th>rental_rate</th>\n",
       "      <th>length</th>\n",
       "      <th>replacement_cost</th>\n",
       "      <th>rating</th>\n",
       "      <th>special_features</th>\n",
       "      <th>last_update</th>\n",
       "    </tr>\n",
       "  </thead>\n",
       "  <tbody>\n",
       "    <tr>\n",
       "      <th>0</th>\n",
       "      <td>1</td>\n",
       "      <td>ACADEMY DINOSAUR</td>\n",
       "      <td>A Epic Drama of a Feminist And a Mad Scientist...</td>\n",
       "      <td>2006</td>\n",
       "      <td>1</td>\n",
       "      <td>NaN</td>\n",
       "      <td>6</td>\n",
       "      <td>0.99</td>\n",
       "      <td>86</td>\n",
       "      <td>20.99</td>\n",
       "      <td>PG</td>\n",
       "      <td>Deleted Scenes,Behind the Scenes</td>\n",
       "      <td>2006-02-15 05:03:42</td>\n",
       "    </tr>\n",
       "    <tr>\n",
       "      <th>1</th>\n",
       "      <td>2</td>\n",
       "      <td>ACE GOLDFINGER</td>\n",
       "      <td>A Astounding Epistle of a Database Administrat...</td>\n",
       "      <td>2006</td>\n",
       "      <td>1</td>\n",
       "      <td>NaN</td>\n",
       "      <td>3</td>\n",
       "      <td>4.99</td>\n",
       "      <td>48</td>\n",
       "      <td>12.99</td>\n",
       "      <td>G</td>\n",
       "      <td>Trailers,Deleted Scenes</td>\n",
       "      <td>2006-02-15 05:03:42</td>\n",
       "    </tr>\n",
       "    <tr>\n",
       "      <th>2</th>\n",
       "      <td>3</td>\n",
       "      <td>ADAPTATION HOLES</td>\n",
       "      <td>A Astounding Reflection of a Lumberjack And a ...</td>\n",
       "      <td>2006</td>\n",
       "      <td>1</td>\n",
       "      <td>NaN</td>\n",
       "      <td>7</td>\n",
       "      <td>2.99</td>\n",
       "      <td>50</td>\n",
       "      <td>18.99</td>\n",
       "      <td>NC-17</td>\n",
       "      <td>Trailers,Deleted Scenes</td>\n",
       "      <td>2006-02-15 05:03:42</td>\n",
       "    </tr>\n",
       "    <tr>\n",
       "      <th>3</th>\n",
       "      <td>4</td>\n",
       "      <td>AFFAIR PREJUDICE</td>\n",
       "      <td>A Fanciful Documentary of a Frisbee And a Lumb...</td>\n",
       "      <td>2006</td>\n",
       "      <td>1</td>\n",
       "      <td>NaN</td>\n",
       "      <td>5</td>\n",
       "      <td>2.99</td>\n",
       "      <td>117</td>\n",
       "      <td>26.99</td>\n",
       "      <td>G</td>\n",
       "      <td>Commentaries,Behind the Scenes</td>\n",
       "      <td>2006-02-15 05:03:42</td>\n",
       "    </tr>\n",
       "    <tr>\n",
       "      <th>4</th>\n",
       "      <td>5</td>\n",
       "      <td>AFRICAN EGG</td>\n",
       "      <td>A Fast-Paced Documentary of a Pastry Chef And ...</td>\n",
       "      <td>2006</td>\n",
       "      <td>1</td>\n",
       "      <td>NaN</td>\n",
       "      <td>6</td>\n",
       "      <td>2.99</td>\n",
       "      <td>130</td>\n",
       "      <td>22.99</td>\n",
       "      <td>G</td>\n",
       "      <td>Deleted Scenes</td>\n",
       "      <td>2006-02-15 05:03:42</td>\n",
       "    </tr>\n",
       "  </tbody>\n",
       "</table>\n",
       "</div>"
      ],
      "text/plain": [
       "   film_id             title  \\\n",
       "0        1  ACADEMY DINOSAUR   \n",
       "1        2    ACE GOLDFINGER   \n",
       "2        3  ADAPTATION HOLES   \n",
       "3        4  AFFAIR PREJUDICE   \n",
       "4        5       AFRICAN EGG   \n",
       "\n",
       "                                         description  release_year  \\\n",
       "0  A Epic Drama of a Feminist And a Mad Scientist...          2006   \n",
       "1  A Astounding Epistle of a Database Administrat...          2006   \n",
       "2  A Astounding Reflection of a Lumberjack And a ...          2006   \n",
       "3  A Fanciful Documentary of a Frisbee And a Lumb...          2006   \n",
       "4  A Fast-Paced Documentary of a Pastry Chef And ...          2006   \n",
       "\n",
       "   language_id  original_language_id  rental_duration  rental_rate  length  \\\n",
       "0            1                   NaN                6         0.99      86   \n",
       "1            1                   NaN                3         4.99      48   \n",
       "2            1                   NaN                7         2.99      50   \n",
       "3            1                   NaN                5         2.99     117   \n",
       "4            1                   NaN                6         2.99     130   \n",
       "\n",
       "   replacement_cost rating                  special_features  \\\n",
       "0             20.99     PG  Deleted Scenes,Behind the Scenes   \n",
       "1             12.99      G           Trailers,Deleted Scenes   \n",
       "2             18.99  NC-17           Trailers,Deleted Scenes   \n",
       "3             26.99      G    Commentaries,Behind the Scenes   \n",
       "4             22.99      G                    Deleted Scenes   \n",
       "\n",
       "           last_update  \n",
       "0  2006-02-15 05:03:42  \n",
       "1  2006-02-15 05:03:42  \n",
       "2  2006-02-15 05:03:42  \n",
       "3  2006-02-15 05:03:42  \n",
       "4  2006-02-15 05:03:42  "
      ]
     },
     "execution_count": 217,
     "metadata": {},
     "output_type": "execute_result"
    }
   ],
   "source": [
    "films.head()"
   ]
  },
  {
   "cell_type": "markdown",
   "id": "b2445efb",
   "metadata": {},
   "source": [
    "### Good practices"
   ]
  },
  {
   "cell_type": "markdown",
   "id": "41edadf6",
   "metadata": {},
   "source": [
    "Some good practices before we continue with the exercise"
   ]
  },
  {
   "cell_type": "code",
   "execution_count": 218,
   "id": "f017f874",
   "metadata": {},
   "outputs": [],
   "source": [
    "#creating a back-up with the original table \n",
    "\n",
    "filmsoriginal = films.copy()"
   ]
  },
  {
   "cell_type": "code",
   "execution_count": 219,
   "id": "4cab330d",
   "metadata": {},
   "outputs": [
    {
     "data": {
      "text/plain": [
       "Index(['film_id', 'title', 'description', 'release_year', 'language_id',\n",
       "       'original_language_id', 'rental_duration', 'rental_rate', 'length',\n",
       "       'replacement_cost', 'rating', 'special_features', 'last_update'],\n",
       "      dtype='object')"
      ]
     },
     "execution_count": 219,
     "metadata": {},
     "output_type": "execute_result"
    }
   ],
   "source": [
    "#ensuring column names are clean \n",
    "\n",
    "films.columns"
   ]
  },
  {
   "cell_type": "code",
   "execution_count": 220,
   "id": "534aa5f4",
   "metadata": {},
   "outputs": [
    {
     "data": {
      "text/plain": [
       "Index(['film_id', 'title', 'description', 'release_year', 'language_id',\n",
       "       'original_language_id', 'rental_duration', 'rental_rate', 'length',\n",
       "       'replacement_cost', 'rating', 'special_features', 'last_update'],\n",
       "      dtype='object')"
      ]
     },
     "execution_count": 220,
     "metadata": {},
     "output_type": "execute_result"
    }
   ],
   "source": [
    "films.columns = [c.lower().replace(' ', '_') for c in films.columns]\n",
    "\n",
    "films.columns"
   ]
  },
  {
   "cell_type": "code",
   "execution_count": 221,
   "id": "4ae974df",
   "metadata": {},
   "outputs": [
    {
     "data": {
      "text/plain": [
       "False"
      ]
     },
     "execution_count": 221,
     "metadata": {},
     "output_type": "execute_result"
    }
   ],
   "source": [
    "#checking for duplicates \n",
    "\n",
    "films.duplicated().any() #there are no duplicates "
   ]
  },
  {
   "cell_type": "markdown",
   "id": "5de6c7b5",
   "metadata": {},
   "source": [
    "### Explore "
   ]
  },
  {
   "cell_type": "markdown",
   "id": "f6bbee82",
   "metadata": {},
   "source": [
    "Exploratory analysis to understand the data base (e.g,. description, column types, searching for null values) "
   ]
  },
  {
   "cell_type": "code",
   "execution_count": 222,
   "id": "6064de19",
   "metadata": {},
   "outputs": [
    {
     "data": {
      "text/html": [
       "<div>\n",
       "<style scoped>\n",
       "    .dataframe tbody tr th:only-of-type {\n",
       "        vertical-align: middle;\n",
       "    }\n",
       "\n",
       "    .dataframe tbody tr th {\n",
       "        vertical-align: top;\n",
       "    }\n",
       "\n",
       "    .dataframe thead th {\n",
       "        text-align: right;\n",
       "    }\n",
       "</style>\n",
       "<table border=\"1\" class=\"dataframe\">\n",
       "  <thead>\n",
       "    <tr style=\"text-align: right;\">\n",
       "      <th></th>\n",
       "      <th>film_id</th>\n",
       "      <th>title</th>\n",
       "      <th>description</th>\n",
       "      <th>release_year</th>\n",
       "      <th>language_id</th>\n",
       "      <th>original_language_id</th>\n",
       "      <th>rental_duration</th>\n",
       "      <th>rental_rate</th>\n",
       "      <th>length</th>\n",
       "      <th>replacement_cost</th>\n",
       "      <th>rating</th>\n",
       "      <th>special_features</th>\n",
       "      <th>last_update</th>\n",
       "    </tr>\n",
       "  </thead>\n",
       "  <tbody>\n",
       "    <tr>\n",
       "      <th>0</th>\n",
       "      <td>1</td>\n",
       "      <td>ACADEMY DINOSAUR</td>\n",
       "      <td>A Epic Drama of a Feminist And a Mad Scientist...</td>\n",
       "      <td>2006</td>\n",
       "      <td>1</td>\n",
       "      <td>NaN</td>\n",
       "      <td>6</td>\n",
       "      <td>0.99</td>\n",
       "      <td>86</td>\n",
       "      <td>20.99</td>\n",
       "      <td>PG</td>\n",
       "      <td>Deleted Scenes,Behind the Scenes</td>\n",
       "      <td>2006-02-15 05:03:42</td>\n",
       "    </tr>\n",
       "  </tbody>\n",
       "</table>\n",
       "</div>"
      ],
      "text/plain": [
       "   film_id             title  \\\n",
       "0        1  ACADEMY DINOSAUR   \n",
       "\n",
       "                                         description  release_year  \\\n",
       "0  A Epic Drama of a Feminist And a Mad Scientist...          2006   \n",
       "\n",
       "   language_id  original_language_id  rental_duration  rental_rate  length  \\\n",
       "0            1                   NaN                6         0.99      86   \n",
       "\n",
       "   replacement_cost rating                  special_features  \\\n",
       "0             20.99     PG  Deleted Scenes,Behind the Scenes   \n",
       "\n",
       "           last_update  \n",
       "0  2006-02-15 05:03:42  "
      ]
     },
     "execution_count": 222,
     "metadata": {},
     "output_type": "execute_result"
    }
   ],
   "source": [
    "#this is a repository of films, with their respective data (e.g., their title, language, lenght, etc) \n",
    "\n",
    "films.head(1)"
   ]
  },
  {
   "cell_type": "code",
   "execution_count": 223,
   "id": "f2711216",
   "metadata": {},
   "outputs": [
    {
     "data": {
      "text/plain": [
       "(1000, 13)"
      ]
     },
     "execution_count": 223,
     "metadata": {},
     "output_type": "execute_result"
    }
   ],
   "source": [
    "#we have 13 columns, and 1000 entries (rows) in our original database\n",
    "\n",
    "filmsoriginal.shape"
   ]
  },
  {
   "cell_type": "code",
   "execution_count": 224,
   "id": "fc98353d",
   "metadata": {},
   "outputs": [
    {
     "name": "stdout",
     "output_type": "stream",
     "text": [
      "<class 'pandas.core.frame.DataFrame'>\n",
      "RangeIndex: 1000 entries, 0 to 999\n",
      "Data columns (total 13 columns):\n",
      " #   Column                Non-Null Count  Dtype  \n",
      "---  ------                --------------  -----  \n",
      " 0   film_id               1000 non-null   int64  \n",
      " 1   title                 1000 non-null   object \n",
      " 2   description           1000 non-null   object \n",
      " 3   release_year          1000 non-null   int64  \n",
      " 4   language_id           1000 non-null   int64  \n",
      " 5   original_language_id  0 non-null      float64\n",
      " 6   rental_duration       1000 non-null   int64  \n",
      " 7   rental_rate           1000 non-null   float64\n",
      " 8   length                1000 non-null   int64  \n",
      " 9   replacement_cost      1000 non-null   float64\n",
      " 10  rating                1000 non-null   object \n",
      " 11  special_features      1000 non-null   object \n",
      " 12  last_update           1000 non-null   object \n",
      "dtypes: float64(3), int64(5), object(5)\n",
      "memory usage: 101.7+ KB\n"
     ]
    }
   ],
   "source": [
    "#here we can see the type of each of the columns  \n",
    "#we also see column original_language_id is 100% null \n",
    "\n",
    "films.info()"
   ]
  },
  {
   "cell_type": "code",
   "execution_count": 225,
   "id": "93941e38",
   "metadata": {},
   "outputs": [
    {
     "data": {
      "text/html": [
       "<div>\n",
       "<style scoped>\n",
       "    .dataframe tbody tr th:only-of-type {\n",
       "        vertical-align: middle;\n",
       "    }\n",
       "\n",
       "    .dataframe tbody tr th {\n",
       "        vertical-align: top;\n",
       "    }\n",
       "\n",
       "    .dataframe thead th {\n",
       "        text-align: right;\n",
       "    }\n",
       "</style>\n",
       "<table border=\"1\" class=\"dataframe\">\n",
       "  <thead>\n",
       "    <tr style=\"text-align: right;\">\n",
       "      <th></th>\n",
       "      <th>count</th>\n",
       "      <th>unique</th>\n",
       "      <th>top</th>\n",
       "      <th>freq</th>\n",
       "      <th>mean</th>\n",
       "      <th>std</th>\n",
       "      <th>min</th>\n",
       "      <th>25%</th>\n",
       "      <th>50%</th>\n",
       "      <th>75%</th>\n",
       "      <th>max</th>\n",
       "    </tr>\n",
       "  </thead>\n",
       "  <tbody>\n",
       "    <tr>\n",
       "      <th>film_id</th>\n",
       "      <td>1000.0</td>\n",
       "      <td>NaN</td>\n",
       "      <td>NaN</td>\n",
       "      <td>NaN</td>\n",
       "      <td>500.5</td>\n",
       "      <td>288.819436</td>\n",
       "      <td>1.0</td>\n",
       "      <td>250.75</td>\n",
       "      <td>500.5</td>\n",
       "      <td>750.25</td>\n",
       "      <td>1000.0</td>\n",
       "    </tr>\n",
       "    <tr>\n",
       "      <th>title</th>\n",
       "      <td>1000</td>\n",
       "      <td>1000</td>\n",
       "      <td>ACADEMY DINOSAUR</td>\n",
       "      <td>1</td>\n",
       "      <td>NaN</td>\n",
       "      <td>NaN</td>\n",
       "      <td>NaN</td>\n",
       "      <td>NaN</td>\n",
       "      <td>NaN</td>\n",
       "      <td>NaN</td>\n",
       "      <td>NaN</td>\n",
       "    </tr>\n",
       "    <tr>\n",
       "      <th>description</th>\n",
       "      <td>1000</td>\n",
       "      <td>1000</td>\n",
       "      <td>A Epic Drama of a Feminist And a Mad Scientist...</td>\n",
       "      <td>1</td>\n",
       "      <td>NaN</td>\n",
       "      <td>NaN</td>\n",
       "      <td>NaN</td>\n",
       "      <td>NaN</td>\n",
       "      <td>NaN</td>\n",
       "      <td>NaN</td>\n",
       "      <td>NaN</td>\n",
       "    </tr>\n",
       "    <tr>\n",
       "      <th>release_year</th>\n",
       "      <td>1000.0</td>\n",
       "      <td>NaN</td>\n",
       "      <td>NaN</td>\n",
       "      <td>NaN</td>\n",
       "      <td>2006.0</td>\n",
       "      <td>0.0</td>\n",
       "      <td>2006.0</td>\n",
       "      <td>2006.0</td>\n",
       "      <td>2006.0</td>\n",
       "      <td>2006.0</td>\n",
       "      <td>2006.0</td>\n",
       "    </tr>\n",
       "    <tr>\n",
       "      <th>language_id</th>\n",
       "      <td>1000.0</td>\n",
       "      <td>NaN</td>\n",
       "      <td>NaN</td>\n",
       "      <td>NaN</td>\n",
       "      <td>1.0</td>\n",
       "      <td>0.0</td>\n",
       "      <td>1.0</td>\n",
       "      <td>1.0</td>\n",
       "      <td>1.0</td>\n",
       "      <td>1.0</td>\n",
       "      <td>1.0</td>\n",
       "    </tr>\n",
       "    <tr>\n",
       "      <th>original_language_id</th>\n",
       "      <td>0.0</td>\n",
       "      <td>NaN</td>\n",
       "      <td>NaN</td>\n",
       "      <td>NaN</td>\n",
       "      <td>NaN</td>\n",
       "      <td>NaN</td>\n",
       "      <td>NaN</td>\n",
       "      <td>NaN</td>\n",
       "      <td>NaN</td>\n",
       "      <td>NaN</td>\n",
       "      <td>NaN</td>\n",
       "    </tr>\n",
       "    <tr>\n",
       "      <th>rental_duration</th>\n",
       "      <td>1000.0</td>\n",
       "      <td>NaN</td>\n",
       "      <td>NaN</td>\n",
       "      <td>NaN</td>\n",
       "      <td>4.985</td>\n",
       "      <td>1.411654</td>\n",
       "      <td>3.0</td>\n",
       "      <td>4.0</td>\n",
       "      <td>5.0</td>\n",
       "      <td>6.0</td>\n",
       "      <td>7.0</td>\n",
       "    </tr>\n",
       "    <tr>\n",
       "      <th>rental_rate</th>\n",
       "      <td>1000.0</td>\n",
       "      <td>NaN</td>\n",
       "      <td>NaN</td>\n",
       "      <td>NaN</td>\n",
       "      <td>2.98</td>\n",
       "      <td>1.646393</td>\n",
       "      <td>0.99</td>\n",
       "      <td>0.99</td>\n",
       "      <td>2.99</td>\n",
       "      <td>4.99</td>\n",
       "      <td>4.99</td>\n",
       "    </tr>\n",
       "    <tr>\n",
       "      <th>length</th>\n",
       "      <td>1000.0</td>\n",
       "      <td>NaN</td>\n",
       "      <td>NaN</td>\n",
       "      <td>NaN</td>\n",
       "      <td>115.272</td>\n",
       "      <td>40.426332</td>\n",
       "      <td>46.0</td>\n",
       "      <td>80.0</td>\n",
       "      <td>114.0</td>\n",
       "      <td>149.25</td>\n",
       "      <td>185.0</td>\n",
       "    </tr>\n",
       "    <tr>\n",
       "      <th>replacement_cost</th>\n",
       "      <td>1000.0</td>\n",
       "      <td>NaN</td>\n",
       "      <td>NaN</td>\n",
       "      <td>NaN</td>\n",
       "      <td>19.984</td>\n",
       "      <td>6.050833</td>\n",
       "      <td>9.99</td>\n",
       "      <td>14.99</td>\n",
       "      <td>19.99</td>\n",
       "      <td>24.99</td>\n",
       "      <td>29.99</td>\n",
       "    </tr>\n",
       "    <tr>\n",
       "      <th>rating</th>\n",
       "      <td>1000</td>\n",
       "      <td>5</td>\n",
       "      <td>PG-13</td>\n",
       "      <td>223</td>\n",
       "      <td>NaN</td>\n",
       "      <td>NaN</td>\n",
       "      <td>NaN</td>\n",
       "      <td>NaN</td>\n",
       "      <td>NaN</td>\n",
       "      <td>NaN</td>\n",
       "      <td>NaN</td>\n",
       "    </tr>\n",
       "    <tr>\n",
       "      <th>special_features</th>\n",
       "      <td>1000</td>\n",
       "      <td>15</td>\n",
       "      <td>Trailers,Commentaries,Behind the Scenes</td>\n",
       "      <td>79</td>\n",
       "      <td>NaN</td>\n",
       "      <td>NaN</td>\n",
       "      <td>NaN</td>\n",
       "      <td>NaN</td>\n",
       "      <td>NaN</td>\n",
       "      <td>NaN</td>\n",
       "      <td>NaN</td>\n",
       "    </tr>\n",
       "    <tr>\n",
       "      <th>last_update</th>\n",
       "      <td>1000</td>\n",
       "      <td>1</td>\n",
       "      <td>2006-02-15 05:03:42</td>\n",
       "      <td>1000</td>\n",
       "      <td>NaN</td>\n",
       "      <td>NaN</td>\n",
       "      <td>NaN</td>\n",
       "      <td>NaN</td>\n",
       "      <td>NaN</td>\n",
       "      <td>NaN</td>\n",
       "      <td>NaN</td>\n",
       "    </tr>\n",
       "  </tbody>\n",
       "</table>\n",
       "</div>"
      ],
      "text/plain": [
       "                       count unique  \\\n",
       "film_id               1000.0    NaN   \n",
       "title                   1000   1000   \n",
       "description             1000   1000   \n",
       "release_year          1000.0    NaN   \n",
       "language_id           1000.0    NaN   \n",
       "original_language_id     0.0    NaN   \n",
       "rental_duration       1000.0    NaN   \n",
       "rental_rate           1000.0    NaN   \n",
       "length                1000.0    NaN   \n",
       "replacement_cost      1000.0    NaN   \n",
       "rating                  1000      5   \n",
       "special_features        1000     15   \n",
       "last_update             1000      1   \n",
       "\n",
       "                                                                    top  freq  \\\n",
       "film_id                                                             NaN   NaN   \n",
       "title                                                  ACADEMY DINOSAUR     1   \n",
       "description           A Epic Drama of a Feminist And a Mad Scientist...     1   \n",
       "release_year                                                        NaN   NaN   \n",
       "language_id                                                         NaN   NaN   \n",
       "original_language_id                                                NaN   NaN   \n",
       "rental_duration                                                     NaN   NaN   \n",
       "rental_rate                                                         NaN   NaN   \n",
       "length                                                              NaN   NaN   \n",
       "replacement_cost                                                    NaN   NaN   \n",
       "rating                                                            PG-13   223   \n",
       "special_features                Trailers,Commentaries,Behind the Scenes    79   \n",
       "last_update                                         2006-02-15 05:03:42  1000   \n",
       "\n",
       "                         mean         std     min     25%     50%     75%  \\\n",
       "film_id                 500.5  288.819436     1.0  250.75   500.5  750.25   \n",
       "title                     NaN         NaN     NaN     NaN     NaN     NaN   \n",
       "description               NaN         NaN     NaN     NaN     NaN     NaN   \n",
       "release_year           2006.0         0.0  2006.0  2006.0  2006.0  2006.0   \n",
       "language_id               1.0         0.0     1.0     1.0     1.0     1.0   \n",
       "original_language_id      NaN         NaN     NaN     NaN     NaN     NaN   \n",
       "rental_duration         4.985    1.411654     3.0     4.0     5.0     6.0   \n",
       "rental_rate              2.98    1.646393    0.99    0.99    2.99    4.99   \n",
       "length                115.272   40.426332    46.0    80.0   114.0  149.25   \n",
       "replacement_cost       19.984    6.050833    9.99   14.99   19.99   24.99   \n",
       "rating                    NaN         NaN     NaN     NaN     NaN     NaN   \n",
       "special_features          NaN         NaN     NaN     NaN     NaN     NaN   \n",
       "last_update               NaN         NaN     NaN     NaN     NaN     NaN   \n",
       "\n",
       "                         max  \n",
       "film_id               1000.0  \n",
       "title                    NaN  \n",
       "description              NaN  \n",
       "release_year          2006.0  \n",
       "language_id              1.0  \n",
       "original_language_id     NaN  \n",
       "rental_duration          7.0  \n",
       "rental_rate             4.99  \n",
       "length                 185.0  \n",
       "replacement_cost       29.99  \n",
       "rating                   NaN  \n",
       "special_features         NaN  \n",
       "last_update              NaN  "
      ]
     },
     "execution_count": 225,
     "metadata": {},
     "output_type": "execute_result"
    }
   ],
   "source": [
    "#description table \n",
    "#here we can see the #of unique values, and the mode of each field. \n",
    "\n",
    "films.describe(include='all').T"
   ]
  },
  {
   "cell_type": "markdown",
   "id": "e6a71fc7",
   "metadata": {},
   "source": [
    "### Null values"
   ]
  },
  {
   "cell_type": "markdown",
   "id": "69bcf8e3",
   "metadata": {},
   "source": [
    "As stated above, it seems one of the columns is fully null. See per below:"
   ]
  },
  {
   "cell_type": "code",
   "execution_count": 226,
   "id": "519b012b",
   "metadata": {},
   "outputs": [
    {
     "data": {
      "text/plain": [
       "film_id                    0\n",
       "title                      0\n",
       "description                0\n",
       "release_year               0\n",
       "language_id                0\n",
       "original_language_id    1000\n",
       "rental_duration            0\n",
       "rental_rate                0\n",
       "length                     0\n",
       "replacement_cost           0\n",
       "rating                     0\n",
       "special_features           0\n",
       "last_update                0\n",
       "dtype: int64"
      ]
     },
     "execution_count": 226,
     "metadata": {},
     "output_type": "execute_result"
    }
   ],
   "source": [
    "nan_cols = films.isna().sum()\n",
    "\n",
    "nan_cols"
   ]
  },
  {
   "cell_type": "code",
   "execution_count": 227,
   "id": "2f347078",
   "metadata": {},
   "outputs": [],
   "source": [
    "#I will exclude that column from the database\n",
    "\n",
    "films.drop('original_language_id', axis=1, inplace=True)"
   ]
  },
  {
   "cell_type": "code",
   "execution_count": 228,
   "id": "56303276",
   "metadata": {},
   "outputs": [
    {
     "data": {
      "text/plain": [
       "film_id             0\n",
       "title               0\n",
       "description         0\n",
       "release_year        0\n",
       "language_id         0\n",
       "rental_duration     0\n",
       "rental_rate         0\n",
       "length              0\n",
       "replacement_cost    0\n",
       "rating              0\n",
       "special_features    0\n",
       "last_update         0\n",
       "dtype: int64"
      ]
     },
     "execution_count": 228,
     "metadata": {},
     "output_type": "execute_result"
    }
   ],
   "source": [
    "nan_cols = films.isna().sum()\n",
    "\n",
    "nan_cols"
   ]
  },
  {
   "cell_type": "markdown",
   "id": "03e5b769",
   "metadata": {},
   "source": [
    "### Other cleaning "
   ]
  },
  {
   "cell_type": "markdown",
   "id": "2f6faecf",
   "metadata": {},
   "source": [
    "#### film_id"
   ]
  },
  {
   "cell_type": "code",
   "execution_count": 229,
   "id": "799c6d52",
   "metadata": {},
   "outputs": [
    {
     "data": {
      "text/plain": [
       "dtype('int64')"
      ]
     },
     "execution_count": 229,
     "metadata": {},
     "output_type": "execute_result"
    }
   ],
   "source": [
    "#we got a list of int values, which seem to be IDs for the each film\n",
    "#this is the most appropriate datatype (although we will optimize it later)\n",
    "\n",
    "films.film_id.dtype"
   ]
  },
  {
   "cell_type": "code",
   "execution_count": 230,
   "id": "207a55af",
   "metadata": {},
   "outputs": [
    {
     "data": {
      "text/plain": [
       "1000"
      ]
     },
     "execution_count": 230,
     "metadata": {},
     "output_type": "execute_result"
    }
   ],
   "source": [
    "#it seems all the IDs are unique values \n",
    "\n",
    "len(films.film_id.unique())"
   ]
  },
  {
   "cell_type": "code",
   "execution_count": 231,
   "id": "8ad440b0",
   "metadata": {},
   "outputs": [],
   "source": [
    "#films.film_id.unique()"
   ]
  },
  {
   "cell_type": "markdown",
   "id": "343c6266",
   "metadata": {},
   "source": [
    "#### title"
   ]
  },
  {
   "cell_type": "code",
   "execution_count": 232,
   "id": "90da8b6e",
   "metadata": {},
   "outputs": [
    {
     "data": {
      "text/plain": [
       "dtype('O')"
      ]
     },
     "execution_count": 232,
     "metadata": {},
     "output_type": "execute_result"
    }
   ],
   "source": [
    "#object type, as strings \n",
    "\n",
    "films.title.dtype"
   ]
  },
  {
   "cell_type": "code",
   "execution_count": 233,
   "id": "80b2ddb3",
   "metadata": {},
   "outputs": [
    {
     "data": {
      "text/plain": [
       "1000"
      ]
     },
     "execution_count": 233,
     "metadata": {},
     "output_type": "execute_result"
    }
   ],
   "source": [
    "#all film titles unique\n",
    "\n",
    "len(films.title.unique())"
   ]
  },
  {
   "cell_type": "code",
   "execution_count": 234,
   "id": "30c2f717",
   "metadata": {},
   "outputs": [],
   "source": [
    "#not a fan of uppercase, will trim names\n",
    "\n",
    "films.title = films.title.apply(lambda X: X.title().strip())"
   ]
  },
  {
   "cell_type": "code",
   "execution_count": 235,
   "id": "ac7a443b",
   "metadata": {},
   "outputs": [
    {
     "data": {
      "text/html": [
       "<div>\n",
       "<style scoped>\n",
       "    .dataframe tbody tr th:only-of-type {\n",
       "        vertical-align: middle;\n",
       "    }\n",
       "\n",
       "    .dataframe tbody tr th {\n",
       "        vertical-align: top;\n",
       "    }\n",
       "\n",
       "    .dataframe thead th {\n",
       "        text-align: right;\n",
       "    }\n",
       "</style>\n",
       "<table border=\"1\" class=\"dataframe\">\n",
       "  <thead>\n",
       "    <tr style=\"text-align: right;\">\n",
       "      <th></th>\n",
       "      <th>film_id</th>\n",
       "      <th>title</th>\n",
       "      <th>description</th>\n",
       "      <th>release_year</th>\n",
       "      <th>language_id</th>\n",
       "      <th>rental_duration</th>\n",
       "      <th>rental_rate</th>\n",
       "      <th>length</th>\n",
       "      <th>replacement_cost</th>\n",
       "      <th>rating</th>\n",
       "      <th>special_features</th>\n",
       "      <th>last_update</th>\n",
       "    </tr>\n",
       "  </thead>\n",
       "  <tbody>\n",
       "    <tr>\n",
       "      <th>0</th>\n",
       "      <td>1</td>\n",
       "      <td>Academy Dinosaur</td>\n",
       "      <td>A Epic Drama of a Feminist And a Mad Scientist...</td>\n",
       "      <td>2006</td>\n",
       "      <td>1</td>\n",
       "      <td>6</td>\n",
       "      <td>0.99</td>\n",
       "      <td>86</td>\n",
       "      <td>20.99</td>\n",
       "      <td>PG</td>\n",
       "      <td>Deleted Scenes,Behind the Scenes</td>\n",
       "      <td>2006-02-15 05:03:42</td>\n",
       "    </tr>\n",
       "    <tr>\n",
       "      <th>1</th>\n",
       "      <td>2</td>\n",
       "      <td>Ace Goldfinger</td>\n",
       "      <td>A Astounding Epistle of a Database Administrat...</td>\n",
       "      <td>2006</td>\n",
       "      <td>1</td>\n",
       "      <td>3</td>\n",
       "      <td>4.99</td>\n",
       "      <td>48</td>\n",
       "      <td>12.99</td>\n",
       "      <td>G</td>\n",
       "      <td>Trailers,Deleted Scenes</td>\n",
       "      <td>2006-02-15 05:03:42</td>\n",
       "    </tr>\n",
       "    <tr>\n",
       "      <th>2</th>\n",
       "      <td>3</td>\n",
       "      <td>Adaptation Holes</td>\n",
       "      <td>A Astounding Reflection of a Lumberjack And a ...</td>\n",
       "      <td>2006</td>\n",
       "      <td>1</td>\n",
       "      <td>7</td>\n",
       "      <td>2.99</td>\n",
       "      <td>50</td>\n",
       "      <td>18.99</td>\n",
       "      <td>NC-17</td>\n",
       "      <td>Trailers,Deleted Scenes</td>\n",
       "      <td>2006-02-15 05:03:42</td>\n",
       "    </tr>\n",
       "  </tbody>\n",
       "</table>\n",
       "</div>"
      ],
      "text/plain": [
       "   film_id             title  \\\n",
       "0        1  Academy Dinosaur   \n",
       "1        2    Ace Goldfinger   \n",
       "2        3  Adaptation Holes   \n",
       "\n",
       "                                         description  release_year  \\\n",
       "0  A Epic Drama of a Feminist And a Mad Scientist...          2006   \n",
       "1  A Astounding Epistle of a Database Administrat...          2006   \n",
       "2  A Astounding Reflection of a Lumberjack And a ...          2006   \n",
       "\n",
       "   language_id  rental_duration  rental_rate  length  replacement_cost rating  \\\n",
       "0            1                6         0.99      86             20.99     PG   \n",
       "1            1                3         4.99      48             12.99      G   \n",
       "2            1                7         2.99      50             18.99  NC-17   \n",
       "\n",
       "                   special_features          last_update  \n",
       "0  Deleted Scenes,Behind the Scenes  2006-02-15 05:03:42  \n",
       "1           Trailers,Deleted Scenes  2006-02-15 05:03:42  \n",
       "2           Trailers,Deleted Scenes  2006-02-15 05:03:42  "
      ]
     },
     "execution_count": 235,
     "metadata": {},
     "output_type": "execute_result"
    }
   ],
   "source": [
    "films.head(3)"
   ]
  },
  {
   "cell_type": "markdown",
   "id": "c694f2f8",
   "metadata": {},
   "source": [
    "#### description"
   ]
  },
  {
   "cell_type": "code",
   "execution_count": 236,
   "id": "db4c0b65",
   "metadata": {},
   "outputs": [
    {
     "data": {
      "text/plain": [
       "dtype('O')"
      ]
     },
     "execution_count": 236,
     "metadata": {},
     "output_type": "execute_result"
    }
   ],
   "source": [
    "#object type, as strings \n",
    "\n",
    "films.description.dtype"
   ]
  },
  {
   "cell_type": "code",
   "execution_count": 237,
   "id": "b26088d2",
   "metadata": {},
   "outputs": [
    {
     "data": {
      "text/plain": [
       "1000"
      ]
     },
     "execution_count": 237,
     "metadata": {},
     "output_type": "execute_result"
    }
   ],
   "source": [
    "#all descriptions unique\n",
    "\n",
    "len(films.description.unique())"
   ]
  },
  {
   "cell_type": "code",
   "execution_count": 238,
   "id": "1564a7b5",
   "metadata": {},
   "outputs": [],
   "source": [
    "#prefer only first letter capitalized, will trim \n",
    "\n",
    "films.description = films.description.apply(lambda x: '. '.join(map(str.capitalize, x.split('. '))))"
   ]
  },
  {
   "cell_type": "code",
   "execution_count": 239,
   "id": "6aae86d6",
   "metadata": {},
   "outputs": [
    {
     "data": {
      "text/html": [
       "<div>\n",
       "<style scoped>\n",
       "    .dataframe tbody tr th:only-of-type {\n",
       "        vertical-align: middle;\n",
       "    }\n",
       "\n",
       "    .dataframe tbody tr th {\n",
       "        vertical-align: top;\n",
       "    }\n",
       "\n",
       "    .dataframe thead th {\n",
       "        text-align: right;\n",
       "    }\n",
       "</style>\n",
       "<table border=\"1\" class=\"dataframe\">\n",
       "  <thead>\n",
       "    <tr style=\"text-align: right;\">\n",
       "      <th></th>\n",
       "      <th>film_id</th>\n",
       "      <th>title</th>\n",
       "      <th>description</th>\n",
       "      <th>release_year</th>\n",
       "      <th>language_id</th>\n",
       "      <th>rental_duration</th>\n",
       "      <th>rental_rate</th>\n",
       "      <th>length</th>\n",
       "      <th>replacement_cost</th>\n",
       "      <th>rating</th>\n",
       "      <th>special_features</th>\n",
       "      <th>last_update</th>\n",
       "    </tr>\n",
       "  </thead>\n",
       "  <tbody>\n",
       "    <tr>\n",
       "      <th>0</th>\n",
       "      <td>1</td>\n",
       "      <td>Academy Dinosaur</td>\n",
       "      <td>A epic drama of a feminist and a mad scientist...</td>\n",
       "      <td>2006</td>\n",
       "      <td>1</td>\n",
       "      <td>6</td>\n",
       "      <td>0.99</td>\n",
       "      <td>86</td>\n",
       "      <td>20.99</td>\n",
       "      <td>PG</td>\n",
       "      <td>Deleted Scenes,Behind the Scenes</td>\n",
       "      <td>2006-02-15 05:03:42</td>\n",
       "    </tr>\n",
       "    <tr>\n",
       "      <th>1</th>\n",
       "      <td>2</td>\n",
       "      <td>Ace Goldfinger</td>\n",
       "      <td>A astounding epistle of a database administrat...</td>\n",
       "      <td>2006</td>\n",
       "      <td>1</td>\n",
       "      <td>3</td>\n",
       "      <td>4.99</td>\n",
       "      <td>48</td>\n",
       "      <td>12.99</td>\n",
       "      <td>G</td>\n",
       "      <td>Trailers,Deleted Scenes</td>\n",
       "      <td>2006-02-15 05:03:42</td>\n",
       "    </tr>\n",
       "    <tr>\n",
       "      <th>2</th>\n",
       "      <td>3</td>\n",
       "      <td>Adaptation Holes</td>\n",
       "      <td>A astounding reflection of a lumberjack and a ...</td>\n",
       "      <td>2006</td>\n",
       "      <td>1</td>\n",
       "      <td>7</td>\n",
       "      <td>2.99</td>\n",
       "      <td>50</td>\n",
       "      <td>18.99</td>\n",
       "      <td>NC-17</td>\n",
       "      <td>Trailers,Deleted Scenes</td>\n",
       "      <td>2006-02-15 05:03:42</td>\n",
       "    </tr>\n",
       "  </tbody>\n",
       "</table>\n",
       "</div>"
      ],
      "text/plain": [
       "   film_id             title  \\\n",
       "0        1  Academy Dinosaur   \n",
       "1        2    Ace Goldfinger   \n",
       "2        3  Adaptation Holes   \n",
       "\n",
       "                                         description  release_year  \\\n",
       "0  A epic drama of a feminist and a mad scientist...          2006   \n",
       "1  A astounding epistle of a database administrat...          2006   \n",
       "2  A astounding reflection of a lumberjack and a ...          2006   \n",
       "\n",
       "   language_id  rental_duration  rental_rate  length  replacement_cost rating  \\\n",
       "0            1                6         0.99      86             20.99     PG   \n",
       "1            1                3         4.99      48             12.99      G   \n",
       "2            1                7         2.99      50             18.99  NC-17   \n",
       "\n",
       "                   special_features          last_update  \n",
       "0  Deleted Scenes,Behind the Scenes  2006-02-15 05:03:42  \n",
       "1           Trailers,Deleted Scenes  2006-02-15 05:03:42  \n",
       "2           Trailers,Deleted Scenes  2006-02-15 05:03:42  "
      ]
     },
     "execution_count": 239,
     "metadata": {},
     "output_type": "execute_result"
    }
   ],
   "source": [
    "films.head(3)"
   ]
  },
  {
   "cell_type": "code",
   "execution_count": 240,
   "id": "4bc538d7",
   "metadata": {},
   "outputs": [
    {
     "data": {
      "text/plain": [
       "0             Deleted Scenes,Behind the Scenes\n",
       "1                      Trailers,Deleted Scenes\n",
       "2                      Trailers,Deleted Scenes\n",
       "3               Commentaries,Behind the Scenes\n",
       "4                               Deleted Scenes\n",
       "                        ...                   \n",
       "995                 Trailers,Behind the Scenes\n",
       "996                 Trailers,Behind the Scenes\n",
       "997                             Deleted Scenes\n",
       "998                    Trailers,Deleted Scenes\n",
       "999    Trailers,Commentaries,Behind the Scenes\n",
       "Name: special_features, Length: 1000, dtype: object"
      ]
     },
     "execution_count": 240,
     "metadata": {},
     "output_type": "execute_result"
    }
   ],
   "source": [
    "films.special_features#.apply(lambda x: x.split(','))"
   ]
  },
  {
   "cell_type": "markdown",
   "id": "b7596f83",
   "metadata": {},
   "source": [
    "#### release_year"
   ]
  },
  {
   "cell_type": "code",
   "execution_count": 241,
   "id": "1ba5d6f2",
   "metadata": {},
   "outputs": [
    {
     "data": {
      "text/plain": [
       "dtype('int64')"
      ]
     },
     "execution_count": 241,
     "metadata": {},
     "output_type": "execute_result"
    }
   ],
   "source": [
    "#data type is int \n",
    "\n",
    "films.release_year.dtype"
   ]
  },
  {
   "cell_type": "code",
   "execution_count": 242,
   "id": "883cf1d9",
   "metadata": {},
   "outputs": [
    {
     "data": {
      "text/plain": [
       "release_year\n",
       "2006    1000\n",
       "Name: count, dtype: int64"
      ]
     },
     "execution_count": 242,
     "metadata": {},
     "output_type": "execute_result"
    }
   ],
   "source": [
    "#it seems all titles were released in 2006\n",
    "\n",
    "films.release_year.value_counts()"
   ]
  },
  {
   "cell_type": "code",
   "execution_count": 243,
   "id": "33acf1e6",
   "metadata": {},
   "outputs": [],
   "source": [
    "#converting data type\n",
    "\n",
    "films.release_year = pd.to_datetime(films.release_year).dt.strftime('%Y')"
   ]
  },
  {
   "cell_type": "markdown",
   "id": "4751703c",
   "metadata": {},
   "source": [
    "#### language_id"
   ]
  },
  {
   "cell_type": "code",
   "execution_count": 244,
   "id": "e0d6f698",
   "metadata": {},
   "outputs": [
    {
     "data": {
      "text/plain": [
       "dtype('int64')"
      ]
     },
     "execution_count": 244,
     "metadata": {},
     "output_type": "execute_result"
    }
   ],
   "source": [
    "#data type is int - correct, although will optimize it later \n",
    "#this should be linked to table languages \n",
    "\n",
    "films.language_id.dtype"
   ]
  },
  {
   "cell_type": "code",
   "execution_count": 245,
   "id": "f49d4840",
   "metadata": {},
   "outputs": [
    {
     "data": {
      "text/plain": [
       "1"
      ]
     },
     "execution_count": 245,
     "metadata": {},
     "output_type": "execute_result"
    }
   ],
   "source": [
    "#all moves are in a single language \n",
    "\n",
    "len(films.language_id.unique())"
   ]
  },
  {
   "cell_type": "code",
   "execution_count": 246,
   "id": "a44cd8a6",
   "metadata": {},
   "outputs": [
    {
     "data": {
      "text/plain": [
       "array([1])"
      ]
     },
     "execution_count": 246,
     "metadata": {},
     "output_type": "execute_result"
    }
   ],
   "source": [
    "#all moves are in English\n",
    "\n",
    "films.language_id.unique()"
   ]
  },
  {
   "cell_type": "markdown",
   "id": "44cf7c24",
   "metadata": {},
   "source": [
    "#### rental_duration"
   ]
  },
  {
   "cell_type": "code",
   "execution_count": 247,
   "id": "db344218",
   "metadata": {},
   "outputs": [
    {
     "data": {
      "text/plain": [
       "dtype('int64')"
      ]
     },
     "execution_count": 247,
     "metadata": {},
     "output_type": "execute_result"
    }
   ],
   "source": [
    "#data type is int - this is appropriate\n",
    "#seems to be #of days you can keep the move for \n",
    "\n",
    "films.rental_duration.dtype"
   ]
  },
  {
   "cell_type": "code",
   "execution_count": 248,
   "id": "0101201f",
   "metadata": {},
   "outputs": [
    {
     "data": {
      "text/plain": [
       "array([6, 3, 7, 5, 4])"
      ]
     },
     "execution_count": 248,
     "metadata": {},
     "output_type": "execute_result"
    }
   ],
   "source": [
    "#one can keep the movie for 3 through 7 days\n",
    "\n",
    "films.rental_duration.unique()"
   ]
  },
  {
   "cell_type": "markdown",
   "id": "61b7ce4d",
   "metadata": {},
   "source": [
    "#### rental_rate "
   ]
  },
  {
   "cell_type": "code",
   "execution_count": 249,
   "id": "9dddde28",
   "metadata": {},
   "outputs": [
    {
     "data": {
      "text/plain": [
       "dtype('float64')"
      ]
     },
     "execution_count": 249,
     "metadata": {},
     "output_type": "execute_result"
    }
   ],
   "source": [
    "#data type is float - this is appropriate \n",
    "\n",
    "films.rental_rate.dtype"
   ]
  },
  {
   "cell_type": "code",
   "execution_count": 250,
   "id": "00fc5845",
   "metadata": {},
   "outputs": [
    {
     "data": {
      "text/plain": [
       "array([0.99, 4.99, 2.99])"
      ]
     },
     "execution_count": 250,
     "metadata": {},
     "output_type": "execute_result"
    }
   ],
   "source": [
    "#one can keep the movie for 3 through 7 days\n",
    "\n",
    "films.rental_rate.unique()"
   ]
  },
  {
   "cell_type": "markdown",
   "id": "ae202fd5",
   "metadata": {},
   "source": [
    "#### length"
   ]
  },
  {
   "cell_type": "code",
   "execution_count": 251,
   "id": "54fb476e",
   "metadata": {},
   "outputs": [
    {
     "data": {
      "text/plain": [
       "dtype('int64')"
      ]
     },
     "execution_count": 251,
     "metadata": {},
     "output_type": "execute_result"
    }
   ],
   "source": [
    "#this is lenght in min \n",
    "#will keep as int, and optimize later\n",
    "\n",
    "films.length.dtype"
   ]
  },
  {
   "cell_type": "code",
   "execution_count": 252,
   "id": "e42f2fe0",
   "metadata": {},
   "outputs": [
    {
     "data": {
      "text/plain": [
       "<Axes: >"
      ]
     },
     "execution_count": 252,
     "metadata": {},
     "output_type": "execute_result"
    },
    {
     "data": {
      "image/png": "[encoded data removed]",
      "text/plain": [
       "<Figure size 640x480 with 1 Axes>"
      ]
     },
     "metadata": {},
     "output_type": "display_data"
    }
   ],
   "source": [
    "#duration frequency distribution - quite even \n",
    "\n",
    "films.length.hist(bins=20)"
   ]
  },
  {
   "cell_type": "markdown",
   "id": "cb748663",
   "metadata": {},
   "source": [
    "#### replacement_cost"
   ]
  },
  {
   "cell_type": "code",
   "execution_count": 253,
   "id": "9dee4dc7",
   "metadata": {},
   "outputs": [
    {
     "data": {
      "text/plain": [
       "dtype('float64')"
      ]
     },
     "execution_count": 253,
     "metadata": {},
     "output_type": "execute_result"
    }
   ],
   "source": [
    "#data type is float - this is appropriate \n",
    "\n",
    "films.replacement_cost.dtype"
   ]
  },
  {
   "cell_type": "code",
   "execution_count": 254,
   "id": "50c122cd",
   "metadata": {},
   "outputs": [
    {
     "data": {
      "text/plain": [
       "array([20.99, 12.99, 18.99, 26.99, 22.99, 17.99, 28.99, 15.99, 21.99,\n",
       "       24.99, 16.99, 23.99, 10.99, 14.99, 27.99,  9.99, 19.99, 11.99,\n",
       "       29.99, 25.99, 13.99])"
      ]
     },
     "execution_count": 254,
     "metadata": {},
     "output_type": "execute_result"
    }
   ],
   "source": [
    "#different replacement costs of films  \n",
    "\n",
    "films.replacement_cost.unique()"
   ]
  },
  {
   "cell_type": "markdown",
   "id": "9aeb8582",
   "metadata": {},
   "source": [
    "#### rating "
   ]
  },
  {
   "cell_type": "code",
   "execution_count": 255,
   "id": "7fab36f3",
   "metadata": {},
   "outputs": [
    {
     "data": {
      "text/plain": [
       "dtype('O')"
      ]
     },
     "execution_count": 255,
     "metadata": {},
     "output_type": "execute_result"
    }
   ],
   "source": [
    "#data type is object - this is appropriate as those are strings \n",
    "\n",
    "films.rating.dtype"
   ]
  },
  {
   "cell_type": "code",
   "execution_count": 256,
   "id": "855a179c",
   "metadata": {},
   "outputs": [
    {
     "data": {
      "text/plain": [
       "array(['PG', 'G', 'NC-17', 'PG-13', 'R'], dtype=object)"
      ]
     },
     "execution_count": 256,
     "metadata": {},
     "output_type": "execute_result"
    }
   ],
   "source": [
    "#there are five different ratings  \n",
    "\n",
    "films.rating.unique()"
   ]
  },
  {
   "cell_type": "markdown",
   "id": "13e7622e",
   "metadata": {},
   "source": [
    "#### special_features"
   ]
  },
  {
   "cell_type": "code",
   "execution_count": 257,
   "id": "022eeb98",
   "metadata": {},
   "outputs": [
    {
     "data": {
      "text/plain": [
       "dtype('O')"
      ]
     },
     "execution_count": 257,
     "metadata": {},
     "output_type": "execute_result"
    }
   ],
   "source": [
    "#data type is object - this is appropriate as those are strings \n",
    "\n",
    "films.special_features.dtype"
   ]
  },
  {
   "cell_type": "code",
   "execution_count": 258,
   "id": "ae526826",
   "metadata": {},
   "outputs": [
    {
     "data": {
      "text/plain": [
       "15"
      ]
     },
     "execution_count": 258,
     "metadata": {},
     "output_type": "execute_result"
    }
   ],
   "source": [
    "#there are 15 different strings / list os strings for special features\n",
    "\n",
    "len(films.special_features.unique())"
   ]
  },
  {
   "cell_type": "code",
   "execution_count": 259,
   "id": "29c919b9",
   "metadata": {},
   "outputs": [],
   "source": [
    "###ideally, the unique descriptors should be in columns, with values Y (present) N (not present); for the purpose of this exercise, I will treat this as a comment column unless otherwise needed through the exercise"
   ]
  },
  {
   "cell_type": "markdown",
   "id": "0d01f191",
   "metadata": {},
   "source": [
    "#### last_update"
   ]
  },
  {
   "cell_type": "code",
   "execution_count": 260,
   "id": "f3ed778d",
   "metadata": {},
   "outputs": [
    {
     "data": {
      "text/plain": [
       "dtype('O')"
      ]
     },
     "execution_count": 260,
     "metadata": {},
     "output_type": "execute_result"
    }
   ],
   "source": [
    "#this column is type 'object'. It seems tough it would be most appropriate as a 'time type'\n",
    "\n",
    "films.last_update.dtype"
   ]
  },
  {
   "cell_type": "code",
   "execution_count": 261,
   "id": "b87ab943",
   "metadata": {},
   "outputs": [
    {
     "data": {
      "text/plain": [
       "last_update\n",
       "2006-02-15 05:03:42    1000\n",
       "Name: count, dtype: int64"
      ]
     },
     "execution_count": 261,
     "metadata": {},
     "output_type": "execute_result"
    }
   ],
   "source": [
    "#all the values are the same, indicating all the names were last updated on Feb 15th 2006 05:03\n",
    "\n",
    "films.last_update.value_counts()"
   ]
  },
  {
   "cell_type": "code",
   "execution_count": 262,
   "id": "bb44dbf0",
   "metadata": {},
   "outputs": [],
   "source": [
    "#I will convert the data to datetime64\n",
    "\n",
    "films.last_update = pd.to_datetime(films.last_update)"
   ]
  },
  {
   "cell_type": "code",
   "execution_count": 263,
   "id": "2c106194",
   "metadata": {},
   "outputs": [
    {
     "data": {
      "text/plain": [
       "dtype('<M8[ns]')"
      ]
     },
     "execution_count": 263,
     "metadata": {},
     "output_type": "execute_result"
    }
   ],
   "source": [
    "#converted \n",
    "\n",
    "films.last_update.dtype"
   ]
  },
  {
   "cell_type": "markdown",
   "id": "67077ac5",
   "metadata": {},
   "source": [
    "### Column names and duplicates "
   ]
  },
  {
   "cell_type": "code",
   "execution_count": 264,
   "id": "162c42e9",
   "metadata": {},
   "outputs": [
    {
     "data": {
      "text/plain": [
       "Index(['film_id', 'title', 'description', 'release_year', 'language_id',\n",
       "       'rental_duration', 'rental_rate', 'length', 'replacement_cost',\n",
       "       'rating', 'special_features', 'last_update'],\n",
       "      dtype='object')"
      ]
     },
     "execution_count": 264,
     "metadata": {},
     "output_type": "execute_result"
    }
   ],
   "source": [
    "films.columns"
   ]
  },
  {
   "cell_type": "code",
   "execution_count": 265,
   "id": "7d85d73a",
   "metadata": {},
   "outputs": [],
   "source": [
    "newcolumns = ['film_id', 'title', 'description', 'release_year', 'language_id',\n",
    "       'rental_duration', 'rental_rate', 'length', 'replacement_cost',\n",
    "       'rating', 'special_features', 'film_last_update']\n",
    "      "
   ]
  },
  {
   "cell_type": "code",
   "execution_count": 266,
   "id": "b83042d8",
   "metadata": {},
   "outputs": [],
   "source": [
    "films.columns = newcolumns"
   ]
  },
  {
   "cell_type": "code",
   "execution_count": 267,
   "id": "498f50c5",
   "metadata": {},
   "outputs": [
    {
     "data": {
      "text/plain": [
       "False"
      ]
     },
     "execution_count": 267,
     "metadata": {},
     "output_type": "execute_result"
    }
   ],
   "source": [
    "#checking for duplicates \n",
    "\n",
    "films.duplicated().any() #there are no duplicates "
   ]
  },
  {
   "cell_type": "code",
   "execution_count": 268,
   "id": "332b0830",
   "metadata": {},
   "outputs": [
    {
     "data": {
      "text/html": [
       "<div>\n",
       "<style scoped>\n",
       "    .dataframe tbody tr th:only-of-type {\n",
       "        vertical-align: middle;\n",
       "    }\n",
       "\n",
       "    .dataframe tbody tr th {\n",
       "        vertical-align: top;\n",
       "    }\n",
       "\n",
       "    .dataframe thead th {\n",
       "        text-align: right;\n",
       "    }\n",
       "</style>\n",
       "<table border=\"1\" class=\"dataframe\">\n",
       "  <thead>\n",
       "    <tr style=\"text-align: right;\">\n",
       "      <th></th>\n",
       "      <th>film_id</th>\n",
       "      <th>title</th>\n",
       "      <th>description</th>\n",
       "      <th>release_year</th>\n",
       "      <th>language_id</th>\n",
       "      <th>rental_duration</th>\n",
       "      <th>rental_rate</th>\n",
       "      <th>length</th>\n",
       "      <th>replacement_cost</th>\n",
       "      <th>rating</th>\n",
       "      <th>special_features</th>\n",
       "      <th>film_last_update</th>\n",
       "    </tr>\n",
       "  </thead>\n",
       "  <tbody>\n",
       "    <tr>\n",
       "      <th>0</th>\n",
       "      <td>1</td>\n",
       "      <td>Academy Dinosaur</td>\n",
       "      <td>A epic drama of a feminist and a mad scientist...</td>\n",
       "      <td>1970</td>\n",
       "      <td>1</td>\n",
       "      <td>6</td>\n",
       "      <td>0.99</td>\n",
       "      <td>86</td>\n",
       "      <td>20.99</td>\n",
       "      <td>PG</td>\n",
       "      <td>Deleted Scenes,Behind the Scenes</td>\n",
       "      <td>2006-02-15 05:03:42</td>\n",
       "    </tr>\n",
       "    <tr>\n",
       "      <th>1</th>\n",
       "      <td>2</td>\n",
       "      <td>Ace Goldfinger</td>\n",
       "      <td>A astounding epistle of a database administrat...</td>\n",
       "      <td>1970</td>\n",
       "      <td>1</td>\n",
       "      <td>3</td>\n",
       "      <td>4.99</td>\n",
       "      <td>48</td>\n",
       "      <td>12.99</td>\n",
       "      <td>G</td>\n",
       "      <td>Trailers,Deleted Scenes</td>\n",
       "      <td>2006-02-15 05:03:42</td>\n",
       "    </tr>\n",
       "  </tbody>\n",
       "</table>\n",
       "</div>"
      ],
      "text/plain": [
       "   film_id             title  \\\n",
       "0        1  Academy Dinosaur   \n",
       "1        2    Ace Goldfinger   \n",
       "\n",
       "                                         description release_year  \\\n",
       "0  A epic drama of a feminist and a mad scientist...         1970   \n",
       "1  A astounding epistle of a database administrat...         1970   \n",
       "\n",
       "   language_id  rental_duration  rental_rate  length  replacement_cost rating  \\\n",
       "0            1                6         0.99      86             20.99     PG   \n",
       "1            1                3         4.99      48             12.99      G   \n",
       "\n",
       "                   special_features    film_last_update  \n",
       "0  Deleted Scenes,Behind the Scenes 2006-02-15 05:03:42  \n",
       "1           Trailers,Deleted Scenes 2006-02-15 05:03:42  "
      ]
     },
     "execution_count": 268,
     "metadata": {},
     "output_type": "execute_result"
    }
   ],
   "source": [
    "films.head(2)"
   ]
  },
  {
   "cell_type": "markdown",
   "id": "abbd4587",
   "metadata": {},
   "source": [
    "### Column types and optimization "
   ]
  },
  {
   "cell_type": "markdown",
   "id": "e4fd474b",
   "metadata": {},
   "source": [
    "I will optimize the database for memory "
   ]
  },
  {
   "cell_type": "code",
   "execution_count": 269,
   "id": "42ce6b5f",
   "metadata": {},
   "outputs": [
    {
     "name": "stdout",
     "output_type": "stream",
     "text": [
      "<class 'pandas.core.frame.DataFrame'>\n",
      "RangeIndex: 1000 entries, 0 to 999\n",
      "Data columns (total 12 columns):\n",
      " #   Column            Non-Null Count  Dtype         \n",
      "---  ------            --------------  -----         \n",
      " 0   film_id           1000 non-null   int64         \n",
      " 1   title             1000 non-null   object        \n",
      " 2   description       1000 non-null   object        \n",
      " 3   release_year      1000 non-null   object        \n",
      " 4   language_id       1000 non-null   int64         \n",
      " 5   rental_duration   1000 non-null   int64         \n",
      " 6   rental_rate       1000 non-null   float64       \n",
      " 7   length            1000 non-null   int64         \n",
      " 8   replacement_cost  1000 non-null   float64       \n",
      " 9   rating            1000 non-null   object        \n",
      " 10  special_features  1000 non-null   object        \n",
      " 11  film_last_update  1000 non-null   datetime64[ns]\n",
      "dtypes: datetime64[ns](1), float64(2), int64(4), object(5)\n",
      "memory usage: 472.8 KB\n"
     ]
    }
   ],
   "source": [
    "films.info(memory_usage='deep')"
   ]
  },
  {
   "cell_type": "code",
   "execution_count": 270,
   "id": "3b41c258",
   "metadata": {},
   "outputs": [],
   "source": [
    "#downcast int\n",
    "\n",
    "for c in films.select_dtypes('integer'):\n",
    "    \n",
    "    films[c] = pd.to_numeric(films[c], downcast='integer')"
   ]
  },
  {
   "cell_type": "code",
   "execution_count": 271,
   "id": "8a088b61",
   "metadata": {},
   "outputs": [],
   "source": [
    "#downcast floats\n",
    "\n",
    "for c in films.select_dtypes('float'):\n",
    "    \n",
    "    films[c] = pd.to_numeric(films[c], downcast='float')"
   ]
  },
  {
   "cell_type": "code",
   "execution_count": 272,
   "id": "55f194ef",
   "metadata": {},
   "outputs": [],
   "source": [
    "#object columns to 'category'\n",
    "\n",
    "for c in films.select_dtypes(include='object'):\n",
    "    \n",
    "    films[c] = films[c].astype('category')   "
   ]
  },
  {
   "cell_type": "code",
   "execution_count": 273,
   "id": "146c3c3c",
   "metadata": {},
   "outputs": [],
   "source": [
    "#no need for 'nanoseconds' precision\n",
    "\n",
    "films.film_last_update = films.film_last_update.astype('datetime64[s]')"
   ]
  },
  {
   "cell_type": "markdown",
   "id": "20d76222",
   "metadata": {},
   "source": [
    "### Comparison output vs. original"
   ]
  },
  {
   "cell_type": "code",
   "execution_count": 274,
   "id": "eaba14a8",
   "metadata": {},
   "outputs": [
    {
     "name": "stdout",
     "output_type": "stream",
     "text": [
      "(1000, 13)\n",
      "(1000, 12)\n"
     ]
    }
   ],
   "source": [
    "#original_language_id removed \n",
    "\n",
    "print(filmsoriginal.shape)\n",
    "print(films.shape)"
   ]
  },
  {
   "cell_type": "code",
   "execution_count": 275,
   "id": "d20dc2cf",
   "metadata": {},
   "outputs": [
    {
     "name": "stdout",
     "output_type": "stream",
     "text": [
      "<class 'pandas.core.frame.DataFrame'>\n",
      "RangeIndex: 1000 entries, 0 to 999\n",
      "Data columns (total 12 columns):\n",
      " #   Column            Non-Null Count  Dtype        \n",
      "---  ------            --------------  -----        \n",
      " 0   film_id           1000 non-null   int16        \n",
      " 1   title             1000 non-null   category     \n",
      " 2   description       1000 non-null   category     \n",
      " 3   release_year      1000 non-null   category     \n",
      " 4   language_id       1000 non-null   int8         \n",
      " 5   rental_duration   1000 non-null   int8         \n",
      " 6   rental_rate       1000 non-null   float32      \n",
      " 7   length            1000 non-null   int16        \n",
      " 8   replacement_cost  1000 non-null   float32      \n",
      " 9   rating            1000 non-null   category     \n",
      " 10  special_features  1000 non-null   category     \n",
      " 11  film_last_update  1000 non-null   datetime64[s]\n",
      "dtypes: category(5), datetime64[s](1), float32(2), int16(2), int8(2)\n",
      "memory usage: 312.3 KB\n"
     ]
    }
   ],
   "source": [
    "#compare memory usage vs. original, following below\n",
    "\n",
    "films.info(memory_usage='deep')"
   ]
  },
  {
   "cell_type": "code",
   "execution_count": 276,
   "id": "c89cc1ab",
   "metadata": {},
   "outputs": [
    {
     "name": "stdout",
     "output_type": "stream",
     "text": [
      "<class 'pandas.core.frame.DataFrame'>\n",
      "RangeIndex: 1000 entries, 0 to 999\n",
      "Data columns (total 13 columns):\n",
      " #   Column                Non-Null Count  Dtype  \n",
      "---  ------                --------------  -----  \n",
      " 0   film_id               1000 non-null   int64  \n",
      " 1   title                 1000 non-null   object \n",
      " 2   description           1000 non-null   object \n",
      " 3   release_year          1000 non-null   int64  \n",
      " 4   language_id           1000 non-null   int64  \n",
      " 5   original_language_id  0 non-null      float64\n",
      " 6   rental_duration       1000 non-null   int64  \n",
      " 7   rental_rate           1000 non-null   float64\n",
      " 8   length                1000 non-null   int64  \n",
      " 9   replacement_cost      1000 non-null   float64\n",
      " 10  rating                1000 non-null   object \n",
      " 11  special_features      1000 non-null   object \n",
      " 12  last_update           1000 non-null   object \n",
      "dtypes: float64(3), int64(5), object(5)\n",
      "memory usage: 495.3 KB\n"
     ]
    }
   ],
   "source": [
    "filmsoriginal.info(memory_usage='deep') "
   ]
  },
  {
   "cell_type": "markdown",
   "id": "40275cff",
   "metadata": {},
   "source": [
    "### Export clean table"
   ]
  },
  {
   "cell_type": "code",
   "execution_count": 277,
   "id": "81a0fe4a",
   "metadata": {},
   "outputs": [],
   "source": [
    "films.to_csv('/Users/criscarneiro/desktop/ironhack/6_Projects/sql-data-base-building/data/clean/films_clean.csv', index=False)"
   ]
  }
 ],
 "metadata": {
  "kernelspec": {
   "display_name": "clase",
   "language": "python",
   "name": "clase"
  },
  "language_info": {
   "codemirror_mode": {
    "name": "ipython",
    "version": 3
   },
   "file_extension": ".py",
   "mimetype": "text/x-python",
   "name": "python",
   "nbconvert_exporter": "python",
   "pygments_lexer": "ipython3",
   "version": "3.10.13"
  }
 },
 "nbformat": 4,
 "nbformat_minor": 5
}
