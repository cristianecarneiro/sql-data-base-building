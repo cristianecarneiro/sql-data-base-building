{
 "cells": [
  {
   "cell_type": "markdown",
   "id": "71c75516",
   "metadata": {},
   "source": [
    "# Project: Building MySQL Database for VHS Rental Store | Cristiane Carneiro"
   ]
  },
  {
   "cell_type": "markdown",
   "id": "9d35d8f0",
   "metadata": {},
   "source": [
    "## Data Cleaning : film.csv"
   ]
  },
  {
   "cell_type": "markdown",
   "id": "f5a4c7a3",
   "metadata": {},
   "source": [
    "In this file, one can review the step by step cleaning process for table film.csv "
   ]
  },
  {
   "cell_type": "markdown",
   "id": "806d24b8",
   "metadata": {},
   "source": [
    "### Import "
   ]
  },
  {
   "cell_type": "markdown",
   "id": "7f70c10f",
   "metadata": {},
   "source": [
    "We start by importing the libraries we are going to use and loading the database"
   ]
  },
  {
   "cell_type": "code",
   "execution_count": 1,
   "id": "c77a9833",
   "metadata": {},
   "outputs": [
    {
     "name": "stdout",
     "output_type": "stream",
     "text": [
      "Requirement already satisfied: ipython in /Users/criscarneiro/anaconda3/envs/clase/lib/python3.10/site-packages (8.16.1)\n",
      "Requirement already satisfied: backcall in /Users/criscarneiro/anaconda3/envs/clase/lib/python3.10/site-packages (from ipython) (0.2.0)\n",
      "Requirement already satisfied: decorator in /Users/criscarneiro/anaconda3/envs/clase/lib/python3.10/site-packages (from ipython) (5.1.1)\n",
      "Requirement already satisfied: jedi>=0.16 in /Users/criscarneiro/anaconda3/envs/clase/lib/python3.10/site-packages (from ipython) (0.19.1)\n",
      "Requirement already satisfied: matplotlib-inline in /Users/criscarneiro/anaconda3/envs/clase/lib/python3.10/site-packages (from ipython) (0.1.6)\n",
      "Requirement already satisfied: pickleshare in /Users/criscarneiro/anaconda3/envs/clase/lib/python3.10/site-packages (from ipython) (0.7.5)\n",
      "Requirement already satisfied: prompt-toolkit!=3.0.37,<3.1.0,>=3.0.30 in /Users/criscarneiro/anaconda3/envs/clase/lib/python3.10/site-packages (from ipython) (3.0.39)\n",
      "Requirement already satisfied: pygments>=2.4.0 in /Users/criscarneiro/anaconda3/envs/clase/lib/python3.10/site-packages (from ipython) (2.16.1)\n",
      "Requirement already satisfied: stack-data in /Users/criscarneiro/anaconda3/envs/clase/lib/python3.10/site-packages (from ipython) (0.6.3)\n",
      "Requirement already satisfied: traitlets>=5 in /Users/criscarneiro/anaconda3/envs/clase/lib/python3.10/site-packages (from ipython) (5.11.2)\n",
      "Requirement already satisfied: exceptiongroup in /Users/criscarneiro/anaconda3/envs/clase/lib/python3.10/site-packages (from ipython) (1.1.3)\n",
      "Requirement already satisfied: pexpect>4.3 in /Users/criscarneiro/anaconda3/envs/clase/lib/python3.10/site-packages (from ipython) (4.8.0)\n",
      "Requirement already satisfied: appnope in /Users/criscarneiro/anaconda3/envs/clase/lib/python3.10/site-packages (from ipython) (0.1.3)\n",
      "Requirement already satisfied: parso<0.9.0,>=0.8.3 in /Users/criscarneiro/anaconda3/envs/clase/lib/python3.10/site-packages (from jedi>=0.16->ipython) (0.8.3)\n",
      "Requirement already satisfied: ptyprocess>=0.5 in /Users/criscarneiro/anaconda3/envs/clase/lib/python3.10/site-packages (from pexpect>4.3->ipython) (0.7.0)\n",
      "Requirement already satisfied: wcwidth in /Users/criscarneiro/anaconda3/envs/clase/lib/python3.10/site-packages (from prompt-toolkit!=3.0.37,<3.1.0,>=3.0.30->ipython) (0.2.8)\n",
      "Requirement already satisfied: executing>=1.2.0 in /Users/criscarneiro/anaconda3/envs/clase/lib/python3.10/site-packages (from stack-data->ipython) (2.0.0)\n",
      "Requirement already satisfied: asttokens>=2.1.0 in /Users/criscarneiro/anaconda3/envs/clase/lib/python3.10/site-packages (from stack-data->ipython) (2.4.0)\n",
      "Requirement already satisfied: pure-eval in /Users/criscarneiro/anaconda3/envs/clase/lib/python3.10/site-packages (from stack-data->ipython) (0.2.2)\n",
      "Requirement already satisfied: six>=1.12.0 in /Users/criscarneiro/anaconda3/envs/clase/lib/python3.10/site-packages (from asttokens>=2.1.0->stack-data->ipython) (1.16.0)\n",
      "Note: you may need to restart the kernel to use updated packages.\n",
      "Requirement already satisfied: seaborn in /Users/criscarneiro/anaconda3/envs/clase/lib/python3.10/site-packages (0.13.0)\n",
      "Requirement already satisfied: numpy!=1.24.0,>=1.20 in /Users/criscarneiro/anaconda3/envs/clase/lib/python3.10/site-packages (from seaborn) (1.26.1)\n",
      "Requirement already satisfied: pandas>=1.2 in /Users/criscarneiro/anaconda3/envs/clase/lib/python3.10/site-packages (from seaborn) (2.1.1)\n",
      "Requirement already satisfied: matplotlib!=3.6.1,>=3.3 in /Users/criscarneiro/anaconda3/envs/clase/lib/python3.10/site-packages (from seaborn) (3.8.0)\n",
      "Requirement already satisfied: contourpy>=1.0.1 in /Users/criscarneiro/anaconda3/envs/clase/lib/python3.10/site-packages (from matplotlib!=3.6.1,>=3.3->seaborn) (1.1.1)\n",
      "Requirement already satisfied: cycler>=0.10 in /Users/criscarneiro/anaconda3/envs/clase/lib/python3.10/site-packages (from matplotlib!=3.6.1,>=3.3->seaborn) (0.12.1)\n",
      "Requirement already satisfied: fonttools>=4.22.0 in /Users/criscarneiro/anaconda3/envs/clase/lib/python3.10/site-packages (from matplotlib!=3.6.1,>=3.3->seaborn) (4.43.1)\n",
      "Requirement already satisfied: kiwisolver>=1.0.1 in /Users/criscarneiro/anaconda3/envs/clase/lib/python3.10/site-packages (from matplotlib!=3.6.1,>=3.3->seaborn) (1.4.5)\n",
      "Requirement already satisfied: packaging>=20.0 in /Users/criscarneiro/anaconda3/envs/clase/lib/python3.10/site-packages (from matplotlib!=3.6.1,>=3.3->seaborn) (23.2)\n",
      "Requirement already satisfied: pillow>=6.2.0 in /Users/criscarneiro/anaconda3/envs/clase/lib/python3.10/site-packages (from matplotlib!=3.6.1,>=3.3->seaborn) (10.1.0)\n",
      "Requirement already satisfied: pyparsing>=2.3.1 in /Users/criscarneiro/anaconda3/envs/clase/lib/python3.10/site-packages (from matplotlib!=3.6.1,>=3.3->seaborn) (3.1.1)\n",
      "Requirement already satisfied: python-dateutil>=2.7 in /Users/criscarneiro/anaconda3/envs/clase/lib/python3.10/site-packages (from matplotlib!=3.6.1,>=3.3->seaborn) (2.8.2)\n",
      "Requirement already satisfied: pytz>=2020.1 in /Users/criscarneiro/anaconda3/envs/clase/lib/python3.10/site-packages (from pandas>=1.2->seaborn) (2023.3.post1)\n",
      "Requirement already satisfied: tzdata>=2022.1 in /Users/criscarneiro/anaconda3/envs/clase/lib/python3.10/site-packages (from pandas>=1.2->seaborn) (2023.3)\n",
      "Requirement already satisfied: six>=1.5 in /Users/criscarneiro/anaconda3/envs/clase/lib/python3.10/site-packages (from python-dateutil>=2.7->matplotlib!=3.6.1,>=3.3->seaborn) (1.16.0)\n",
      "Note: you may need to restart the kernel to use updated packages.\n"
     ]
    }
   ],
   "source": [
    "%pip install ipython\n",
    "%pip install seaborn"
   ]
  },
  {
   "cell_type": "code",
   "execution_count": 2,
   "id": "7a1c9791",
   "metadata": {},
   "outputs": [],
   "source": [
    "import pandas as pd\n",
    "pd.set_option('display.max_columns', None)\n",
    "\n",
    "import numpy as np\n",
    "\n",
    "import warnings\n",
    "warnings.filterwarnings('ignore')\n",
    "\n",
    "import pylab as plt  \n",
    "\n",
    "import seaborn as sns \n",
    "\n",
    "%matplotlib inline"
   ]
  },
  {
   "cell_type": "code",
   "execution_count": 3,
   "id": "92109971",
   "metadata": {},
   "outputs": [],
   "source": [
    "films = pd.read_csv('/Users/criscarneiro/desktop/ironhack/6_Projects/sql-data-base-building/data/raw/film.csv')"
   ]
  },
  {
   "cell_type": "code",
   "execution_count": 4,
   "id": "f34b1e91",
   "metadata": {},
   "outputs": [
    {
     "data": {
      "text/html": [
       "<div>\n",
       "<style scoped>\n",
       "    .dataframe tbody tr th:only-of-type {\n",
       "        vertical-align: middle;\n",
       "    }\n",
       "\n",
       "    .dataframe tbody tr th {\n",
       "        vertical-align: top;\n",
       "    }\n",
       "\n",
       "    .dataframe thead th {\n",
       "        text-align: right;\n",
       "    }\n",
       "</style>\n",
       "<table border=\"1\" class=\"dataframe\">\n",
       "  <thead>\n",
       "    <tr style=\"text-align: right;\">\n",
       "      <th></th>\n",
       "      <th>film_id</th>\n",
       "      <th>title</th>\n",
       "      <th>description</th>\n",
       "      <th>release_year</th>\n",
       "      <th>language_id</th>\n",
       "      <th>original_language_id</th>\n",
       "      <th>rental_duration</th>\n",
       "      <th>rental_rate</th>\n",
       "      <th>length</th>\n",
       "      <th>replacement_cost</th>\n",
       "      <th>rating</th>\n",
       "      <th>special_features</th>\n",
       "      <th>last_update</th>\n",
       "    </tr>\n",
       "  </thead>\n",
       "  <tbody>\n",
       "    <tr>\n",
       "      <th>0</th>\n",
       "      <td>1</td>\n",
       "      <td>ACADEMY DINOSAUR</td>\n",
       "      <td>A Epic Drama of a Feminist And a Mad Scientist...</td>\n",
       "      <td>2006</td>\n",
       "      <td>1</td>\n",
       "      <td>NaN</td>\n",
       "      <td>6</td>\n",
       "      <td>0.99</td>\n",
       "      <td>86</td>\n",
       "      <td>20.99</td>\n",
       "      <td>PG</td>\n",
       "      <td>Deleted Scenes,Behind the Scenes</td>\n",
       "      <td>2006-02-15 05:03:42</td>\n",
       "    </tr>\n",
       "    <tr>\n",
       "      <th>1</th>\n",
       "      <td>2</td>\n",
       "      <td>ACE GOLDFINGER</td>\n",
       "      <td>A Astounding Epistle of a Database Administrat...</td>\n",
       "      <td>2006</td>\n",
       "      <td>1</td>\n",
       "      <td>NaN</td>\n",
       "      <td>3</td>\n",
       "      <td>4.99</td>\n",
       "      <td>48</td>\n",
       "      <td>12.99</td>\n",
       "      <td>G</td>\n",
       "      <td>Trailers,Deleted Scenes</td>\n",
       "      <td>2006-02-15 05:03:42</td>\n",
       "    </tr>\n",
       "    <tr>\n",
       "      <th>2</th>\n",
       "      <td>3</td>\n",
       "      <td>ADAPTATION HOLES</td>\n",
       "      <td>A Astounding Reflection of a Lumberjack And a ...</td>\n",
       "      <td>2006</td>\n",
       "      <td>1</td>\n",
       "      <td>NaN</td>\n",
       "      <td>7</td>\n",
       "      <td>2.99</td>\n",
       "      <td>50</td>\n",
       "      <td>18.99</td>\n",
       "      <td>NC-17</td>\n",
       "      <td>Trailers,Deleted Scenes</td>\n",
       "      <td>2006-02-15 05:03:42</td>\n",
       "    </tr>\n",
       "    <tr>\n",
       "      <th>3</th>\n",
       "      <td>4</td>\n",
       "      <td>AFFAIR PREJUDICE</td>\n",
       "      <td>A Fanciful Documentary of a Frisbee And a Lumb...</td>\n",
       "      <td>2006</td>\n",
       "      <td>1</td>\n",
       "      <td>NaN</td>\n",
       "      <td>5</td>\n",
       "      <td>2.99</td>\n",
       "      <td>117</td>\n",
       "      <td>26.99</td>\n",
       "      <td>G</td>\n",
       "      <td>Commentaries,Behind the Scenes</td>\n",
       "      <td>2006-02-15 05:03:42</td>\n",
       "    </tr>\n",
       "    <tr>\n",
       "      <th>4</th>\n",
       "      <td>5</td>\n",
       "      <td>AFRICAN EGG</td>\n",
       "      <td>A Fast-Paced Documentary of a Pastry Chef And ...</td>\n",
       "      <td>2006</td>\n",
       "      <td>1</td>\n",
       "      <td>NaN</td>\n",
       "      <td>6</td>\n",
       "      <td>2.99</td>\n",
       "      <td>130</td>\n",
       "      <td>22.99</td>\n",
       "      <td>G</td>\n",
       "      <td>Deleted Scenes</td>\n",
       "      <td>2006-02-15 05:03:42</td>\n",
       "    </tr>\n",
       "  </tbody>\n",
       "</table>\n",
       "</div>"
      ],
      "text/plain": [
       "   film_id             title  \\\n",
       "0        1  ACADEMY DINOSAUR   \n",
       "1        2    ACE GOLDFINGER   \n",
       "2        3  ADAPTATION HOLES   \n",
       "3        4  AFFAIR PREJUDICE   \n",
       "4        5       AFRICAN EGG   \n",
       "\n",
       "                                         description  release_year  \\\n",
       "0  A Epic Drama of a Feminist And a Mad Scientist...          2006   \n",
       "1  A Astounding Epistle of a Database Administrat...          2006   \n",
       "2  A Astounding Reflection of a Lumberjack And a ...          2006   \n",
       "3  A Fanciful Documentary of a Frisbee And a Lumb...          2006   \n",
       "4  A Fast-Paced Documentary of a Pastry Chef And ...          2006   \n",
       "\n",
       "   language_id  original_language_id  rental_duration  rental_rate  length  \\\n",
       "0            1                   NaN                6         0.99      86   \n",
       "1            1                   NaN                3         4.99      48   \n",
       "2            1                   NaN                7         2.99      50   \n",
       "3            1                   NaN                5         2.99     117   \n",
       "4            1                   NaN                6         2.99     130   \n",
       "\n",
       "   replacement_cost rating                  special_features  \\\n",
       "0             20.99     PG  Deleted Scenes,Behind the Scenes   \n",
       "1             12.99      G           Trailers,Deleted Scenes   \n",
       "2             18.99  NC-17           Trailers,Deleted Scenes   \n",
       "3             26.99      G    Commentaries,Behind the Scenes   \n",
       "4             22.99      G                    Deleted Scenes   \n",
       "\n",
       "           last_update  \n",
       "0  2006-02-15 05:03:42  \n",
       "1  2006-02-15 05:03:42  \n",
       "2  2006-02-15 05:03:42  \n",
       "3  2006-02-15 05:03:42  \n",
       "4  2006-02-15 05:03:42  "
      ]
     },
     "execution_count": 4,
     "metadata": {},
     "output_type": "execute_result"
    }
   ],
   "source": [
    "films.head()"
   ]
  },
  {
   "cell_type": "markdown",
   "id": "b2445efb",
   "metadata": {},
   "source": [
    "### Good practices"
   ]
  },
  {
   "cell_type": "markdown",
   "id": "41edadf6",
   "metadata": {},
   "source": [
    "Some good practices before we continue with the exercise"
   ]
  },
  {
   "cell_type": "code",
   "execution_count": 5,
   "id": "f017f874",
   "metadata": {},
   "outputs": [],
   "source": [
    "#creating a back-up with the original table \n",
    "\n",
    "filmsoriginal = films.copy()"
   ]
  },
  {
   "cell_type": "code",
   "execution_count": 6,
   "id": "4cab330d",
   "metadata": {},
   "outputs": [
    {
     "data": {
      "text/plain": [
       "Index(['film_id', 'title', 'description', 'release_year', 'language_id',\n",
       "       'original_language_id', 'rental_duration', 'rental_rate', 'length',\n",
       "       'replacement_cost', 'rating', 'special_features', 'last_update'],\n",
       "      dtype='object')"
      ]
     },
     "execution_count": 6,
     "metadata": {},
     "output_type": "execute_result"
    }
   ],
   "source": [
    "#ensuring column names are clean \n",
    "\n",
    "films.columns"
   ]
  },
  {
   "cell_type": "code",
   "execution_count": 7,
   "id": "534aa5f4",
   "metadata": {},
   "outputs": [
    {
     "data": {
      "text/plain": [
       "Index(['film_id', 'title', 'description', 'release_year', 'language_id',\n",
       "       'original_language_id', 'rental_duration', 'rental_rate', 'length',\n",
       "       'replacement_cost', 'rating', 'special_features', 'last_update'],\n",
       "      dtype='object')"
      ]
     },
     "execution_count": 7,
     "metadata": {},
     "output_type": "execute_result"
    }
   ],
   "source": [
    "films.columns = [c.lower().replace(' ', '_') for c in films.columns]\n",
    "\n",
    "films.columns"
   ]
  },
  {
   "cell_type": "code",
   "execution_count": 8,
   "id": "4ae974df",
   "metadata": {},
   "outputs": [
    {
     "data": {
      "text/plain": [
       "False"
      ]
     },
     "execution_count": 8,
     "metadata": {},
     "output_type": "execute_result"
    }
   ],
   "source": [
    "#checking for duplicates \n",
    "\n",
    "films.duplicated().any() #there are no duplicates "
   ]
  },
  {
   "cell_type": "markdown",
   "id": "5de6c7b5",
   "metadata": {},
   "source": [
    "### Explore "
   ]
  },
  {
   "cell_type": "markdown",
   "id": "f6bbee82",
   "metadata": {},
   "source": [
    "Exploratory analysis to understand the data base (e.g,. description, column types, searching for null values) "
   ]
  },
  {
   "cell_type": "code",
   "execution_count": 13,
   "id": "6064de19",
   "metadata": {},
   "outputs": [
    {
     "data": {
      "text/html": [
       "<div>\n",
       "<style scoped>\n",
       "    .dataframe tbody tr th:only-of-type {\n",
       "        vertical-align: middle;\n",
       "    }\n",
       "\n",
       "    .dataframe tbody tr th {\n",
       "        vertical-align: top;\n",
       "    }\n",
       "\n",
       "    .dataframe thead th {\n",
       "        text-align: right;\n",
       "    }\n",
       "</style>\n",
       "<table border=\"1\" class=\"dataframe\">\n",
       "  <thead>\n",
       "    <tr style=\"text-align: right;\">\n",
       "      <th></th>\n",
       "      <th>film_id</th>\n",
       "      <th>title</th>\n",
       "      <th>description</th>\n",
       "      <th>release_year</th>\n",
       "      <th>language_id</th>\n",
       "      <th>original_language_id</th>\n",
       "      <th>rental_duration</th>\n",
       "      <th>rental_rate</th>\n",
       "      <th>length</th>\n",
       "      <th>replacement_cost</th>\n",
       "      <th>rating</th>\n",
       "      <th>special_features</th>\n",
       "      <th>last_update</th>\n",
       "    </tr>\n",
       "  </thead>\n",
       "  <tbody>\n",
       "    <tr>\n",
       "      <th>0</th>\n",
       "      <td>1</td>\n",
       "      <td>ACADEMY DINOSAUR</td>\n",
       "      <td>A Epic Drama of a Feminist And a Mad Scientist...</td>\n",
       "      <td>2006</td>\n",
       "      <td>1</td>\n",
       "      <td>NaN</td>\n",
       "      <td>6</td>\n",
       "      <td>0.99</td>\n",
       "      <td>86</td>\n",
       "      <td>20.99</td>\n",
       "      <td>PG</td>\n",
       "      <td>Deleted Scenes,Behind the Scenes</td>\n",
       "      <td>2006-02-15 05:03:42</td>\n",
       "    </tr>\n",
       "  </tbody>\n",
       "</table>\n",
       "</div>"
      ],
      "text/plain": [
       "   film_id             title  \\\n",
       "0        1  ACADEMY DINOSAUR   \n",
       "\n",
       "                                         description  release_year  \\\n",
       "0  A Epic Drama of a Feminist And a Mad Scientist...          2006   \n",
       "\n",
       "   language_id  original_language_id  rental_duration  rental_rate  length  \\\n",
       "0            1                   NaN                6         0.99      86   \n",
       "\n",
       "   replacement_cost rating                  special_features  \\\n",
       "0             20.99     PG  Deleted Scenes,Behind the Scenes   \n",
       "\n",
       "           last_update  \n",
       "0  2006-02-15 05:03:42  "
      ]
     },
     "execution_count": 13,
     "metadata": {},
     "output_type": "execute_result"
    }
   ],
   "source": [
    "#this is a repository of films, with their respective data (e.g., their title, language, lenght, etc) \n",
    "\n",
    "films.head(1)"
   ]
  },
  {
   "cell_type": "code",
   "execution_count": 15,
   "id": "f2711216",
   "metadata": {},
   "outputs": [
    {
     "data": {
      "text/plain": [
       "(1000, 13)"
      ]
     },
     "execution_count": 15,
     "metadata": {},
     "output_type": "execute_result"
    }
   ],
   "source": [
    "#we have 13 columns, and 1000 entries (rows) in our original database\n",
    "\n",
    "filmsoriginal.shape"
   ]
  },
  {
   "cell_type": "code",
   "execution_count": 16,
   "id": "fc98353d",
   "metadata": {},
   "outputs": [
    {
     "name": "stdout",
     "output_type": "stream",
     "text": [
      "<class 'pandas.core.frame.DataFrame'>\n",
      "RangeIndex: 1000 entries, 0 to 999\n",
      "Data columns (total 13 columns):\n",
      " #   Column                Non-Null Count  Dtype  \n",
      "---  ------                --------------  -----  \n",
      " 0   film_id               1000 non-null   int64  \n",
      " 1   title                 1000 non-null   object \n",
      " 2   description           1000 non-null   object \n",
      " 3   release_year          1000 non-null   int64  \n",
      " 4   language_id           1000 non-null   int64  \n",
      " 5   original_language_id  0 non-null      float64\n",
      " 6   rental_duration       1000 non-null   int64  \n",
      " 7   rental_rate           1000 non-null   float64\n",
      " 8   length                1000 non-null   int64  \n",
      " 9   replacement_cost      1000 non-null   float64\n",
      " 10  rating                1000 non-null   object \n",
      " 11  special_features      1000 non-null   object \n",
      " 12  last_update           1000 non-null   object \n",
      "dtypes: float64(3), int64(5), object(5)\n",
      "memory usage: 101.7+ KB\n"
     ]
    }
   ],
   "source": [
    "#here we can see the type of each of the columns  \n",
    "#we also see column original_language_id is 100% null \n",
    "\n",
    "films.info()"
   ]
  },
  {
   "cell_type": "code",
   "execution_count": 17,
   "id": "93941e38",
   "metadata": {},
   "outputs": [
    {
     "data": {
      "text/html": [
       "<div>\n",
       "<style scoped>\n",
       "    .dataframe tbody tr th:only-of-type {\n",
       "        vertical-align: middle;\n",
       "    }\n",
       "\n",
       "    .dataframe tbody tr th {\n",
       "        vertical-align: top;\n",
       "    }\n",
       "\n",
       "    .dataframe thead th {\n",
       "        text-align: right;\n",
       "    }\n",
       "</style>\n",
       "<table border=\"1\" class=\"dataframe\">\n",
       "  <thead>\n",
       "    <tr style=\"text-align: right;\">\n",
       "      <th></th>\n",
       "      <th>count</th>\n",
       "      <th>unique</th>\n",
       "      <th>top</th>\n",
       "      <th>freq</th>\n",
       "      <th>mean</th>\n",
       "      <th>std</th>\n",
       "      <th>min</th>\n",
       "      <th>25%</th>\n",
       "      <th>50%</th>\n",
       "      <th>75%</th>\n",
       "      <th>max</th>\n",
       "    </tr>\n",
       "  </thead>\n",
       "  <tbody>\n",
       "    <tr>\n",
       "      <th>film_id</th>\n",
       "      <td>1000.0</td>\n",
       "      <td>NaN</td>\n",
       "      <td>NaN</td>\n",
       "      <td>NaN</td>\n",
       "      <td>500.5</td>\n",
       "      <td>288.819436</td>\n",
       "      <td>1.0</td>\n",
       "      <td>250.75</td>\n",
       "      <td>500.5</td>\n",
       "      <td>750.25</td>\n",
       "      <td>1000.0</td>\n",
       "    </tr>\n",
       "    <tr>\n",
       "      <th>title</th>\n",
       "      <td>1000</td>\n",
       "      <td>1000</td>\n",
       "      <td>ACADEMY DINOSAUR</td>\n",
       "      <td>1</td>\n",
       "      <td>NaN</td>\n",
       "      <td>NaN</td>\n",
       "      <td>NaN</td>\n",
       "      <td>NaN</td>\n",
       "      <td>NaN</td>\n",
       "      <td>NaN</td>\n",
       "      <td>NaN</td>\n",
       "    </tr>\n",
       "    <tr>\n",
       "      <th>description</th>\n",
       "      <td>1000</td>\n",
       "      <td>1000</td>\n",
       "      <td>A Epic Drama of a Feminist And a Mad Scientist...</td>\n",
       "      <td>1</td>\n",
       "      <td>NaN</td>\n",
       "      <td>NaN</td>\n",
       "      <td>NaN</td>\n",
       "      <td>NaN</td>\n",
       "      <td>NaN</td>\n",
       "      <td>NaN</td>\n",
       "      <td>NaN</td>\n",
       "    </tr>\n",
       "    <tr>\n",
       "      <th>release_year</th>\n",
       "      <td>1000.0</td>\n",
       "      <td>NaN</td>\n",
       "      <td>NaN</td>\n",
       "      <td>NaN</td>\n",
       "      <td>2006.0</td>\n",
       "      <td>0.0</td>\n",
       "      <td>2006.0</td>\n",
       "      <td>2006.0</td>\n",
       "      <td>2006.0</td>\n",
       "      <td>2006.0</td>\n",
       "      <td>2006.0</td>\n",
       "    </tr>\n",
       "    <tr>\n",
       "      <th>language_id</th>\n",
       "      <td>1000.0</td>\n",
       "      <td>NaN</td>\n",
       "      <td>NaN</td>\n",
       "      <td>NaN</td>\n",
       "      <td>1.0</td>\n",
       "      <td>0.0</td>\n",
       "      <td>1.0</td>\n",
       "      <td>1.0</td>\n",
       "      <td>1.0</td>\n",
       "      <td>1.0</td>\n",
       "      <td>1.0</td>\n",
       "    </tr>\n",
       "    <tr>\n",
       "      <th>original_language_id</th>\n",
       "      <td>0.0</td>\n",
       "      <td>NaN</td>\n",
       "      <td>NaN</td>\n",
       "      <td>NaN</td>\n",
       "      <td>NaN</td>\n",
       "      <td>NaN</td>\n",
       "      <td>NaN</td>\n",
       "      <td>NaN</td>\n",
       "      <td>NaN</td>\n",
       "      <td>NaN</td>\n",
       "      <td>NaN</td>\n",
       "    </tr>\n",
       "    <tr>\n",
       "      <th>rental_duration</th>\n",
       "      <td>1000.0</td>\n",
       "      <td>NaN</td>\n",
       "      <td>NaN</td>\n",
       "      <td>NaN</td>\n",
       "      <td>4.985</td>\n",
       "      <td>1.411654</td>\n",
       "      <td>3.0</td>\n",
       "      <td>4.0</td>\n",
       "      <td>5.0</td>\n",
       "      <td>6.0</td>\n",
       "      <td>7.0</td>\n",
       "    </tr>\n",
       "    <tr>\n",
       "      <th>rental_rate</th>\n",
       "      <td>1000.0</td>\n",
       "      <td>NaN</td>\n",
       "      <td>NaN</td>\n",
       "      <td>NaN</td>\n",
       "      <td>2.98</td>\n",
       "      <td>1.646393</td>\n",
       "      <td>0.99</td>\n",
       "      <td>0.99</td>\n",
       "      <td>2.99</td>\n",
       "      <td>4.99</td>\n",
       "      <td>4.99</td>\n",
       "    </tr>\n",
       "    <tr>\n",
       "      <th>length</th>\n",
       "      <td>1000.0</td>\n",
       "      <td>NaN</td>\n",
       "      <td>NaN</td>\n",
       "      <td>NaN</td>\n",
       "      <td>115.272</td>\n",
       "      <td>40.426332</td>\n",
       "      <td>46.0</td>\n",
       "      <td>80.0</td>\n",
       "      <td>114.0</td>\n",
       "      <td>149.25</td>\n",
       "      <td>185.0</td>\n",
       "    </tr>\n",
       "    <tr>\n",
       "      <th>replacement_cost</th>\n",
       "      <td>1000.0</td>\n",
       "      <td>NaN</td>\n",
       "      <td>NaN</td>\n",
       "      <td>NaN</td>\n",
       "      <td>19.984</td>\n",
       "      <td>6.050833</td>\n",
       "      <td>9.99</td>\n",
       "      <td>14.99</td>\n",
       "      <td>19.99</td>\n",
       "      <td>24.99</td>\n",
       "      <td>29.99</td>\n",
       "    </tr>\n",
       "    <tr>\n",
       "      <th>rating</th>\n",
       "      <td>1000</td>\n",
       "      <td>5</td>\n",
       "      <td>PG-13</td>\n",
       "      <td>223</td>\n",
       "      <td>NaN</td>\n",
       "      <td>NaN</td>\n",
       "      <td>NaN</td>\n",
       "      <td>NaN</td>\n",
       "      <td>NaN</td>\n",
       "      <td>NaN</td>\n",
       "      <td>NaN</td>\n",
       "    </tr>\n",
       "    <tr>\n",
       "      <th>special_features</th>\n",
       "      <td>1000</td>\n",
       "      <td>15</td>\n",
       "      <td>Trailers,Commentaries,Behind the Scenes</td>\n",
       "      <td>79</td>\n",
       "      <td>NaN</td>\n",
       "      <td>NaN</td>\n",
       "      <td>NaN</td>\n",
       "      <td>NaN</td>\n",
       "      <td>NaN</td>\n",
       "      <td>NaN</td>\n",
       "      <td>NaN</td>\n",
       "    </tr>\n",
       "    <tr>\n",
       "      <th>last_update</th>\n",
       "      <td>1000</td>\n",
       "      <td>1</td>\n",
       "      <td>2006-02-15 05:03:42</td>\n",
       "      <td>1000</td>\n",
       "      <td>NaN</td>\n",
       "      <td>NaN</td>\n",
       "      <td>NaN</td>\n",
       "      <td>NaN</td>\n",
       "      <td>NaN</td>\n",
       "      <td>NaN</td>\n",
       "      <td>NaN</td>\n",
       "    </tr>\n",
       "  </tbody>\n",
       "</table>\n",
       "</div>"
      ],
      "text/plain": [
       "                       count unique  \\\n",
       "film_id               1000.0    NaN   \n",
       "title                   1000   1000   \n",
       "description             1000   1000   \n",
       "release_year          1000.0    NaN   \n",
       "language_id           1000.0    NaN   \n",
       "original_language_id     0.0    NaN   \n",
       "rental_duration       1000.0    NaN   \n",
       "rental_rate           1000.0    NaN   \n",
       "length                1000.0    NaN   \n",
       "replacement_cost      1000.0    NaN   \n",
       "rating                  1000      5   \n",
       "special_features        1000     15   \n",
       "last_update             1000      1   \n",
       "\n",
       "                                                                    top  freq  \\\n",
       "film_id                                                             NaN   NaN   \n",
       "title                                                  ACADEMY DINOSAUR     1   \n",
       "description           A Epic Drama of a Feminist And a Mad Scientist...     1   \n",
       "release_year                                                        NaN   NaN   \n",
       "language_id                                                         NaN   NaN   \n",
       "original_language_id                                                NaN   NaN   \n",
       "rental_duration                                                     NaN   NaN   \n",
       "rental_rate                                                         NaN   NaN   \n",
       "length                                                              NaN   NaN   \n",
       "replacement_cost                                                    NaN   NaN   \n",
       "rating                                                            PG-13   223   \n",
       "special_features                Trailers,Commentaries,Behind the Scenes    79   \n",
       "last_update                                         2006-02-15 05:03:42  1000   \n",
       "\n",
       "                         mean         std     min     25%     50%     75%  \\\n",
       "film_id                 500.5  288.819436     1.0  250.75   500.5  750.25   \n",
       "title                     NaN         NaN     NaN     NaN     NaN     NaN   \n",
       "description               NaN         NaN     NaN     NaN     NaN     NaN   \n",
       "release_year           2006.0         0.0  2006.0  2006.0  2006.0  2006.0   \n",
       "language_id               1.0         0.0     1.0     1.0     1.0     1.0   \n",
       "original_language_id      NaN         NaN     NaN     NaN     NaN     NaN   \n",
       "rental_duration         4.985    1.411654     3.0     4.0     5.0     6.0   \n",
       "rental_rate              2.98    1.646393    0.99    0.99    2.99    4.99   \n",
       "length                115.272   40.426332    46.0    80.0   114.0  149.25   \n",
       "replacement_cost       19.984    6.050833    9.99   14.99   19.99   24.99   \n",
       "rating                    NaN         NaN     NaN     NaN     NaN     NaN   \n",
       "special_features          NaN         NaN     NaN     NaN     NaN     NaN   \n",
       "last_update               NaN         NaN     NaN     NaN     NaN     NaN   \n",
       "\n",
       "                         max  \n",
       "film_id               1000.0  \n",
       "title                    NaN  \n",
       "description              NaN  \n",
       "release_year          2006.0  \n",
       "language_id              1.0  \n",
       "original_language_id     NaN  \n",
       "rental_duration          7.0  \n",
       "rental_rate             4.99  \n",
       "length                 185.0  \n",
       "replacement_cost       29.99  \n",
       "rating                   NaN  \n",
       "special_features         NaN  \n",
       "last_update              NaN  "
      ]
     },
     "execution_count": 17,
     "metadata": {},
     "output_type": "execute_result"
    }
   ],
   "source": [
    "#description table \n",
    "#here we can see the #of unique values, and the mode of each field. \n",
    "\n",
    "films.describe(include='all').T"
   ]
  },
  {
   "cell_type": "markdown",
   "id": "e6a71fc7",
   "metadata": {},
   "source": [
    "### Null values"
   ]
  },
  {
   "cell_type": "markdown",
   "id": "69bcf8e3",
   "metadata": {},
   "source": [
    "As stated above, it seems one of the columns is fully null. See per below:"
   ]
  },
  {
   "cell_type": "code",
   "execution_count": 18,
   "id": "519b012b",
   "metadata": {},
   "outputs": [
    {
     "data": {
      "text/plain": [
       "film_id                    0\n",
       "title                      0\n",
       "description                0\n",
       "release_year               0\n",
       "language_id                0\n",
       "original_language_id    1000\n",
       "rental_duration            0\n",
       "rental_rate                0\n",
       "length                     0\n",
       "replacement_cost           0\n",
       "rating                     0\n",
       "special_features           0\n",
       "last_update                0\n",
       "dtype: int64"
      ]
     },
     "execution_count": 18,
     "metadata": {},
     "output_type": "execute_result"
    }
   ],
   "source": [
    "nan_cols = films.isna().sum()\n",
    "\n",
    "nan_cols"
   ]
  },
  {
   "cell_type": "code",
   "execution_count": 19,
   "id": "54f4b480",
   "metadata": {},
   "outputs": [],
   "source": [
    "#I will exclude that column from the database\n",
    "\n",
    "films.drop('original_language_id', axis=1, inplace=True)"
   ]
  },
  {
   "cell_type": "code",
   "execution_count": 20,
   "id": "bc47ee4b",
   "metadata": {},
   "outputs": [
    {
     "data": {
      "text/plain": [
       "film_id             0\n",
       "title               0\n",
       "description         0\n",
       "release_year        0\n",
       "language_id         0\n",
       "rental_duration     0\n",
       "rental_rate         0\n",
       "length              0\n",
       "replacement_cost    0\n",
       "rating              0\n",
       "special_features    0\n",
       "last_update         0\n",
       "dtype: int64"
      ]
     },
     "execution_count": 20,
     "metadata": {},
     "output_type": "execute_result"
    }
   ],
   "source": [
    "nan_cols = films.isna().sum()\n",
    "\n",
    "nan_cols"
   ]
  },
  {
   "cell_type": "markdown",
   "id": "03e5b769",
   "metadata": {},
   "source": [
    "### Other cleaning "
   ]
  },
  {
   "cell_type": "markdown",
   "id": "2f6faecf",
   "metadata": {},
   "source": [
    "#### film_id"
   ]
  },
  {
   "cell_type": "code",
   "execution_count": 21,
   "id": "799c6d52",
   "metadata": {},
   "outputs": [
    {
     "data": {
      "text/plain": [
       "dtype('int64')"
      ]
     },
     "execution_count": 21,
     "metadata": {},
     "output_type": "execute_result"
    }
   ],
   "source": [
    "#we got a list of int values, which seem to be IDs for the each film\n",
    "#this is the most appropriate datatype (although we will optimize it later)\n",
    "\n",
    "films.film_id.dtype"
   ]
  },
  {
   "cell_type": "code",
   "execution_count": 22,
   "id": "207a55af",
   "metadata": {},
   "outputs": [
    {
     "data": {
      "text/plain": [
       "1000"
      ]
     },
     "execution_count": 22,
     "metadata": {},
     "output_type": "execute_result"
    }
   ],
   "source": [
    "#it seems all the IDs are unique values \n",
    "\n",
    "len(films.film_id.unique())"
   ]
  },
  {
   "cell_type": "code",
   "execution_count": 24,
   "id": "8ad440b0",
   "metadata": {},
   "outputs": [],
   "source": [
    "#films.film_id.unique()"
   ]
  },
  {
   "cell_type": "markdown",
   "id": "c2fc40f0",
   "metadata": {},
   "source": [
    "#### title"
   ]
  },
  {
   "cell_type": "code",
   "execution_count": 25,
   "id": "18ed5368",
   "metadata": {},
   "outputs": [
    {
     "data": {
      "text/plain": [
       "dtype('O')"
      ]
     },
     "execution_count": 25,
     "metadata": {},
     "output_type": "execute_result"
    }
   ],
   "source": [
    "#object type, as strings \n",
    "\n",
    "films.title.dtype"
   ]
  },
  {
   "cell_type": "code",
   "execution_count": 26,
   "id": "858c6d45",
   "metadata": {},
   "outputs": [
    {
     "data": {
      "text/plain": [
       "1000"
      ]
     },
     "execution_count": 26,
     "metadata": {},
     "output_type": "execute_result"
    }
   ],
   "source": [
    "#all film titles unique\n",
    "\n",
    "len(films.title.unique())"
   ]
  },
  {
   "cell_type": "code",
   "execution_count": 27,
   "id": "ebf8a425",
   "metadata": {},
   "outputs": [],
   "source": [
    "#not a fan of uppercase, will trim names\n",
    "\n",
    "films.title = films.title.apply(lambda X: X.title().strip())"
   ]
  },
  {
   "cell_type": "code",
   "execution_count": 29,
   "id": "e35fbf27",
   "metadata": {},
   "outputs": [
    {
     "data": {
      "text/html": [
       "<div>\n",
       "<style scoped>\n",
       "    .dataframe tbody tr th:only-of-type {\n",
       "        vertical-align: middle;\n",
       "    }\n",
       "\n",
       "    .dataframe tbody tr th {\n",
       "        vertical-align: top;\n",
       "    }\n",
       "\n",
       "    .dataframe thead th {\n",
       "        text-align: right;\n",
       "    }\n",
       "</style>\n",
       "<table border=\"1\" class=\"dataframe\">\n",
       "  <thead>\n",
       "    <tr style=\"text-align: right;\">\n",
       "      <th></th>\n",
       "      <th>film_id</th>\n",
       "      <th>title</th>\n",
       "      <th>description</th>\n",
       "      <th>release_year</th>\n",
       "      <th>language_id</th>\n",
       "      <th>rental_duration</th>\n",
       "      <th>rental_rate</th>\n",
       "      <th>length</th>\n",
       "      <th>replacement_cost</th>\n",
       "      <th>rating</th>\n",
       "      <th>special_features</th>\n",
       "      <th>last_update</th>\n",
       "    </tr>\n",
       "  </thead>\n",
       "  <tbody>\n",
       "    <tr>\n",
       "      <th>0</th>\n",
       "      <td>1</td>\n",
       "      <td>Academy Dinosaur</td>\n",
       "      <td>A Epic Drama of a Feminist And a Mad Scientist...</td>\n",
       "      <td>2006</td>\n",
       "      <td>1</td>\n",
       "      <td>6</td>\n",
       "      <td>0.99</td>\n",
       "      <td>86</td>\n",
       "      <td>20.99</td>\n",
       "      <td>PG</td>\n",
       "      <td>Deleted Scenes,Behind the Scenes</td>\n",
       "      <td>2006-02-15 05:03:42</td>\n",
       "    </tr>\n",
       "    <tr>\n",
       "      <th>1</th>\n",
       "      <td>2</td>\n",
       "      <td>Ace Goldfinger</td>\n",
       "      <td>A Astounding Epistle of a Database Administrat...</td>\n",
       "      <td>2006</td>\n",
       "      <td>1</td>\n",
       "      <td>3</td>\n",
       "      <td>4.99</td>\n",
       "      <td>48</td>\n",
       "      <td>12.99</td>\n",
       "      <td>G</td>\n",
       "      <td>Trailers,Deleted Scenes</td>\n",
       "      <td>2006-02-15 05:03:42</td>\n",
       "    </tr>\n",
       "    <tr>\n",
       "      <th>2</th>\n",
       "      <td>3</td>\n",
       "      <td>Adaptation Holes</td>\n",
       "      <td>A Astounding Reflection of a Lumberjack And a ...</td>\n",
       "      <td>2006</td>\n",
       "      <td>1</td>\n",
       "      <td>7</td>\n",
       "      <td>2.99</td>\n",
       "      <td>50</td>\n",
       "      <td>18.99</td>\n",
       "      <td>NC-17</td>\n",
       "      <td>Trailers,Deleted Scenes</td>\n",
       "      <td>2006-02-15 05:03:42</td>\n",
       "    </tr>\n",
       "  </tbody>\n",
       "</table>\n",
       "</div>"
      ],
      "text/plain": [
       "   film_id             title  \\\n",
       "0        1  Academy Dinosaur   \n",
       "1        2    Ace Goldfinger   \n",
       "2        3  Adaptation Holes   \n",
       "\n",
       "                                         description  release_year  \\\n",
       "0  A Epic Drama of a Feminist And a Mad Scientist...          2006   \n",
       "1  A Astounding Epistle of a Database Administrat...          2006   \n",
       "2  A Astounding Reflection of a Lumberjack And a ...          2006   \n",
       "\n",
       "   language_id  rental_duration  rental_rate  length  replacement_cost rating  \\\n",
       "0            1                6         0.99      86             20.99     PG   \n",
       "1            1                3         4.99      48             12.99      G   \n",
       "2            1                7         2.99      50             18.99  NC-17   \n",
       "\n",
       "                   special_features          last_update  \n",
       "0  Deleted Scenes,Behind the Scenes  2006-02-15 05:03:42  \n",
       "1           Trailers,Deleted Scenes  2006-02-15 05:03:42  \n",
       "2           Trailers,Deleted Scenes  2006-02-15 05:03:42  "
      ]
     },
     "execution_count": 29,
     "metadata": {},
     "output_type": "execute_result"
    }
   ],
   "source": [
    "films.head(3)"
   ]
  },
  {
   "cell_type": "markdown",
   "id": "5b133791",
   "metadata": {},
   "source": [
    "#### description"
   ]
  },
  {
   "cell_type": "code",
   "execution_count": 30,
   "id": "aa0632e7",
   "metadata": {},
   "outputs": [
    {
     "data": {
      "text/plain": [
       "dtype('O')"
      ]
     },
     "execution_count": 30,
     "metadata": {},
     "output_type": "execute_result"
    }
   ],
   "source": [
    "#object type, as strings \n",
    "\n",
    "films.description.dtype"
   ]
  },
  {
   "cell_type": "code",
   "execution_count": 31,
   "id": "9f9493b9",
   "metadata": {},
   "outputs": [
    {
     "data": {
      "text/plain": [
       "1000"
      ]
     },
     "execution_count": 31,
     "metadata": {},
     "output_type": "execute_result"
    }
   ],
   "source": [
    "#all descriptions unique\n",
    "\n",
    "len(films.description.unique())"
   ]
  },
  {
   "cell_type": "code",
   "execution_count": 34,
   "id": "40b93e9f",
   "metadata": {},
   "outputs": [],
   "source": [
    "#prefer only first letter capitalized, will trim \n",
    "\n",
    "films.description = films.description.apply(lambda x: '. '.join(map(str.capitalize, x.split('. '))))"
   ]
  },
  {
   "cell_type": "code",
   "execution_count": 35,
   "id": "c18a6541",
   "metadata": {},
   "outputs": [
    {
     "data": {
      "text/html": [
       "<div>\n",
       "<style scoped>\n",
       "    .dataframe tbody tr th:only-of-type {\n",
       "        vertical-align: middle;\n",
       "    }\n",
       "\n",
       "    .dataframe tbody tr th {\n",
       "        vertical-align: top;\n",
       "    }\n",
       "\n",
       "    .dataframe thead th {\n",
       "        text-align: right;\n",
       "    }\n",
       "</style>\n",
       "<table border=\"1\" class=\"dataframe\">\n",
       "  <thead>\n",
       "    <tr style=\"text-align: right;\">\n",
       "      <th></th>\n",
       "      <th>film_id</th>\n",
       "      <th>title</th>\n",
       "      <th>description</th>\n",
       "      <th>release_year</th>\n",
       "      <th>language_id</th>\n",
       "      <th>rental_duration</th>\n",
       "      <th>rental_rate</th>\n",
       "      <th>length</th>\n",
       "      <th>replacement_cost</th>\n",
       "      <th>rating</th>\n",
       "      <th>special_features</th>\n",
       "      <th>last_update</th>\n",
       "    </tr>\n",
       "  </thead>\n",
       "  <tbody>\n",
       "    <tr>\n",
       "      <th>0</th>\n",
       "      <td>1</td>\n",
       "      <td>Academy Dinosaur</td>\n",
       "      <td>A epic drama of a feminist and a mad scientist...</td>\n",
       "      <td>2006</td>\n",
       "      <td>1</td>\n",
       "      <td>6</td>\n",
       "      <td>0.99</td>\n",
       "      <td>86</td>\n",
       "      <td>20.99</td>\n",
       "      <td>PG</td>\n",
       "      <td>Deleted Scenes,Behind the Scenes</td>\n",
       "      <td>2006-02-15 05:03:42</td>\n",
       "    </tr>\n",
       "    <tr>\n",
       "      <th>1</th>\n",
       "      <td>2</td>\n",
       "      <td>Ace Goldfinger</td>\n",
       "      <td>A astounding epistle of a database administrat...</td>\n",
       "      <td>2006</td>\n",
       "      <td>1</td>\n",
       "      <td>3</td>\n",
       "      <td>4.99</td>\n",
       "      <td>48</td>\n",
       "      <td>12.99</td>\n",
       "      <td>G</td>\n",
       "      <td>Trailers,Deleted Scenes</td>\n",
       "      <td>2006-02-15 05:03:42</td>\n",
       "    </tr>\n",
       "    <tr>\n",
       "      <th>2</th>\n",
       "      <td>3</td>\n",
       "      <td>Adaptation Holes</td>\n",
       "      <td>A astounding reflection of a lumberjack and a ...</td>\n",
       "      <td>2006</td>\n",
       "      <td>1</td>\n",
       "      <td>7</td>\n",
       "      <td>2.99</td>\n",
       "      <td>50</td>\n",
       "      <td>18.99</td>\n",
       "      <td>NC-17</td>\n",
       "      <td>Trailers,Deleted Scenes</td>\n",
       "      <td>2006-02-15 05:03:42</td>\n",
       "    </tr>\n",
       "  </tbody>\n",
       "</table>\n",
       "</div>"
      ],
      "text/plain": [
       "   film_id             title  \\\n",
       "0        1  Academy Dinosaur   \n",
       "1        2    Ace Goldfinger   \n",
       "2        3  Adaptation Holes   \n",
       "\n",
       "                                         description  release_year  \\\n",
       "0  A epic drama of a feminist and a mad scientist...          2006   \n",
       "1  A astounding epistle of a database administrat...          2006   \n",
       "2  A astounding reflection of a lumberjack and a ...          2006   \n",
       "\n",
       "   language_id  rental_duration  rental_rate  length  replacement_cost rating  \\\n",
       "0            1                6         0.99      86             20.99     PG   \n",
       "1            1                3         4.99      48             12.99      G   \n",
       "2            1                7         2.99      50             18.99  NC-17   \n",
       "\n",
       "                   special_features          last_update  \n",
       "0  Deleted Scenes,Behind the Scenes  2006-02-15 05:03:42  \n",
       "1           Trailers,Deleted Scenes  2006-02-15 05:03:42  \n",
       "2           Trailers,Deleted Scenes  2006-02-15 05:03:42  "
      ]
     },
     "execution_count": 35,
     "metadata": {},
     "output_type": "execute_result"
    }
   ],
   "source": [
    "films.head(3)"
   ]
  },
  {
   "cell_type": "code",
   "execution_count": null,
   "id": "9ea9f0fa",
   "metadata": {},
   "outputs": [],
   "source": []
  },
  {
   "cell_type": "code",
   "execution_count": null,
   "id": "3013ce47",
   "metadata": {},
   "outputs": [],
   "source": []
  },
  {
   "cell_type": "code",
   "execution_count": null,
   "id": "63b395eb",
   "metadata": {},
   "outputs": [],
   "source": []
  },
  {
   "cell_type": "code",
   "execution_count": null,
   "id": "ecf95480",
   "metadata": {},
   "outputs": [],
   "source": []
  },
  {
   "cell_type": "code",
   "execution_count": null,
   "id": "ad286319",
   "metadata": {},
   "outputs": [],
   "source": []
  },
  {
   "cell_type": "markdown",
   "id": "4316cf8f",
   "metadata": {},
   "source": [
    "# clean "
   ]
  },
  {
   "cell_type": "markdown",
   "id": "0d01f191",
   "metadata": {},
   "source": [
    "#### last_update"
   ]
  },
  {
   "cell_type": "code",
   "execution_count": 40,
   "id": "f3ed778d",
   "metadata": {},
   "outputs": [
    {
     "data": {
      "text/plain": [
       "dtype('O')"
      ]
     },
     "execution_count": 40,
     "metadata": {},
     "output_type": "execute_result"
    }
   ],
   "source": [
    "#this column is type 'object'. It seems tough it would be most appropriate as a 'time type'\n",
    "\n",
    "actors.last_update.dtype"
   ]
  },
  {
   "cell_type": "code",
   "execution_count": 39,
   "id": "b87ab943",
   "metadata": {},
   "outputs": [
    {
     "data": {
      "text/plain": [
       "last_update\n",
       "2006-02-15 04:34:33    200\n",
       "Name: count, dtype: int64"
      ]
     },
     "execution_count": 39,
     "metadata": {},
     "output_type": "execute_result"
    }
   ],
   "source": [
    "#all the values are the same, indicating all the names were last updated on Feb 15th 2006\n",
    "\n",
    "actors.last_update.value_counts()"
   ]
  },
  {
   "cell_type": "code",
   "execution_count": 41,
   "id": "bb44dbf0",
   "metadata": {},
   "outputs": [],
   "source": [
    "#I will convert the data to datetime64\n",
    "\n",
    "actors.last_update = pd.to_datetime(actors.last_update)"
   ]
  },
  {
   "cell_type": "code",
   "execution_count": 42,
   "id": "2c106194",
   "metadata": {},
   "outputs": [
    {
     "data": {
      "text/plain": [
       "dtype('<M8[ns]')"
      ]
     },
     "execution_count": 42,
     "metadata": {},
     "output_type": "execute_result"
    }
   ],
   "source": [
    "#converted \n",
    "\n",
    "actors.last_update.dtype"
   ]
  },
  {
   "cell_type": "markdown",
   "id": "503937e7",
   "metadata": {},
   "source": [
    "#### first_name, last_name, and new column full_name"
   ]
  },
  {
   "cell_type": "markdown",
   "id": "ae3facef",
   "metadata": {},
   "source": [
    "I will clean the columns first_name, last_name together, and make sure there are no repeated actors (by their full name)"
   ]
  },
  {
   "cell_type": "code",
   "execution_count": 44,
   "id": "1a08703d",
   "metadata": {},
   "outputs": [
    {
     "name": "stdout",
     "output_type": "stream",
     "text": [
      "object\n",
      "object\n"
     ]
    }
   ],
   "source": [
    "#this column is type 'object'. They cointain a list of strings \n",
    "\n",
    "print(actors.first_name.dtype)\n",
    "print(actors.last_name.dtype)"
   ]
  },
  {
   "cell_type": "code",
   "execution_count": 49,
   "id": "e459c799",
   "metadata": {},
   "outputs": [
    {
     "data": {
      "text/plain": [
       "first_name\n",
       "PENELOPE    4\n",
       "JULIA       4\n",
       "KENNETH     4\n",
       "Name: count, dtype: int64"
      ]
     },
     "execution_count": 49,
     "metadata": {},
     "output_type": "execute_result"
    }
   ],
   "source": [
    "#these are the top first_names \n",
    "#some repeated values, but let us wait until we see full names\n",
    "\n",
    "actors.first_name.value_counts().head(3)"
   ]
  },
  {
   "cell_type": "code",
   "execution_count": 79,
   "id": "29aafdf3",
   "metadata": {},
   "outputs": [],
   "source": [
    "#actors.first_name.unique()"
   ]
  },
  {
   "cell_type": "code",
   "execution_count": 50,
   "id": "f1aef673",
   "metadata": {},
   "outputs": [
    {
     "data": {
      "text/plain": [
       "last_name\n",
       "KILMER    5\n",
       "TEMPLE    4\n",
       "NOLTE     4\n",
       "Name: count, dtype: int64"
      ]
     },
     "execution_count": 50,
     "metadata": {},
     "output_type": "execute_result"
    }
   ],
   "source": [
    "#these are the top last_names \n",
    "#some repeated values, but let us wait until we see full names\n",
    "\n",
    "actors.last_name.value_counts().head(3)"
   ]
  },
  {
   "cell_type": "code",
   "execution_count": 81,
   "id": "7eb9dc5b",
   "metadata": {},
   "outputs": [],
   "source": [
    "#actors.last_name.unique()"
   ]
  },
  {
   "cell_type": "code",
   "execution_count": null,
   "id": "0581c966",
   "metadata": {},
   "outputs": [],
   "source": [
    "#I personally don't like uppercase "
   ]
  },
  {
   "cell_type": "code",
   "execution_count": 52,
   "id": "6b27aa20",
   "metadata": {},
   "outputs": [],
   "source": [
    "actors.first_name = actors.first_name.apply(lambda X: X.title().replace(' ',''))"
   ]
  },
  {
   "cell_type": "code",
   "execution_count": 53,
   "id": "5d6c7949",
   "metadata": {},
   "outputs": [],
   "source": [
    "actors.last_name = actors.last_name.apply(lambda X: X.title().replace(' ',''))"
   ]
  },
  {
   "cell_type": "code",
   "execution_count": 55,
   "id": "dd7efd13",
   "metadata": {},
   "outputs": [
    {
     "data": {
      "text/html": [
       "<div>\n",
       "<style scoped>\n",
       "    .dataframe tbody tr th:only-of-type {\n",
       "        vertical-align: middle;\n",
       "    }\n",
       "\n",
       "    .dataframe tbody tr th {\n",
       "        vertical-align: top;\n",
       "    }\n",
       "\n",
       "    .dataframe thead th {\n",
       "        text-align: right;\n",
       "    }\n",
       "</style>\n",
       "<table border=\"1\" class=\"dataframe\">\n",
       "  <thead>\n",
       "    <tr style=\"text-align: right;\">\n",
       "      <th></th>\n",
       "      <th>actor_id</th>\n",
       "      <th>first_name</th>\n",
       "      <th>last_name</th>\n",
       "      <th>last_update</th>\n",
       "    </tr>\n",
       "  </thead>\n",
       "  <tbody>\n",
       "    <tr>\n",
       "      <th>0</th>\n",
       "      <td>1</td>\n",
       "      <td>Penelope</td>\n",
       "      <td>Guiness</td>\n",
       "      <td>2006-02-15 04:34:33</td>\n",
       "    </tr>\n",
       "    <tr>\n",
       "      <th>1</th>\n",
       "      <td>2</td>\n",
       "      <td>Nick</td>\n",
       "      <td>Wahlberg</td>\n",
       "      <td>2006-02-15 04:34:33</td>\n",
       "    </tr>\n",
       "    <tr>\n",
       "      <th>2</th>\n",
       "      <td>3</td>\n",
       "      <td>Ed</td>\n",
       "      <td>Chase</td>\n",
       "      <td>2006-02-15 04:34:33</td>\n",
       "    </tr>\n",
       "    <tr>\n",
       "      <th>3</th>\n",
       "      <td>4</td>\n",
       "      <td>Jennifer</td>\n",
       "      <td>Davis</td>\n",
       "      <td>2006-02-15 04:34:33</td>\n",
       "    </tr>\n",
       "    <tr>\n",
       "      <th>4</th>\n",
       "      <td>5</td>\n",
       "      <td>Johnny</td>\n",
       "      <td>Lollobrigida</td>\n",
       "      <td>2006-02-15 04:34:33</td>\n",
       "    </tr>\n",
       "  </tbody>\n",
       "</table>\n",
       "</div>"
      ],
      "text/plain": [
       "   actor_id first_name     last_name         last_update\n",
       "0         1   Penelope       Guiness 2006-02-15 04:34:33\n",
       "1         2       Nick      Wahlberg 2006-02-15 04:34:33\n",
       "2         3         Ed         Chase 2006-02-15 04:34:33\n",
       "3         4   Jennifer         Davis 2006-02-15 04:34:33\n",
       "4         5     Johnny  Lollobrigida 2006-02-15 04:34:33"
      ]
     },
     "execution_count": 55,
     "metadata": {},
     "output_type": "execute_result"
    }
   ],
   "source": [
    "actors.head()"
   ]
  },
  {
   "cell_type": "code",
   "execution_count": 57,
   "id": "03bdd8e8",
   "metadata": {},
   "outputs": [],
   "source": [
    "#let us create a full name column, and place it after last_name \n",
    "\n",
    "actors.insert(3, 'full_name', actors['first_name'] + ' ' + actors['last_name'])"
   ]
  },
  {
   "cell_type": "code",
   "execution_count": 63,
   "id": "4d3bac5c",
   "metadata": {},
   "outputs": [
    {
     "data": {
      "text/plain": [
       "full_name\n",
       "Susan Davis             2\n",
       "Ewan Gooding            1\n",
       "Daryl Crawford          1\n",
       "Greta Keitel            1\n",
       "Jane Jackman            1\n",
       "                       ..\n",
       "Michelle Mcconaughey    1\n",
       "Adam Grant              1\n",
       "Sean Williams           1\n",
       "Gary Penn               1\n",
       "Thora Temple            1\n",
       "Name: count, Length: 199, dtype: int64"
      ]
     },
     "execution_count": 63,
     "metadata": {},
     "output_type": "execute_result"
    }
   ],
   "source": [
    "#now let us see if we have repeated actors \n",
    "\n",
    "actors.full_name.value_counts()"
   ]
  },
  {
   "cell_type": "code",
   "execution_count": 84,
   "id": "9b055951",
   "metadata": {},
   "outputs": [],
   "source": [
    "#actors.full_name.unique()"
   ]
  },
  {
   "cell_type": "code",
   "execution_count": null,
   "id": "b07677b7",
   "metadata": {},
   "outputs": [],
   "source": [
    "#it seems we do have a repeated value. However, there are indeed more than one actress named Susan Davis. \n",
    "#for now I will keep both values, but keep that info in mind as we establish links between the tables\n",
    "\n",
    "'''From chat GPT \n",
    "Susan Davis (born 1943): Known for her roles in films such as \"Three Women\" (1977) and \"Love and Death\" (1975).\n",
    "\n",
    "Susan Davis (born 1944): Known for her role as Betty Munson in the TV series \"The Mary Tyler Moore Show\" (1970-1977) and its spin-off \"Lou Grant\" (1977-1982).'''"
   ]
  },
  {
   "cell_type": "markdown",
   "id": "abbd4587",
   "metadata": {},
   "source": [
    "### Column types and optimization "
   ]
  },
  {
   "cell_type": "markdown",
   "id": "e4fd474b",
   "metadata": {},
   "source": [
    "I will optimize the database for memory "
   ]
  },
  {
   "cell_type": "code",
   "execution_count": 86,
   "id": "42ce6b5f",
   "metadata": {},
   "outputs": [
    {
     "name": "stdout",
     "output_type": "stream",
     "text": [
      "<class 'pandas.core.frame.DataFrame'>\n",
      "RangeIndex: 200 entries, 0 to 199\n",
      "Data columns (total 5 columns):\n",
      " #   Column       Non-Null Count  Dtype         \n",
      "---  ------       --------------  -----         \n",
      " 0   actor_id     200 non-null    int64         \n",
      " 1   first_name   200 non-null    object        \n",
      " 2   last_name    200 non-null    object        \n",
      " 3   full_name    200 non-null    object        \n",
      " 4   last_update  200 non-null    datetime64[ns]\n",
      "dtypes: datetime64[ns](1), int64(1), object(3)\n",
      "memory usage: 41.3 KB\n"
     ]
    }
   ],
   "source": [
    "actors.info(memory_usage='deep')"
   ]
  },
  {
   "cell_type": "code",
   "execution_count": 87,
   "id": "3b41c258",
   "metadata": {},
   "outputs": [],
   "source": [
    "#downcast actor_id\n",
    "\n",
    "actors.actor_id = pd.to_numeric(actors.actor_id, downcast='integer')"
   ]
  },
  {
   "cell_type": "code",
   "execution_count": 88,
   "id": "55f194ef",
   "metadata": {},
   "outputs": [],
   "source": [
    "#name columns to 'category'\n",
    "\n",
    "for c in actors.select_dtypes(include='object'):\n",
    "    \n",
    "    actors[c] = actors[c].astype('category')   "
   ]
  },
  {
   "cell_type": "code",
   "execution_count": 89,
   "id": "146c3c3c",
   "metadata": {},
   "outputs": [],
   "source": [
    "#no need for 'nanoseconds' precision\n",
    "\n",
    "actors.last_update = actors.last_update.astype('datetime64[s]')"
   ]
  },
  {
   "cell_type": "markdown",
   "id": "20d76222",
   "metadata": {},
   "source": [
    "### Comparison output vs. original"
   ]
  },
  {
   "cell_type": "code",
   "execution_count": 90,
   "id": "eaba14a8",
   "metadata": {},
   "outputs": [
    {
     "name": "stdout",
     "output_type": "stream",
     "text": [
      "(200, 4)\n",
      "(200, 5)\n"
     ]
    }
   ],
   "source": [
    "#one additional column as we have created a 'full_name' column \n",
    "\n",
    "print(actorsoriginal.shape)\n",
    "print(actors.shape)"
   ]
  },
  {
   "cell_type": "code",
   "execution_count": 91,
   "id": "d20dc2cf",
   "metadata": {},
   "outputs": [
    {
     "name": "stdout",
     "output_type": "stream",
     "text": [
      "<class 'pandas.core.frame.DataFrame'>\n",
      "RangeIndex: 200 entries, 0 to 199\n",
      "Data columns (total 5 columns):\n",
      " #   Column       Non-Null Count  Dtype        \n",
      "---  ------       --------------  -----        \n",
      " 0   actor_id     200 non-null    int16        \n",
      " 1   first_name   200 non-null    category     \n",
      " 2   last_name    200 non-null    category     \n",
      " 3   full_name    200 non-null    category     \n",
      " 4   last_update  200 non-null    datetime64[s]\n",
      "dtypes: category(3), datetime64[s](1), int16(1)\n",
      "memory usage: 48.1 KB\n"
     ]
    }
   ],
   "source": [
    "actors.info(memory_usage='deep')"
   ]
  },
  {
   "cell_type": "code",
   "execution_count": 92,
   "id": "c89cc1ab",
   "metadata": {},
   "outputs": [
    {
     "name": "stdout",
     "output_type": "stream",
     "text": [
      "<class 'pandas.core.frame.DataFrame'>\n",
      "RangeIndex: 200 entries, 0 to 199\n",
      "Data columns (total 4 columns):\n",
      " #   Column       Non-Null Count  Dtype \n",
      "---  ------       --------------  ----- \n",
      " 0   actor_id     200 non-null    int64 \n",
      " 1   first_name   200 non-null    object\n",
      " 2   last_name    200 non-null    object\n",
      " 3   last_update  200 non-null    object\n",
      "dtypes: int64(1), object(3)\n",
      "memory usage: 41.0 KB\n"
     ]
    }
   ],
   "source": [
    "actorsoriginal.info(memory_usage='deep') #take into account we have included a column"
   ]
  },
  {
   "cell_type": "markdown",
   "id": "40275cff",
   "metadata": {},
   "source": [
    "### Export clean table"
   ]
  },
  {
   "cell_type": "code",
   "execution_count": 93,
   "id": "81a0fe4a",
   "metadata": {},
   "outputs": [],
   "source": [
    "actors.to_csv('/Users/criscarneiro/desktop/ironhack/6_Projects/sql-data-base-building/data/clean/actor_clean.csv', index=False)"
   ]
  }
 ],
 "metadata": {
  "kernelspec": {
   "display_name": "clase",
   "language": "python",
   "name": "clase"
  },
  "language_info": {
   "codemirror_mode": {
    "name": "ipython",
    "version": 3
   },
   "file_extension": ".py",
   "mimetype": "text/x-python",
   "name": "python",
   "nbconvert_exporter": "python",
   "pygments_lexer": "ipython3",
   "version": "3.10.13"
  }
 },
 "nbformat": 4,
 "nbformat_minor": 5
}
